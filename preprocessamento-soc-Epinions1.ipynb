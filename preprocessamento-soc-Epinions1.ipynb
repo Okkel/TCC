{
 "cells": [
  {
   "cell_type": "code",
   "execution_count": 1,
   "metadata": {},
   "outputs": [],
   "source": [
    "import numpy as np\n",
    "import random\n",
    "import networkx as nx\n",
    "import matplotlib.pyplot as plt\n",
    "from scipy.stats import kendalltau\n",
    "from scipy.stats import spearmanr\n",
    "from scipy import stats\n",
    "from sklearn.decomposition import PCA\n",
    "import seaborn as sns\n",
    "import random\n",
    "import sys\n",
    "import copy\n",
    "from igraph import *\n",
    "import time\n",
    "import numpy as np\n",
    "import pickle\n",
    "import numpy as np\n",
    "import matplotlib.pyplot as plt"
   ]
  },
  {
   "cell_type": "code",
   "execution_count": 44,
   "metadata": {},
   "outputs": [],
   "source": [
    "g = Graph.Read_Ncol(\"soc-Epinions1.txt\", directed = True)\n",
    "with open('redes e centralidades/centralidades-soc-Epinions1-picke.txt', 'rb') as f:\n",
    "    centralidade_list = pickle.load(f)"
   ]
  },
  {
   "cell_type": "code",
   "execution_count": 45,
   "metadata": {},
   "outputs": [
    {
     "name": "stdout",
     "output_type": "stream",
     "text": [
      "[0.04057829673950289, 0.029112522733862254, 0.026344922111811067, 0.02585729724030681, 0.022298953583383855, 0.022259416431640266, 0.019966261630512138, 0.018266164105537837, 0.01730409341311052, 0.017014154300324207] \n",
      "\n",
      "[0.016644931968783784, 0.013933385852905496, 0.013674239370466324, 0.013112800117706491, 0.012675819578217184, 0.012570425428405401, 0.011636849291163183, 0.010680049991203231, 0.007825088325682572, 0.007803634437215065] \n",
      "\n",
      "[0.004657194750781488, 0.0028806802935228354, 0.0021545609735657357, 0.002121522479957848, 0.002058821821771401, 0.002035177200610162, 0.0020036756423157677, 0.0015923816594210368, 0.0015263284950160763, 0.0014781820321578413] \n",
      "\n",
      "[0.2885720545129263, 0.2687877488457861, 0.2665230667673981, 0.2654485807095569, 0.2648962044822316, 0.26485278161282527, 0.26471926203043805, 0.2608919480530762, 0.26043744655335876, 0.2590450506987298] \n",
      "\n",
      "[0.13455432897061093, 0.12647049843670377, 0.11655919358441771, 0.11107223372669849, 0.1105597363157683, 0.10549928359541738, 0.10398834767223915, 0.09425110054900843, 0.09361621741176762, 0.09113514804202733] \n",
      "\n",
      "[24357.574999991357, 22229.00634920193, 22033.490873011746, 21992.384523805355, 21945.26587301185, 21827.613095234712, 21777.096825393244, 21450.498015870617, 21413.233333330758, 21388.771825394084] \n",
      "\n",
      "[0.014769555219506259, 0.014032471053731012, 0.01305057808060056, 0.012471539040751354, 0.011997327000579327, 0.011210399050109347, 0.01034734322843154, 0.010168662468202746, 0.007742615698930421, 0.00774107171200795] \n",
      "\n"
     ]
    }
   ],
   "source": [
    "for i in centralidade_list:\n",
    "    \n",
    "    print sorted(i,reverse=True)[:10],'\\n'"
   ]
  },
  {
   "cell_type": "code",
   "execution_count": 46,
   "metadata": {},
   "outputs": [
    {
     "data": {
      "text/plain": [
       "7"
      ]
     },
     "execution_count": 46,
     "metadata": {},
     "output_type": "execute_result"
    }
   ],
   "source": [
    "len(centralidade_list)"
   ]
  },
  {
   "cell_type": "code",
   "execution_count": 47,
   "metadata": {},
   "outputs": [
    {
     "data": {
      "text/plain": [
       "(75879, 7)"
      ]
     },
     "execution_count": 47,
     "metadata": {},
     "output_type": "execute_result"
    }
   ],
   "source": [
    "X = np.array(centralidade_list)\n",
    "X = X.transpose()\n",
    "X[5] = stats.zscore(X[5])\n",
    "\n",
    "# problemas de escala\n",
    "\n",
    "# X = stats.zscore(X)\n",
    "X.shape"
   ]
  },
  {
   "cell_type": "code",
   "execution_count": 48,
   "metadata": {},
   "outputs": [
    {
     "name": "stdout",
     "output_type": "stream",
     "text": [
      "99.9999999999\n",
      "(array([1.]), 1)\n",
      "(array([1720687.13984513]), 1)\n"
     ]
    }
   ],
   "source": [
    "varience_values = []\n",
    "\n",
    "pca = PCA(n_components=1,svd_solver='full')\n",
    "teste = pca.fit_transform(X)\n",
    "explained_varience = pca.explained_variance_ratio_.sum()\n",
    "print(float(pca.explained_variance_ratio_.sum()*100))\n",
    "print(pca.explained_variance_ratio_,len(pca.explained_variance_ratio_))\n",
    "print(pca.singular_values_,len(pca.singular_values_))  "
   ]
  },
  {
   "cell_type": "code",
   "execution_count": 49,
   "metadata": {},
   "outputs": [
    {
     "data": {
      "text/plain": [
       "75879"
      ]
     },
     "execution_count": 49,
     "metadata": {},
     "output_type": "execute_result"
    }
   ],
   "source": [
    "lista_teste = teste.tolist()\n",
    "len(lista_teste)\n",
    "#  a partir daqui é so pegar os index igual no que ja tem\n",
    "pca_values = []\n",
    "for sublist in lista_teste:\n",
    "    for item in sublist:\n",
    "        pca_values.append(item)\n",
    "        \n",
    "len(pca_values)\n",
    "# print(flat_list[:50])"
   ]
  },
  {
   "cell_type": "code",
   "execution_count": 50,
   "metadata": {},
   "outputs": [
    {
     "data": {
      "text/plain": [
       "(75879, 8)"
      ]
     },
     "execution_count": 50,
     "metadata": {},
     "output_type": "execute_result"
    }
   ],
   "source": [
    "a = np.array(pca_values)\n",
    "a = a.reshape(len(a),1)\n",
    "X = np.append(X,a,axis=1)\n",
    "X.shape"
   ]
  },
  {
   "cell_type": "code",
   "execution_count": 51,
   "metadata": {},
   "outputs": [
    {
     "data": {
      "text/plain": [
       "['0_grau',\n",
       " '1_betweennes',\n",
       " '2_pagerank',\n",
       " '3_closeness',\n",
       " '4_eigenvector_centrality',\n",
       " '5_harmonic_centrality',\n",
       " '6_load_centrality',\n",
       " '7_PCA_all(0-6)']"
      ]
     },
     "execution_count": 51,
     "metadata": {},
     "output_type": "execute_result"
    }
   ],
   "source": [
    "labels_medidas = ['0_grau','1_betweennes','2_pagerank','3_closeness','4_eigenvector_centrality','5_harmonic_centrality','6_load_centrality','7_PCA_all(0-6)']\n",
    "labels_medidas"
   ]
  },
  {
   "cell_type": "code",
   "execution_count": 52,
   "metadata": {},
   "outputs": [],
   "source": [
    "#  A partir daqui analise de correlacao entre as medidas"
   ]
  },
  {
   "cell_type": "code",
   "execution_count": 53,
   "metadata": {},
   "outputs": [],
   "source": [
    "def calcula_PCA(matrix,col1,col2): # pca entre duas colunas\n",
    "    vindex = [i for i in range(g.vcount())]\n",
    "    \n",
    "    Y = np.array([matrix[:,col1],matrix[:,col2]])\n",
    "    Y = Y.transpose()\n",
    "#     print (Y.shape)\n",
    "#     print (Y,type(Y),type(Y[0]),len(Y[0]))\n",
    "    \n",
    "    pca = PCA(n_components=1,svd_solver='full')\n",
    "    teste = pca.fit_transform(Y)\n",
    "    explained_varience = pca.explained_variance_ratio_.sum()\n",
    "    print(float(pca.explained_variance_ratio_.sum()*100))\n",
    "    lista_teste = teste.tolist()\n",
    "    flat_list = []\n",
    "    for sublist in lista_teste:\n",
    "        for item in sublist:\n",
    "            flat_list.append(item)\n",
    "    aflat, seeds_PCA = (list(x) for x in zip(*sorted(zip(flat_list, vindex), reverse=True)))\n",
    "    return (seeds_PCA,np.array(flat_list))"
   ]
  },
  {
   "cell_type": "code",
   "execution_count": 63,
   "metadata": {},
   "outputs": [],
   "source": [
    "def calcKendall(matrix):\n",
    "    matrix_kendall = []\n",
    "    for i in range(matrix.shape[1]):\n",
    "        kend = []\n",
    "        for j in range(matrix.shape[1]):\n",
    "            tau, p_value = kendalltau(matrix[:,i],matrix[:,j])\n",
    "            kend.append(tau)\n",
    "        matrix_kendall.append(kend)\n",
    "    matrix_kendall = np.array(matrix_kendall)\n",
    "    return(matrix_kendall)"
   ]
  },
  {
   "cell_type": "code",
   "execution_count": 64,
   "metadata": {},
   "outputs": [
    {
     "data": {
      "image/png": "[encoded data removed]",
      "text/plain": [
       "<Figure size 432x288 with 2 Axes>"
      ]
     },
     "metadata": {},
     "output_type": "display_data"
    }
   ],
   "source": [
    "corr = calcKendall(X)\n",
    "# sns.heatmap(,xticklabels=labels,yticklabels=labels,linewidths=.5)\n",
    "mask = np.zeros_like(corr)\n",
    "mask[np.triu_indices_from(mask)] = True\n",
    "with sns.axes_style(\"white\"):\n",
    "    ax = sns.heatmap(corr, mask=mask,square=True,xticklabels=labels_medidas,yticklabels=labels_medidas,linewidths=.5)"
   ]
  },
  {
   "cell_type": "code",
   "execution_count": 65,
   "metadata": {},
   "outputs": [
    {
     "data": {
      "image/png": "[encoded data removed]",
      "text/plain": [
       "<Figure size 432x288 with 2 Axes>"
      ]
     },
     "metadata": {},
     "output_type": "display_data"
    }
   ],
   "source": [
    "corr = calcKendall(X)\n",
    "# sns.heatmap(,xticklabels=labels,yticklabels=labels,linewidths=.5)\n",
    "mask = np.zeros_like(corr)\n",
    "mask[np.triu_indices_from(mask)] = True\n",
    "with sns.axes_style(\"white\"):\n",
    "    ax = sns.heatmap(corr, vmin=.8,mask=mask,square=True,xticklabels=labels_medidas,yticklabels=labels_medidas,linewidths=.5)"
   ]
  },
  {
   "cell_type": "code",
   "execution_count": 66,
   "metadata": {},
   "outputs": [
    {
     "data": {
      "image/png": "[encoded data removed]",
      "text/plain": [
       "<Figure size 432x288 with 2 Axes>"
      ]
     },
     "metadata": {},
     "output_type": "display_data"
    }
   ],
   "source": [
    "corr = calcKendall(X)\n",
    "# sns.heatmap(,xticklabels=labels,yticklabels=labels,linewidths=.5)\n",
    "mask = np.zeros_like(corr)\n",
    "mask[np.triu_indices_from(mask)] = True\n",
    "with sns.axes_style(\"white\"):\n",
    "    ax = sns.heatmap(corr, vmax = .6,mask=mask,square=True,xticklabels=labels_medidas,yticklabels=labels_medidas,linewidths=.5)"
   ]
  },
  {
   "cell_type": "code",
   "execution_count": 67,
   "metadata": {},
   "outputs": [],
   "source": [
    "matrix_teste = X"
   ]
  },
  {
   "cell_type": "code",
   "execution_count": 68,
   "metadata": {},
   "outputs": [
    {
     "name": "stdout",
     "output_type": "stream",
     "text": [
      "99.9975067587\n",
      "99.7699334952\n",
      "100.0\n",
      "100.0\n"
     ]
    }
   ],
   "source": [
    "# Alta correlacao SOC-Epinions\n",
    "\n",
    "c_1_6 = calcula_PCA(matrix_teste,1,6)\n",
    "c_3_4 = calcula_PCA(matrix_teste,3,4)\n",
    "c_3_5 = calcula_PCA(matrix_teste,3,5)\n",
    "c_4_5 = calcula_PCA(matrix_teste,4,5)"
   ]
  },
  {
   "cell_type": "code",
   "execution_count": 69,
   "metadata": {},
   "outputs": [
    {
     "name": "stdout",
     "output_type": "stream",
     "text": [
      "99.9584882856\n",
      "92.1018010807\n",
      "100.0\n",
      "99.9646358969\n",
      "89.8631003511\n",
      "100.0\n"
     ]
    }
   ],
   "source": [
    "# Baixa correlacao SOC-Epinions\n",
    "\n",
    "c_0_3 = calcula_PCA(matrix_teste,0,3)\n",
    "c_0_4 = calcula_PCA(matrix_teste,0,4)\n",
    "c_0_5 = calcula_PCA(matrix_teste,0,5)\n",
    "\n",
    "c_1_3 = calcula_PCA(matrix_teste,1,3)\n",
    "c_1_4 = calcula_PCA(matrix_teste,1,4)\n",
    "c_1_5 = calcula_PCA(matrix_teste,1,5)"
   ]
  },
  {
   "cell_type": "code",
   "execution_count": 70,
   "metadata": {},
   "outputs": [
    {
     "data": {
      "text/plain": [
       "(75879, 18)"
      ]
     },
     "execution_count": 70,
     "metadata": {},
     "output_type": "execute_result"
    }
   ],
   "source": [
    "#  adicionando na matrix temporaria SOC-Epinions\n",
    "\n",
    "matrix_teste = np.hstack((matrix_teste, np.array([c_1_6[1]]).transpose()))\n",
    "matrix_teste = np.hstack((matrix_teste, np.array([c_3_4[1]]).transpose()))\n",
    "matrix_teste = np.hstack((matrix_teste, np.array([c_3_5[1]]).transpose()))\n",
    "matrix_teste = np.hstack((matrix_teste, np.array([c_4_5[1]]).transpose()))\n",
    "\n",
    "matrix_teste = np.hstack((matrix_teste, np.array([c_0_3[1]]).transpose()))\n",
    "matrix_teste = np.hstack((matrix_teste, np.array([c_0_4[1]]).transpose()))\n",
    "matrix_teste = np.hstack((matrix_teste, np.array([c_0_5[1]]).transpose()))\n",
    "\n",
    "matrix_teste = np.hstack((matrix_teste, np.array([c_1_3[1]]).transpose()))\n",
    "matrix_teste = np.hstack((matrix_teste, np.array([c_1_4[1]]).transpose()))\n",
    "matrix_teste = np.hstack((matrix_teste, np.array([c_1_5[1]]).transpose()))\n",
    "matrix_teste.shape"
   ]
  },
  {
   "cell_type": "code",
   "execution_count": 71,
   "metadata": {},
   "outputs": [],
   "source": [
    "# olhando correlacao das novas medidas da matrix teste"
   ]
  },
  {
   "cell_type": "code",
   "execution_count": 72,
   "metadata": {},
   "outputs": [],
   "source": [
    "# Soc-Epinions\n",
    "labels = ['0_grau','1_betweennes','2_pagerank','3_closeness','4_eigenvector_centrality','5_harmonic_centrality','6_load_centrality','7_PCA_all','16','34','35','45','03','04','05','13','14','15']"
   ]
  },
  {
   "cell_type": "code",
   "execution_count": 73,
   "metadata": {},
   "outputs": [
    {
     "data": {
      "image/png": "[encoded data removed]",
      "text/plain": [
       "<Figure size 720x504 with 2 Axes>"
      ]
     },
     "metadata": {
      "needs_background": "light"
     },
     "output_type": "display_data"
    }
   ],
   "source": [
    "# \n",
    "a = plt.figure(figsize=(10,7))\n",
    "corr = calcKendall(matrix_teste)\n",
    "mask = np.zeros_like(corr)\n",
    "mask[np.triu_indices_from(mask)] = True\n",
    "with sns.axes_style(\"white\"):\n",
    "    ax = sns.heatmap(corr, mask=mask,square=True,xticklabels=labels,yticklabels=labels,linewidths=.5)"
   ]
  },
  {
   "cell_type": "code",
   "execution_count": 74,
   "metadata": {},
   "outputs": [],
   "source": [
    "import pandas as pd\n"
   ]
  },
  {
   "cell_type": "code",
   "execution_count": 75,
   "metadata": {},
   "outputs": [],
   "source": [
    "vindex = [i for i in range(g.vcount())]\n",
    "\n",
    "my_list = X\n",
    "### my_list[0] = grau\n",
    "### my_list[1] = betweenness\n",
    "### my_list[2] = pagerank\n",
    "### my_list[3] = closeness\n",
    "### my_list[4] = eigenvector_centrality\n",
    "### my_list[5] = harmonic_centrality\n",
    "### my_list[6] = load_centrality \n",
    "### my_list[7] = PCA_all\n",
    "### ...etc\n",
    "aflat, seeds_grau = (list(x) for x in zip(*sorted(zip(my_list[:,0], vindex), reverse=True)))\n",
    "aflat, seeds_betweennes = (list(x) for x in zip(*sorted(zip(my_list[:,1], vindex), reverse=True)))\n",
    "aflat, seeds_pagerank = (list(x) for x in zip(*sorted(zip(my_list[:,2], vindex), reverse=True)))\n",
    "aflat, seeds_closeness = (list(x) for x in zip(*sorted(zip(my_list[:,3], vindex), reverse=True)))\n",
    "aflat, seeds_eigenvector_centrality = (list(x) for x in zip(*sorted(zip(my_list[:,4], vindex), reverse=True)))\n",
    "aflat, seeds_harmonic_centrality = (list(x) for x in zip(*sorted(zip(my_list[:,5], vindex), reverse=True)))\n",
    "aflat, seeds_load_centrality = (list(x) for x in zip(*sorted(zip(my_list[:,6], vindex), reverse=True)))\n",
    "aflat, seeds_PCA = (list(x) for x in zip(*sorted(zip(pca_values, vindex), reverse=True)))\n"
   ]
  },
  {
   "cell_type": "code",
   "execution_count": 76,
   "metadata": {},
   "outputs": [],
   "source": [
    "d = {'0_grau' : seeds_grau[:100],'1_betweennes':seeds_betweennes[:100],\n",
    "     '2_pagerank' :seeds_pagerank[:100],'3_closeness':seeds_closeness[:100],\n",
    "     '4_eigenvector_centrality':seeds_eigenvector_centrality[:100],'5_harmonic_centrality':seeds_harmonic_centrality[:100],\n",
    "     '6_load_centrality':seeds_load_centrality[:100],'7_PCA_all':seeds_PCA[:100],\n",
    "     'm_1_6':c_1_6[0][:100],\n",
    "     'm_34':c_3_4[0][:100],'m_35':c_3_5[0][:100],\n",
    "     'm_45':c_4_5[0][:100],\n",
    "     'm_03':c_0_3[0][:100],\n",
    "     'm_04':c_0_4[0][:100],'m_05':c_0_5[0][:100],\n",
    "     'm_13':c_1_3[0][:100],\n",
    "     'm_14':c_1_4[0][:100],'m_15':c_1_5[0][:100]}"
   ]
  },
  {
   "cell_type": "code",
   "execution_count": 77,
   "metadata": {},
   "outputs": [
    {
     "data": {
      "text/html": [
       "<div>\n",
       "<style scoped>\n",
       "    .dataframe tbody tr th:only-of-type {\n",
       "        vertical-align: middle;\n",
       "    }\n",
       "\n",
       "    .dataframe tbody tr th {\n",
       "        vertical-align: top;\n",
       "    }\n",
       "\n",
       "    .dataframe thead th {\n",
       "        text-align: right;\n",
       "    }\n",
       "</style>\n",
       "<table border=\"1\" class=\"dataframe\">\n",
       "  <thead>\n",
       "    <tr style=\"text-align: right;\">\n",
       "      <th></th>\n",
       "      <th>0_grau</th>\n",
       "      <th>1_betweennes</th>\n",
       "      <th>2_pagerank</th>\n",
       "      <th>3_closeness</th>\n",
       "      <th>4_eigenvector_centrality</th>\n",
       "      <th>5_harmonic_centrality</th>\n",
       "      <th>6_load_centrality</th>\n",
       "      <th>7_PCA_all</th>\n",
       "      <th>m_03</th>\n",
       "      <th>m_04</th>\n",
       "      <th>m_05</th>\n",
       "      <th>m_13</th>\n",
       "      <th>m_14</th>\n",
       "      <th>m_15</th>\n",
       "      <th>m_1_6</th>\n",
       "      <th>m_34</th>\n",
       "      <th>m_35</th>\n",
       "      <th>m_45</th>\n",
       "    </tr>\n",
       "  </thead>\n",
       "  <tbody>\n",
       "    <tr>\n",
       "      <th>0</th>\n",
       "      <td>14</td>\n",
       "      <td>40</td>\n",
       "      <td>14</td>\n",
       "      <td>14</td>\n",
       "      <td>14</td>\n",
       "      <td>14</td>\n",
       "      <td>40</td>\n",
       "      <td>14</td>\n",
       "      <td>5</td>\n",
       "      <td>5</td>\n",
       "      <td>14</td>\n",
       "      <td>5</td>\n",
       "      <td>5</td>\n",
       "      <td>14</td>\n",
       "      <td>5</td>\n",
       "      <td>5</td>\n",
       "      <td>14</td>\n",
       "      <td>14</td>\n",
       "    </tr>\n",
       "    <tr>\n",
       "      <th>1</th>\n",
       "      <td>363</td>\n",
       "      <td>1677</td>\n",
       "      <td>185</td>\n",
       "      <td>185</td>\n",
       "      <td>150</td>\n",
       "      <td>185</td>\n",
       "      <td>1677</td>\n",
       "      <td>185</td>\n",
       "      <td>75878</td>\n",
       "      <td>75878</td>\n",
       "      <td>185</td>\n",
       "      <td>75878</td>\n",
       "      <td>75878</td>\n",
       "      <td>185</td>\n",
       "      <td>75878</td>\n",
       "      <td>75878</td>\n",
       "      <td>185</td>\n",
       "      <td>185</td>\n",
       "    </tr>\n",
       "    <tr>\n",
       "      <th>2</th>\n",
       "      <td>1867</td>\n",
       "      <td>1867</td>\n",
       "      <td>529</td>\n",
       "      <td>132</td>\n",
       "      <td>157</td>\n",
       "      <td>530</td>\n",
       "      <td>1867</td>\n",
       "      <td>530</td>\n",
       "      <td>75877</td>\n",
       "      <td>75877</td>\n",
       "      <td>530</td>\n",
       "      <td>75877</td>\n",
       "      <td>75877</td>\n",
       "      <td>530</td>\n",
       "      <td>75877</td>\n",
       "      <td>75877</td>\n",
       "      <td>530</td>\n",
       "      <td>530</td>\n",
       "    </tr>\n",
       "    <tr>\n",
       "      <th>3</th>\n",
       "      <td>1677</td>\n",
       "      <td>697</td>\n",
       "      <td>230</td>\n",
       "      <td>230</td>\n",
       "      <td>185</td>\n",
       "      <td>132</td>\n",
       "      <td>697</td>\n",
       "      <td>132</td>\n",
       "      <td>75875</td>\n",
       "      <td>75875</td>\n",
       "      <td>132</td>\n",
       "      <td>75876</td>\n",
       "      <td>75876</td>\n",
       "      <td>132</td>\n",
       "      <td>75876</td>\n",
       "      <td>75876</td>\n",
       "      <td>132</td>\n",
       "      <td>132</td>\n",
       "    </tr>\n",
       "    <tr>\n",
       "      <th>4</th>\n",
       "      <td>530</td>\n",
       "      <td>363</td>\n",
       "      <td>114</td>\n",
       "      <td>530</td>\n",
       "      <td>30</td>\n",
       "      <td>230</td>\n",
       "      <td>363</td>\n",
       "      <td>230</td>\n",
       "      <td>75874</td>\n",
       "      <td>75874</td>\n",
       "      <td>230</td>\n",
       "      <td>75875</td>\n",
       "      <td>75875</td>\n",
       "      <td>230</td>\n",
       "      <td>75875</td>\n",
       "      <td>75875</td>\n",
       "      <td>230</td>\n",
       "      <td>230</td>\n",
       "    </tr>\n",
       "  </tbody>\n",
       "</table>\n",
       "</div>"
      ],
      "text/plain": [
       "   0_grau  1_betweennes  2_pagerank  3_closeness  4_eigenvector_centrality  \\\n",
       "0      14            40          14           14                        14   \n",
       "1     363          1677         185          185                       150   \n",
       "2    1867          1867         529          132                       157   \n",
       "3    1677           697         230          230                       185   \n",
       "4     530           363         114          530                        30   \n",
       "\n",
       "   5_harmonic_centrality  6_load_centrality  7_PCA_all   m_03   m_04  m_05  \\\n",
       "0                     14                 40         14      5      5    14   \n",
       "1                    185               1677        185  75878  75878   185   \n",
       "2                    530               1867        530  75877  75877   530   \n",
       "3                    132                697        132  75875  75875   132   \n",
       "4                    230                363        230  75874  75874   230   \n",
       "\n",
       "    m_13   m_14  m_15  m_1_6   m_34  m_35  m_45  \n",
       "0      5      5    14      5      5    14    14  \n",
       "1  75878  75878   185  75878  75878   185   185  \n",
       "2  75877  75877   530  75877  75877   530   530  \n",
       "3  75876  75876   132  75876  75876   132   132  \n",
       "4  75875  75875   230  75875  75875   230   230  "
      ]
     },
     "execution_count": 77,
     "metadata": {},
     "output_type": "execute_result"
    }
   ],
   "source": [
    "df = pd.DataFrame(data=d)\n",
    "df.head()"
   ]
  },
  {
   "cell_type": "code",
   "execution_count": 78,
   "metadata": {},
   "outputs": [],
   "source": [
    "s = [seeds_grau[:50],seeds_betweennes[:50],\n",
    "    seeds_pagerank[:50],seeds_closeness[:50],\n",
    "    seeds_eigenvector_centrality[:50],seeds_harmonic_centrality[:50],\n",
    "    seeds_load_centrality[:50],seeds_PCA[:50],c_1_6[0][:50],\n",
    "    c_3_4[0][:50],c_3_5[0][:50],c_4_5[0][:50], \n",
    "    c_0_3[0][:50],c_0_4[0][:50],\n",
    "    c_0_5[0][:50],\n",
    "    c_1_3[0][:50],c_1_4[0][:50],\n",
    "    c_1_5[0][:50]]\n",
    "with open('sementes-SOC-Epinions.txt', 'wb') as f:\n",
    "    pickle.dump(s, f)"
   ]
  },
  {
   "cell_type": "code",
   "execution_count": null,
   "metadata": {},
   "outputs": [],
   "source": []
  },
  {
   "cell_type": "code",
   "execution_count": null,
   "metadata": {},
   "outputs": [],
   "source": []
  }
 ],
 "metadata": {
  "kernelspec": {
   "display_name": "Python 2",
   "language": "python",
   "name": "python2"
  },
  "language_info": {
   "codemirror_mode": {
    "name": "ipython",
    "version": 2
   },
   "file_extension": ".py",
   "mimetype": "text/x-python",
   "name": "python",
   "nbconvert_exporter": "python",
   "pygments_lexer": "ipython2",
   "version": "2.7.12"
  }
 },
 "nbformat": 4,
 "nbformat_minor": 2
}
