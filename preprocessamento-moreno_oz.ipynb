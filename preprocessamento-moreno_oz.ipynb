{
 "cells": [
  {
   "cell_type": "code",
   "execution_count": 17,
   "metadata": {},
   "outputs": [],
   "source": [
    "import numpy as np\n",
    "import random\n",
    "import networkx as nx\n",
    "import matplotlib.pyplot as plt\n",
    "from scipy.stats import kendalltau\n",
    "from scipy.stats import spearmanr\n",
    "from scipy import stats\n",
    "from sklearn.decomposition import PCA\n",
    "import seaborn as sns\n",
    "import random\n",
    "import sys\n",
    "import copy\n",
    "from igraph import *\n",
    "import time\n",
    "import numpy as np\n",
    "import pickle\n",
    "import numpy as np\n",
    "import matplotlib.pyplot as plt"
   ]
  },
  {
   "cell_type": "code",
   "execution_count": 18,
   "metadata": {},
   "outputs": [],
   "source": [
    "g = Graph.Read_Ncol(\"moreno_oz\", directed = False)\n",
    "with open('redes e centralidades/centralidades-moreno_oz-picke.txt', 'rb') as f:\n",
    "    centralidade_list = pickle.load(f)"
   ]
  },
  {
   "cell_type": "code",
   "execution_count": 19,
   "metadata": {},
   "outputs": [
    {
     "name": "stdout",
     "output_type": "stream",
     "text": [
      "[0.37037037037037035, 0.3333333333333333, 0.2638888888888889, 0.2222222222222222, 0.2222222222222222, 0.21296296296296297, 0.21296296296296297, 0.20833333333333331, 0.2037037037037037, 0.2037037037037037] \n",
      "\n",
      "[0.07422590528432259, 0.04293348021862643, 0.03680083182722905, 0.03549312384234316, 0.035380564419383115, 0.030394204206260156, 0.0298511614259532, 0.027149305601897336, 0.026635509062699094, 0.025561156977727723] \n",
      "\n",
      "[0.011552349957999487, 0.010623947843228402, 0.010423508582099644, 0.010342983912884268, 0.009640856107951852, 0.009301631680085161, 0.00903778164565186, 0.00903546862795441, 0.008855053248427034, 0.008811430143799622] \n",
      "\n",
      "[0.4703398453398453, 0.461216874201788, 0.4495895580454404, 0.44864702228433884, 0.4449160699160699, 0.4439930075303519, 0.44124665903016413, 0.4403387440938881, 0.4358546428302029, 0.4340864698369769] \n",
      "\n",
      "[0.22374922053850713, 0.21957263024058915, 0.2020437186493784, 0.1934297893710101, 0.18419480512379177, 0.1750069007646312, 0.16702168904837977, 0.15686809170782082, 0.15400038938359165, 0.15304372644191228] \n",
      "\n",
      "[113.3333333333333, 112.41666666666657, 109.99999999999996, 107.91666666666664, 107.24999999999996, 107.08333333333329, 106.99999999999994, 106.66666666666661, 106.08333333333333, 105.99999999999991] \n",
      "\n",
      "[0.07055752790299431, 0.04176280693332177, 0.03668163666044068, 0.03544789358118038, 0.03470037457934809, 0.03178631542089373, 0.02900406032951131, 0.028109026792100485, 0.0264747079972282, 0.02596746915711604] \n",
      "\n"
     ]
    }
   ],
   "source": [
    "for i in centralidade_list:\n",
    "    \n",
    "    print sorted(i,reverse=True)[:10],'\\n'"
   ]
  },
  {
   "cell_type": "code",
   "execution_count": 20,
   "metadata": {},
   "outputs": [
    {
     "data": {
      "text/plain": [
       "7"
      ]
     },
     "execution_count": 20,
     "metadata": {},
     "output_type": "execute_result"
    }
   ],
   "source": [
    "len(centralidade_list)"
   ]
  },
  {
   "cell_type": "code",
   "execution_count": 21,
   "metadata": {},
   "outputs": [
    {
     "data": {
      "text/plain": [
       "(217, 7)"
      ]
     },
     "execution_count": 21,
     "metadata": {},
     "output_type": "execute_result"
    }
   ],
   "source": [
    "X = np.array(centralidade_list)\n",
    "X = X.transpose()\n",
    "X[5] = stats.zscore(X[5])\n",
    "\n",
    "# problemas de escala\n",
    "\n",
    "# X = stats.zscore(X)\n",
    "X.shape"
   ]
  },
  {
   "cell_type": "code",
   "execution_count": 22,
   "metadata": {},
   "outputs": [
    {
     "name": "stdout",
     "output_type": "stream",
     "text": [
      "99.9973177333\n",
      "(array([0.99997318]), 1)\n",
      "(array([218.2669738]), 1)\n"
     ]
    }
   ],
   "source": [
    "varience_values = []\n",
    "\n",
    "pca = PCA(n_components=1,svd_solver='full')\n",
    "teste = pca.fit_transform(X)\n",
    "explained_varience = pca.explained_variance_ratio_.sum()\n",
    "print(float(pca.explained_variance_ratio_.sum()*100))\n",
    "print(pca.explained_variance_ratio_,len(pca.explained_variance_ratio_))\n",
    "print(pca.singular_values_,len(pca.singular_values_))  "
   ]
  },
  {
   "cell_type": "code",
   "execution_count": 23,
   "metadata": {},
   "outputs": [
    {
     "data": {
      "text/plain": [
       "217"
      ]
     },
     "execution_count": 23,
     "metadata": {},
     "output_type": "execute_result"
    }
   ],
   "source": [
    "lista_teste = teste.tolist()\n",
    "len(lista_teste)\n",
    "#  a partir daqui é so pegar os index igual no que ja tem\n",
    "pca_values = []\n",
    "for sublist in lista_teste:\n",
    "    for item in sublist:\n",
    "        pca_values.append(item)\n",
    "        \n",
    "len(pca_values)\n",
    "# print(flat_list[:50])"
   ]
  },
  {
   "cell_type": "code",
   "execution_count": 8,
   "metadata": {},
   "outputs": [
    {
     "data": {
      "text/plain": [
       "(217, 8)"
      ]
     },
     "execution_count": 8,
     "metadata": {},
     "output_type": "execute_result"
    }
   ],
   "source": [
    "a = np.array(pca_values)\n",
    "a = a.reshape(len(a),1)\n",
    "X = np.append(X,a,axis=1)\n",
    "X.shape"
   ]
  },
  {
   "cell_type": "code",
   "execution_count": 9,
   "metadata": {},
   "outputs": [
    {
     "data": {
      "text/plain": [
       "['0_grau',\n",
       " '1_betweennes',\n",
       " '2_pagerank',\n",
       " '3_closeness',\n",
       " '4_eigenvector_centrality',\n",
       " '5_harmonic_centrality',\n",
       " '6_load_centrality',\n",
       " '7_PCA_all(0-6)']"
      ]
     },
     "execution_count": 9,
     "metadata": {},
     "output_type": "execute_result"
    }
   ],
   "source": [
    "labels_medidas = ['0_grau','1_betweennes','2_pagerank','3_closeness','4_eigenvector_centrality','5_harmonic_centrality','6_load_centrality','7_PCA_all(0-6)']\n",
    "labels_medidas"
   ]
  },
  {
   "cell_type": "code",
   "execution_count": 10,
   "metadata": {},
   "outputs": [],
   "source": [
    "#  A partir daqui analise de correlacao entre as medidas"
   ]
  },
  {
   "cell_type": "code",
   "execution_count": 24,
   "metadata": {},
   "outputs": [],
   "source": [
    "def calcula_PCA(matrix,col1,col2): # pca entre duas colunas\n",
    "    vindex = [i for i in range(g.vcount())]\n",
    "    \n",
    "    Y = np.array([matrix[:,col1],matrix[:,col2]])\n",
    "    Y = Y.transpose()\n",
    "#     print (Y.shape)\n",
    "#     print (Y,type(Y),type(Y[0]),len(Y[0]))\n",
    "    \n",
    "    pca = PCA(n_components=1,svd_solver='full')\n",
    "    teste = pca.fit_transform(Y)\n",
    "    explained_varience = pca.explained_variance_ratio_.sum()\n",
    "    print(float(pca.explained_variance_ratio_.sum()*100))\n",
    "    lista_teste = teste.tolist()\n",
    "    flat_list = []\n",
    "    for sublist in lista_teste:\n",
    "        for item in sublist:\n",
    "            flat_list.append(item)\n",
    "    aflat, seeds_PCA = (list(x) for x in zip(*sorted(zip(flat_list, vindex), reverse=True)))\n",
    "    return (seeds_PCA,np.array(flat_list))"
   ]
  },
  {
   "cell_type": "code",
   "execution_count": 25,
   "metadata": {},
   "outputs": [],
   "source": [
    "def calcKendall(matrix):\n",
    "    matrix_kendall = []\n",
    "    for i in range(matrix.shape[1]):\n",
    "        kend = []\n",
    "        for j in range(matrix.shape[1]):\n",
    "            tau, p_value = kendalltau(matrix[:,i],matrix[:,j])\n",
    "            kend.append(tau)\n",
    "        matrix_kendall.append(kend)\n",
    "    matrix_kendall = np.array(matrix_kendall)\n",
    "    return(matrix_kendall)"
   ]
  },
  {
   "cell_type": "code",
   "execution_count": 26,
   "metadata": {},
   "outputs": [
    {
     "data": {
      "image/png": "[encoded data removed]",
      "text/plain": [
       "<Figure size 432x288 with 2 Axes>"
      ]
     },
     "metadata": {},
     "output_type": "display_data"
    }
   ],
   "source": [
    "corr = calcKendall(X)\n",
    "# sns.heatmap(,xticklabels=labels,yticklabels=labels,linewidths=.5)\n",
    "mask = np.zeros_like(corr)\n",
    "mask[np.triu_indices_from(mask)] = True\n",
    "with sns.axes_style(\"white\"):\n",
    "    ax = sns.heatmap(corr, mask=mask,square=True,xticklabels=labels_medidas,yticklabels=labels_medidas,linewidths=.5)"
   ]
  },
  {
   "cell_type": "code",
   "execution_count": 31,
   "metadata": {},
   "outputs": [
    {
     "data": {
      "image/png": "[encoded data removed]",
      "text/plain": [
       "<Figure size 432x288 with 2 Axes>"
      ]
     },
     "metadata": {},
     "output_type": "display_data"
    }
   ],
   "source": [
    "corr = calcKendall(X)\n",
    "# sns.heatmap(,xticklabels=labels,yticklabels=labels,linewidths=.5)\n",
    "mask = np.zeros_like(corr)\n",
    "mask[np.triu_indices_from(mask)] = True\n",
    "with sns.axes_style(\"white\"):\n",
    "    ax = sns.heatmap(corr, vmin=.7,mask=mask,square=True,xticklabels=labels_medidas,yticklabels=labels_medidas,linewidths=.5)"
   ]
  },
  {
   "cell_type": "code",
   "execution_count": 34,
   "metadata": {},
   "outputs": [
    {
     "data": {
      "image/png": "[encoded data removed]",
      "text/plain": [
       "<Figure size 432x288 with 2 Axes>"
      ]
     },
     "metadata": {},
     "output_type": "display_data"
    }
   ],
   "source": [
    "corr = calcKendall(X)\n",
    "# sns.heatmap(,xticklabels=labels,yticklabels=labels,linewidths=.5)\n",
    "mask = np.zeros_like(corr)\n",
    "mask[np.triu_indices_from(mask)] = True\n",
    "with sns.axes_style(\"white\"):\n",
    "    ax = sns.heatmap(corr, vmax = .5,mask=mask,square=True,xticklabels=labels_medidas,yticklabels=labels_medidas,linewidths=.5)"
   ]
  },
  {
   "cell_type": "code",
   "execution_count": 31,
   "metadata": {},
   "outputs": [],
   "source": [
    "matrix_teste = X"
   ]
  },
  {
   "cell_type": "code",
   "execution_count": 32,
   "metadata": {},
   "outputs": [
    {
     "name": "stdout",
     "output_type": "stream",
     "text": [
      "99.9935325757\n",
      "99.9996626347\n"
     ]
    }
   ],
   "source": [
    "# Alta correlacao moreno_oz\n",
    "\n",
    "c_1_6 = calcula_PCA(matrix_teste,1,6)\n",
    "c_3_5 = calcula_PCA(matrix_teste,3,5)\n"
   ]
  },
  {
   "cell_type": "code",
   "execution_count": 33,
   "metadata": {},
   "outputs": [
    {
     "name": "stdout",
     "output_type": "stream",
     "text": [
      "98.2075425181\n",
      "94.7080101312\n",
      "88.066666984\n",
      "99.9996991305\n"
     ]
    }
   ],
   "source": [
    "# Baixa correlacao moreno_oz\n",
    "c_1_2 = calcula_PCA(matrix_teste,1,2)\n",
    "c_1_3 = calcula_PCA(matrix_teste,1,3)\n",
    "c_1_4 = calcula_PCA(matrix_teste,1,4)\n",
    "c_1_5 = calcula_PCA(matrix_teste,1,5)\n",
    "\n"
   ]
  },
  {
   "cell_type": "code",
   "execution_count": 34,
   "metadata": {},
   "outputs": [
    {
     "data": {
      "text/plain": [
       "(217, 14)"
      ]
     },
     "execution_count": 34,
     "metadata": {},
     "output_type": "execute_result"
    }
   ],
   "source": [
    "#  adicionando na matrix temporaria moreno_oz\n",
    "matrix_teste = np.hstack((matrix_teste, np.array([c_1_6[1]]).transpose()))\n",
    "matrix_teste = np.hstack((matrix_teste, np.array([c_3_5[1]]).transpose()))\n",
    "matrix_teste = np.hstack((matrix_teste, np.array([c_1_2[1]]).transpose()))\n",
    "matrix_teste = np.hstack((matrix_teste, np.array([c_1_3[1]]).transpose()))\n",
    "matrix_teste = np.hstack((matrix_teste, np.array([c_1_4[1]]).transpose()))\n",
    "matrix_teste = np.hstack((matrix_teste, np.array([c_1_5[1]]).transpose()))\n",
    "matrix_teste.shape\n",
    "\n"
   ]
  },
  {
   "cell_type": "code",
   "execution_count": 36,
   "metadata": {},
   "outputs": [],
   "source": [
    "# olhando correlacao das novas medidas da matrix teste"
   ]
  },
  {
   "cell_type": "code",
   "execution_count": 37,
   "metadata": {},
   "outputs": [],
   "source": [
    "# Ca-GRQC\n",
    "labels = ['0_grau','1_betweennes','2_pagerank','3_closeness','4_eigenvector_centrality','5_harmonic_centrality','6_load_centrality','7_PCA_all','16','35','12','13','14','15']\n",
    "\n"
   ]
  },
  {
   "cell_type": "code",
   "execution_count": 38,
   "metadata": {},
   "outputs": [
    {
     "data": {
      "image/png": "[encoded data removed]",
      "text/plain": [
       "<Figure size 720x504 with 2 Axes>"
      ]
     },
     "metadata": {
      "needs_background": "light"
     },
     "output_type": "display_data"
    }
   ],
   "source": [
    "# \n",
    "a = plt.figure(figsize=(10,7))\n",
    "corr = calcKendall(matrix_teste)\n",
    "mask = np.zeros_like(corr)\n",
    "mask[np.triu_indices_from(mask)] = True\n",
    "with sns.axes_style(\"white\"):\n",
    "    ax = sns.heatmap(corr, mask=mask,square=True,xticklabels=labels,yticklabels=labels,linewidths=.5)"
   ]
  },
  {
   "cell_type": "code",
   "execution_count": 39,
   "metadata": {},
   "outputs": [],
   "source": [
    "import pandas as pd\n"
   ]
  },
  {
   "cell_type": "code",
   "execution_count": 40,
   "metadata": {},
   "outputs": [],
   "source": [
    "vindex = [i for i in range(g.vcount())]\n",
    "\n",
    "my_list = X\n",
    "### my_list[0] = grau\n",
    "### my_list[1] = betweenness\n",
    "### my_list[2] = pagerank\n",
    "### my_list[3] = closeness\n",
    "### my_list[4] = eigenvector_centrality\n",
    "### my_list[5] = harmonic_centrality\n",
    "### my_list[6] = load_centrality \n",
    "### my_list[7] = PCA_all\n",
    "### ...etc\n",
    "aflat, seeds_grau = (list(x) for x in zip(*sorted(zip(my_list[:,0], vindex), reverse=True)))\n",
    "aflat, seeds_betweennes = (list(x) for x in zip(*sorted(zip(my_list[:,1], vindex), reverse=True)))\n",
    "aflat, seeds_pagerank = (list(x) for x in zip(*sorted(zip(my_list[:,2], vindex), reverse=True)))\n",
    "aflat, seeds_closeness = (list(x) for x in zip(*sorted(zip(my_list[:,3], vindex), reverse=True)))\n",
    "aflat, seeds_eigenvector_centrality = (list(x) for x in zip(*sorted(zip(my_list[:,4], vindex), reverse=True)))\n",
    "aflat, seeds_harmonic_centrality = (list(x) for x in zip(*sorted(zip(my_list[:,5], vindex), reverse=True)))\n",
    "aflat, seeds_load_centrality = (list(x) for x in zip(*sorted(zip(my_list[:,6], vindex), reverse=True)))\n",
    "aflat, seeds_PCA = (list(x) for x in zip(*sorted(zip(pca_values, vindex), reverse=True)))\n"
   ]
  },
  {
   "cell_type": "code",
   "execution_count": null,
   "metadata": {},
   "outputs": [],
   "source": []
  },
  {
   "cell_type": "code",
   "execution_count": 41,
   "metadata": {},
   "outputs": [],
   "source": [
    "d = {'0_grau' : seeds_grau[:100],'1_betweennes':seeds_betweennes[:100],\n",
    "     '2_pagerank' :seeds_pagerank[:100],'3_closeness':seeds_closeness[:100],\n",
    "     '4_eigenvector_centrality':seeds_eigenvector_centrality[:100],'5_harmonic_centrality':seeds_harmonic_centrality[:100],\n",
    "     '6_load_centrality':seeds_load_centrality[:100],'7_PCA_all':seeds_PCA[:100],\n",
    "     'm_1_6':c_1_6[0][:100],\n",
    "     'm_35':c_3_5[0][:100],\n",
    "     'm_12':c_1_2[0][:100],\n",
    "     'm_13':c_1_3[0][:100],\n",
    "     'm_14':c_1_4[0][:100],\n",
    "     'm_15':c_1_5[0][:100]}"
   ]
  },
  {
   "cell_type": "code",
   "execution_count": 42,
   "metadata": {},
   "outputs": [
    {
     "data": {
      "text/html": [
       "<div>\n",
       "<style scoped>\n",
       "    .dataframe tbody tr th:only-of-type {\n",
       "        vertical-align: middle;\n",
       "    }\n",
       "\n",
       "    .dataframe tbody tr th {\n",
       "        vertical-align: top;\n",
       "    }\n",
       "\n",
       "    .dataframe thead th {\n",
       "        text-align: right;\n",
       "    }\n",
       "</style>\n",
       "<table border=\"1\" class=\"dataframe\">\n",
       "  <thead>\n",
       "    <tr style=\"text-align: right;\">\n",
       "      <th></th>\n",
       "      <th>0_grau</th>\n",
       "      <th>1_betweennes</th>\n",
       "      <th>2_pagerank</th>\n",
       "      <th>3_closeness</th>\n",
       "      <th>4_eigenvector_centrality</th>\n",
       "      <th>5_harmonic_centrality</th>\n",
       "      <th>6_load_centrality</th>\n",
       "      <th>7_PCA_all</th>\n",
       "      <th>m_12</th>\n",
       "      <th>m_13</th>\n",
       "      <th>m_14</th>\n",
       "      <th>m_15</th>\n",
       "      <th>m_1_6</th>\n",
       "      <th>m_35</th>\n",
       "    </tr>\n",
       "  </thead>\n",
       "  <tbody>\n",
       "    <tr>\n",
       "      <th>0</th>\n",
       "      <td>69</td>\n",
       "      <td>69</td>\n",
       "      <td>155</td>\n",
       "      <td>53</td>\n",
       "      <td>155</td>\n",
       "      <td>155</td>\n",
       "      <td>69</td>\n",
       "      <td>196</td>\n",
       "      <td>5</td>\n",
       "      <td>5</td>\n",
       "      <td>5</td>\n",
       "      <td>196</td>\n",
       "      <td>5</td>\n",
       "      <td>196</td>\n",
       "    </tr>\n",
       "    <tr>\n",
       "      <th>1</th>\n",
       "      <td>183</td>\n",
       "      <td>183</td>\n",
       "      <td>143</td>\n",
       "      <td>155</td>\n",
       "      <td>143</td>\n",
       "      <td>53</td>\n",
       "      <td>183</td>\n",
       "      <td>190</td>\n",
       "      <td>196</td>\n",
       "      <td>196</td>\n",
       "      <td>196</td>\n",
       "      <td>190</td>\n",
       "      <td>196</td>\n",
       "      <td>190</td>\n",
       "    </tr>\n",
       "    <tr>\n",
       "      <th>2</th>\n",
       "      <td>168</td>\n",
       "      <td>168</td>\n",
       "      <td>70</td>\n",
       "      <td>69</td>\n",
       "      <td>183</td>\n",
       "      <td>69</td>\n",
       "      <td>112</td>\n",
       "      <td>5</td>\n",
       "      <td>190</td>\n",
       "      <td>190</td>\n",
       "      <td>190</td>\n",
       "      <td>5</td>\n",
       "      <td>190</td>\n",
       "      <td>5</td>\n",
       "    </tr>\n",
       "    <tr>\n",
       "      <th>3</th>\n",
       "      <td>143</td>\n",
       "      <td>16</td>\n",
       "      <td>183</td>\n",
       "      <td>168</td>\n",
       "      <td>184</td>\n",
       "      <td>168</td>\n",
       "      <td>168</td>\n",
       "      <td>210</td>\n",
       "      <td>199</td>\n",
       "      <td>210</td>\n",
       "      <td>199</td>\n",
       "      <td>210</td>\n",
       "      <td>188</td>\n",
       "      <td>210</td>\n",
       "    </tr>\n",
       "    <tr>\n",
       "      <th>4</th>\n",
       "      <td>40</td>\n",
       "      <td>112</td>\n",
       "      <td>184</td>\n",
       "      <td>114</td>\n",
       "      <td>40</td>\n",
       "      <td>143</td>\n",
       "      <td>16</td>\n",
       "      <td>199</td>\n",
       "      <td>216</td>\n",
       "      <td>199</td>\n",
       "      <td>210</td>\n",
       "      <td>199</td>\n",
       "      <td>158</td>\n",
       "      <td>199</td>\n",
       "    </tr>\n",
       "  </tbody>\n",
       "</table>\n",
       "</div>"
      ],
      "text/plain": [
       "   0_grau  1_betweennes  2_pagerank  3_closeness  4_eigenvector_centrality  \\\n",
       "0      69            69         155           53                       155   \n",
       "1     183           183         143          155                       143   \n",
       "2     168           168          70           69                       183   \n",
       "3     143            16         183          168                       184   \n",
       "4      40           112         184          114                        40   \n",
       "\n",
       "   5_harmonic_centrality  6_load_centrality  7_PCA_all  m_12  m_13  m_14  \\\n",
       "0                    155                 69        196     5     5     5   \n",
       "1                     53                183        190   196   196   196   \n",
       "2                     69                112          5   190   190   190   \n",
       "3                    168                168        210   199   210   199   \n",
       "4                    143                 16        199   216   199   210   \n",
       "\n",
       "   m_15  m_1_6  m_35  \n",
       "0   196      5   196  \n",
       "1   190    196   190  \n",
       "2     5    190     5  \n",
       "3   210    188   210  \n",
       "4   199    158   199  "
      ]
     },
     "execution_count": 42,
     "metadata": {},
     "output_type": "execute_result"
    }
   ],
   "source": [
    "df = pd.DataFrame(data=d)\n",
    "df.head()"
   ]
  },
  {
   "cell_type": "code",
   "execution_count": 44,
   "metadata": {},
   "outputs": [],
   "source": [
    "s = [seeds_grau[:50],seeds_betweennes[:50],\n",
    "    seeds_pagerank[:50],seeds_closeness[:50],\n",
    "    seeds_eigenvector_centrality[:50],seeds_harmonic_centrality[:50],\n",
    "    seeds_load_centrality[:50],seeds_PCA[:50],c_1_6[0][:50],\n",
    "    c_3_5[0][:50],c_1_2[0][:50],c_1_3[0][:50],\n",
    "     c_1_4[0][:50],c_1_5[0][:50]]\n",
    "with open('sementes-moreno_oz.txt', 'wb') as f:\n",
    "    pickle.dump(s, f)"
   ]
  },
  {
   "cell_type": "code",
   "execution_count": null,
   "metadata": {},
   "outputs": [],
   "source": []
  }
 ],
 "metadata": {
  "kernelspec": {
   "display_name": "Python 2",
   "language": "python",
   "name": "python2"
  },
  "language_info": {
   "codemirror_mode": {
    "name": "ipython",
    "version": 2
   },
   "file_extension": ".py",
   "mimetype": "text/x-python",
   "name": "python",
   "nbconvert_exporter": "python",
   "pygments_lexer": "ipython2",
   "version": "2.7.15rc1"
  }
 },
 "nbformat": 4,
 "nbformat_minor": 2
}
