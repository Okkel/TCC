{
 "cells": [
  {
   "cell_type": "code",
   "execution_count": 25,
   "metadata": {},
   "outputs": [],
   "source": [
    "import random"
   ]
  },
  {
   "cell_type": "code",
   "execution_count": 61,
   "metadata": {},
   "outputs": [],
   "source": [
    "a = [[12,12,12,12,12,12,12,12,12,12],12]\n",
    "b = [[10,10,10,10,10,10,10,10,10,10],12]"
   ]
  },
  {
   "cell_type": "code",
   "execution_count": 62,
   "metadata": {},
   "outputs": [],
   "source": [
    "def cruzar(p1,p2):\n",
    "    interval = sorted(random.sample(range(1,len(p1[0])-1),2))\n",
    "#     interval = [2,7]\n",
    "    print (interval)\n",
    "    f1 = [p2[0][0:interval[0]] + p1[0][interval[0]:interval[1]] + p2[0][interval[1]:],0]\n",
    "    f2 = [p1[0][0:interval[0]] + p2[0][interval[0]:interval[1]] + p1[0][interval[1]:],0]\n",
    "    print('--',p1[0][0:interval[0]])\n",
    "    print('--',p2[0][interval[0]:interval[1]])\n",
    "    print('--',p1[0][interval[1]:-1])\n",
    "    print(len(f1[0]),len(f2[0]))\n",
    "    return (f1,f2)"
   ]
  },
  {
   "cell_type": "code",
   "execution_count": 69,
   "metadata": {},
   "outputs": [
    {
     "name": "stdout",
     "output_type": "stream",
     "text": [
      "[7, 8]\n",
      "('--', [12, 12, 12, 12, 12, 12, 12])\n",
      "('--', [10])\n",
      "('--', [12])\n",
      "(10, 10)\n",
      "([[10, 10, 10, 10, 10, 10, 10, 12, 10, 10], 0], [[12, 12, 12, 12, 12, 12, 12, 10, 12, 12], 0])\n"
     ]
    }
   ],
   "source": [
    "print cruzar(a,b)"
   ]
  },
  {
   "cell_type": "code",
   "execution_count": 97,
   "metadata": {},
   "outputs": [
    {
     "name": "stdout",
     "output_type": "stream",
     "text": [
      "11\n",
      "26\n"
     ]
    }
   ],
   "source": [
    "j = range(5,15)\n",
    "k = random.choice(range(10,30))\n",
    "print k\n",
    "while(k in j):\n",
    "    k = random.choice(range(14,30))\n",
    "    print k"
   ]
  },
  {
   "cell_type": "code",
   "execution_count": 91,
   "metadata": {},
   "outputs": [
    {
     "data": {
      "text/plain": [
       "[0, 1, 2, 3, 4, 5, 6, 7, 8, 9]"
      ]
     },
     "execution_count": 91,
     "metadata": {},
     "output_type": "execute_result"
    }
   ],
   "source": [
    "                cont = 0\n",
    "                while(subst in self.population[i][0]):\n",
    "                    subst = random.choice(self.starting_seeds)\n",
    "                    cont += 1\n",
    "                    if cont == 100:\n",
    "                        subst = random.randint(1, self.g.vcount() - 1)\n",
    "                        while subst == self.population[i][0][pos]:\n",
    "                            subst = random.randint(1, self.g.vcount() - 1)"
   ]
  },
  {
   "cell_type": "code",
   "execution_count": null,
   "metadata": {},
   "outputs": [],
   "source": []
  }
 ],
 "metadata": {
  "kernelspec": {
   "display_name": "Python 2",
   "language": "python",
   "name": "python2"
  },
  "language_info": {
   "codemirror_mode": {
    "name": "ipython",
    "version": 2
   },
   "file_extension": ".py",
   "mimetype": "text/x-python",
   "name": "python",
   "nbconvert_exporter": "python",
   "pygments_lexer": "ipython2",
   "version": "2.7.12"
  }
 },
 "nbformat": 4,
 "nbformat_minor": 2
}
