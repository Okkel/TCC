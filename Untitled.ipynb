{
 "cells": [
  {
   "cell_type": "code",
   "execution_count": 1,
   "metadata": {},
   "outputs": [],
   "source": [
    "import numpy as np\n",
    "import random\n",
    "import networkx as nx\n",
    "import matplotlib.pyplot as plt\n",
    "import seaborn as sns\n",
    "import random\n",
    "import sys\n",
    "import copy\n",
    "from igraph import *\n",
    "import time\n",
    "import numpy as np\n",
    "import pickle\n",
    "import numpy as np\n",
    "import matplotlib.pyplot as plt\n",
    "import sys\n",
    "from collections import Counter\n",
    "import pandas as pd\n",
    "%matplotlib inline"
   ]
  },
  {
   "cell_type": "code",
   "execution_count": 2,
   "metadata": {},
   "outputs": [],
   "source": [
    "pca_all = pd.read_csv('fitness_evolutionmoreno_health/seeds_responsemoreno_health_medida_7.csv',sep=';') \n",
    "m_16 = pd.read_csv('fitness_evolutionmoreno_health/seeds_responsemoreno_health_medida_8.csv',sep=';') \n",
    "m_65 = pd.read_csv('fitness_evolutionmoreno_health/seeds_responsemoreno_health_medida_17.csv',sep=';') "
   ]
  },
  {
   "cell_type": "code",
   "execution_count": 3,
   "metadata": {},
   "outputs": [],
   "source": [
    "pca_all = pca_all.drop(pca_all.columns[0], axis=1)\n",
    "m_16 = m_16.drop(m_16.columns[0], axis=1)\n",
    "m_65 = m_65.drop(m_65.columns[0], axis=1)"
   ]
  },
  {
   "cell_type": "code",
   "execution_count": 6,
   "metadata": {},
   "outputs": [],
   "source": [
    "def get_histogram(df):\n",
    "    \n",
    "    a = []\n",
    "    for i in range(10):\n",
    "        a.extend(df[str(i)])\n",
    "    recounted = Counter(a)\n",
    "#     plt.figure(figsize=(15,3))\n",
    "#     plt.bar(recounted.keys(), height = recounted.values(), width=0.8)\n",
    "    return recounted\n",
    "    \n",
    "\n"
   ]
  },
  {
   "cell_type": "code",
   "execution_count": 8,
   "metadata": {},
   "outputs": [],
   "source": [
    "seeds_pca_all = get_histogram(pca_all)\n",
    "seeds_m_16 = get_histogram(m_16)\n",
    "seeds_m_65 = get_histogram(m_65)"
   ]
  },
  {
   "cell_type": "code",
   "execution_count": 20,
   "metadata": {},
   "outputs": [
    {
     "name": "stdout",
     "output_type": "stream",
     "text": [
      "2088 3\n",
      "2156 3\n",
      "147 3\n",
      "2538 3\n",
      "631 3\n",
      "791 3\n",
      "1154 3\n",
      "1649 3\n",
      "1903 4\n",
      "1911 3\n"
     ]
    }
   ],
   "source": [
    "for i in seeds_pca_all:\n",
    "    if seeds_pca_all[i]>2:\n",
    "        print i,seeds_pca_all[i] "
   ]
  },
  {
   "cell_type": "code",
   "execution_count": 22,
   "metadata": {},
   "outputs": [
    {
     "name": "stdout",
     "output_type": "stream",
     "text": [
      "[147, 631, 791, 1154, 1649, 1903, 1911, 2088, 2156, 2538] 10\n",
      "[155, 337, 395, 963, 1154, 1362, 1903, 1929, 1982, 2025, 2069, 2138] 12\n",
      "[45, 634, 655, 963, 1135, 1321, 1711, 1911, 1955, 2025, 2138, 2145] 12\n"
     ]
    }
   ],
   "source": [
    "seeds_pca_all2 = sorted([i for i in seeds_pca_all if seeds_pca_all[i] >2])\n",
    "seeds_m_162 = sorted([i for i in seeds_m_16 if seeds_m_16[i] >2])\n",
    "seeds_m_652 = sorted([i for i in seeds_m_65 if seeds_m_65[i] >2])\n",
    "\n",
    "print seeds_pca_all2,len(seeds_pca_all2)\n",
    "print seeds_m_162,len(seeds_m_162)\n",
    "print seeds_m_652,len(seeds_m_652)\n"
   ]
  },
  {
   "cell_type": "code",
   "execution_count": 23,
   "metadata": {},
   "outputs": [],
   "source": [
    "with open('redes e centralidades/centralidades-moreno_health-picke.txt', 'rb') as f:\n",
    "    centralidade_list = pickle.load(f)\n",
    "    \n",
    "from igraph import *\n",
    "g = Graph.Read_Ncol(\"moreno_health\", directed = True)\n",
    "vindex = [i for i in range(g.vcount())]"
   ]
  },
  {
   "cell_type": "code",
   "execution_count": 24,
   "metadata": {},
   "outputs": [],
   "source": [
    "aflat, seeds_grau = (list(x) for x in zip(*sorted(zip(centralidade_list[0], vindex), reverse=True)))\n",
    "aflat, seeds_betweennes = (list(x) for x in zip(*sorted(zip(centralidade_list[1], vindex), reverse=True)))\n",
    "aflat, seeds_pagerank = (list(x) for x in zip(*sorted(zip(centralidade_list[2], vindex), reverse=True)))\n",
    "aflat, seeds_closeness = (list(x) for x in zip(*sorted(zip(centralidade_list[3], vindex), reverse=True)))\n",
    "aflat, seeds_eigenvector_centrality = (list(x) for x in zip(*sorted(zip(centralidade_list[4], vindex), reverse=True)))\n",
    "aflat, seeds_harmonic_centrality = (list(x) for x in zip(*sorted(zip(centralidade_list[5], vindex), reverse=True)))\n",
    "aflat, seeds_load_centrality = (list(x) for x in zip(*sorted(zip(centralidade_list[6], vindex), reverse=True)))\n",
    "centralidade_list2 = [seeds_grau,seeds_betweennes,seeds_pagerank,seeds_closeness,seeds_eigenvector_centrality,seeds_harmonic_centrality,seeds_load_centrality]\n"
   ]
  },
  {
   "cell_type": "code",
   "execution_count": 25,
   "metadata": {},
   "outputs": [],
   "source": [
    "def get_pos(vertice):\n",
    "    v = []\n",
    "    for i in centralidade_list2:\n",
    "        v.append(i.index(vertice))\n",
    "    return v"
   ]
  },
  {
   "cell_type": "code",
   "execution_count": 26,
   "metadata": {},
   "outputs": [
    {
     "name": "stdout",
     "output_type": "stream",
     "text": [
      "147 67 260 9 1 60 2 292 \n",
      "\n",
      "631 706 66 643 771 1457 735 58 \n",
      "\n",
      "791 471 24 199 92 279 113 22 \n",
      "\n",
      "1154 564 49 308 1429 1935 1327 47 \n",
      "\n",
      "1649 1903 2151 2439 2428 2414 2428 2150 \n",
      "\n",
      "1903 35 9 438 399 213 271 7 \n",
      "\n",
      "1911 340 5 631 457 400 396 5 \n",
      "\n",
      "2088 27 1105 26 518 5 320 1147 \n",
      "\n",
      "2156 1866 671 1734 2076 1839 2039 636 \n",
      "\n",
      "2538 1500 2196 2441 2441 2441 2441 2196 \n",
      "\n"
     ]
    }
   ],
   "source": [
    "for i in seeds_pca_all2:\n",
    "    print i,\n",
    "    for j in get_pos(i):\n",
    "        print j,\n",
    "    print '\\n'\n",
    "    \n"
   ]
  },
  {
   "cell_type": "code",
   "execution_count": 27,
   "metadata": {},
   "outputs": [
    {
     "name": "stdout",
     "output_type": "stream",
     "text": [
      "155 911 10 861 611 1114 617 10 \n",
      "\n",
      "337 389 47 1125 794 1518 751 44 \n",
      "\n",
      "395 42 31 347 350 1050 233 33 \n",
      "\n",
      "963 229 34 744 245 465 299 31 \n",
      "\n",
      "1154 564 49 308 1429 1935 1327 47 \n",
      "\n",
      "1362 995 1454 1717 1097 1461 1174 1447 \n",
      "\n",
      "1903 35 9 438 399 213 271 7 \n",
      "\n",
      "1929 793 432 1414 1872 1058 1801 413 \n",
      "\n",
      "1982 539 37 914 1000 690 981 34 \n",
      "\n",
      "2025 2042 2136 2403 2384 2383 2384 2139 \n",
      "\n",
      "2069 2039 749 2313 2305 2195 2294 715 \n",
      "\n",
      "2138 784 253 1452 2098 1339 2065 228 \n",
      "\n"
     ]
    }
   ],
   "source": [
    "for i in seeds_m_162:\n",
    "    print i,\n",
    "    for j in get_pos(i):\n",
    "        print j,\n",
    "    print '\\n'"
   ]
  },
  {
   "cell_type": "code",
   "execution_count": 28,
   "metadata": {},
   "outputs": [
    {
     "name": "stdout",
     "output_type": "stream",
     "text": [
      "45 1299 1577 2180 1915 1886 1977 1551 \n",
      "\n",
      "634 1052 468 1947 1676 1979 1694 441 \n",
      "\n",
      "655 1051 962 843 1039 1666 1068 947 \n",
      "\n",
      "963 229 34 744 245 465 299 31 \n",
      "\n",
      "1135 79 40 230 247 917 215 35 \n",
      "\n",
      "1321 439 14 544 612 992 662 14 \n",
      "\n",
      "1711 966 642 1597 2203 2211 2195 625 \n",
      "\n",
      "1911 340 5 631 457 400 396 5 \n",
      "\n",
      "1955 13 57 62 143 13 85 66 \n",
      "\n",
      "2025 2042 2136 2403 2384 2383 2384 2139 \n",
      "\n",
      "2138 784 253 1452 2098 1339 2065 228 \n",
      "\n",
      "2145 529 107 1202 1749 1496 1657 99 \n",
      "\n"
     ]
    }
   ],
   "source": [
    "for i in seeds_m_652:\n",
    "    print i,\n",
    "    for j in get_pos(i):\n",
    "        print j,\n",
    "    print '\\n'"
   ]
  },
  {
   "cell_type": "code",
   "execution_count": 157,
   "metadata": {},
   "outputs": [
    {
     "data": {
      "text/plain": [
       "1500"
      ]
     },
     "execution_count": 157,
     "metadata": {},
     "output_type": "execute_result"
    }
   ],
   "source": [
    "seeds_grau.index(2538)"
   ]
  },
  {
   "cell_type": "code",
   "execution_count": 30,
   "metadata": {},
   "outputs": [
    {
     "data": {
      "text/plain": [
       "{1911}"
      ]
     },
     "execution_count": 30,
     "metadata": {},
     "output_type": "execute_result"
    }
   ],
   "source": [
    "set(seeds_pca_all2) & set(seeds_m_652)"
   ]
  },
  {
   "cell_type": "code",
   "execution_count": 31,
   "metadata": {},
   "outputs": [
    {
     "data": {
      "text/plain": [
       "{1154, 1903}"
      ]
     },
     "execution_count": 31,
     "metadata": {},
     "output_type": "execute_result"
    }
   ],
   "source": [
    "set(seeds_pca_all2) & set(seeds_m_162)"
   ]
  },
  {
   "cell_type": "code",
   "execution_count": 32,
   "metadata": {},
   "outputs": [
    {
     "data": {
      "text/plain": [
       "{963, 2025, 2138}"
      ]
     },
     "execution_count": 32,
     "metadata": {},
     "output_type": "execute_result"
    }
   ],
   "source": [
    "set(seeds_m_162) & set(seeds_m_652) "
   ]
  },
  {
   "cell_type": "code",
   "execution_count": null,
   "metadata": {},
   "outputs": [],
   "source": []
  }
 ],
 "metadata": {
  "kernelspec": {
   "display_name": "Python 2",
   "language": "python",
   "name": "python2"
  },
  "language_info": {
   "codemirror_mode": {
    "name": "ipython",
    "version": 2
   },
   "file_extension": ".py",
   "mimetype": "text/x-python",
   "name": "python",
   "nbconvert_exporter": "python",
   "pygments_lexer": "ipython2",
   "version": "2.7.15rc1"
  }
 },
 "nbformat": 4,
 "nbformat_minor": 2
}
