{
 "cells": [
  {
   "cell_type": "code",
   "execution_count": 29,
   "metadata": {},
   "outputs": [],
   "source": [
    "import numpy as np\n",
    "import random\n",
    "import networkx as nx\n",
    "import matplotlib.pyplot as plt\n",
    "from scipy.stats import kendalltau\n",
    "from scipy.stats import spearmanr\n",
    "from scipy import stats\n",
    "from sklearn.decomposition import PCA\n"
   ]
  },
  {
   "cell_type": "code",
   "execution_count": 7,
   "metadata": {},
   "outputs": [],
   "source": [
    "import random\n",
    "import sys\n",
    "import copy\n",
    "from igraph import *\n",
    "import time\n",
    "import numpy as np\n",
    "import pickle"
   ]
  },
  {
   "cell_type": "code",
   "execution_count": 8,
   "metadata": {},
   "outputs": [],
   "source": [
    "g = Graph.Read_Ncol(\"CA-GrQc.txt\", directed = False)\n",
    "A = g.get_edgelist()\n",
    "nxg = nx.Graph(A)"
   ]
  },
  {
   "cell_type": "code",
   "execution_count": 9,
   "metadata": {},
   "outputs": [],
   "source": [
    "with open('centralidades.txt', 'rb') as f:\n",
    "    my_list2 = pickle.load(f)"
   ]
  },
  {
   "cell_type": "code",
   "execution_count": 44,
   "metadata": {},
   "outputs": [
    {
     "data": {
      "text/plain": [
       "(5242, 7)"
      ]
     },
     "execution_count": 44,
     "metadata": {},
     "output_type": "execute_result"
    }
   ],
   "source": [
    "X = np.array(my_list2)\n",
    "X = X.transpose()\n",
    "X = stats.zscore(X)\n",
    "X.shape"
   ]
  },
  {
   "cell_type": "code",
   "execution_count": 45,
   "metadata": {},
   "outputs": [
    {
     "name": "stdout",
     "output_type": "stream",
     "text": [
      "52.5657647754\n",
      "(array([0.52565765]), 1)\n",
      "(array([138.88297853]), 1)\n"
     ]
    }
   ],
   "source": [
    "varience_values = []\n",
    "\n",
    "pca = PCA(n_components=1,svd_solver='full')\n",
    "teste = pca.fit_transform(X)\n",
    "explained_varience = pca.explained_variance_ratio_.sum()\n",
    "print(float(pca.explained_variance_ratio_.sum()*100))\n",
    "print(pca.explained_variance_ratio_,len(pca.explained_variance_ratio_))\n",
    "print(pca.singular_values_,len(pca.singular_values_))  "
   ]
  },
  {
   "cell_type": "code",
   "execution_count": 46,
   "metadata": {},
   "outputs": [
    {
     "data": {
      "text/plain": [
       "5242"
      ]
     },
     "execution_count": 46,
     "metadata": {},
     "output_type": "execute_result"
    }
   ],
   "source": [
    "lista_teste = teste.tolist()\n",
    "len(lista_teste)"
   ]
  },
  {
   "cell_type": "code",
   "execution_count": 47,
   "metadata": {},
   "outputs": [
    {
     "data": {
      "text/plain": [
       "5242"
      ]
     },
     "execution_count": 47,
     "metadata": {},
     "output_type": "execute_result"
    }
   ],
   "source": [
    "#  a partir daqui é so pegar os index igual no que ja tem\n",
    "flat_list = []\n",
    "for sublist in lista_teste:\n",
    "    for item in sublist:\n",
    "        flat_list.append(item)\n",
    "        \n",
    "len(flat_list)\n",
    "# print(flat_list[:50])"
   ]
  },
  {
   "cell_type": "code",
   "execution_count": 48,
   "metadata": {},
   "outputs": [
    {
     "name": "stdout",
     "output_type": "stream",
     "text": [
      "[1037, 577, 11, 288, 53, 207, 20, 108, 186, 101, 279, 72, 295, 103, 147, 244, 545, 365, 363, 1088, 346, 77, 100, 369, 465, 353, 396, 265, 1032, 303, 300, 1066, 282, 457, 296, 1515, 230, 36, 1091, 1733, 159, 102, 269, 2065, 1284, 359, 285, 315, 543, 375]\n"
     ]
    }
   ],
   "source": [
    "n = 50\n",
    "vindex = [i for i in range(g.vcount())]\n",
    "aflat, seeds_PCA = (list(x) for x in zip(*sorted(zip(flat_list, vindex), reverse=True)))\n",
    "print(seeds_PCA[:50])\n",
    "# len(vindex)"
   ]
  },
  {
   "cell_type": "code",
   "execution_count": 49,
   "metadata": {},
   "outputs": [
    {
     "name": "stdout",
     "output_type": "stream",
     "text": [
      "[101, 295, 279, 103, 77, 72, 296, 288, 265, 100, 159, 285, 1284, 282, 302, 275, 263, 262, 269, 300, 303, 301, 277, 267, 259, 221, 297, 280, 261, 299, 294, 290, 264, 284, 273, 1037, 577, 293, 292, 291, 289, 286, 283, 278, 276, 274, 270, 266, 545, 1278]\n"
     ]
    }
   ],
   "source": [
    "my_list = X\n",
    "# my_list[0] = grau\n",
    "# my_list[1] = betweenness\n",
    "# my_list[2] = pagerank\n",
    "# my_list[3] = closeness\n",
    "# my_list[4] = eigenvector_centrality\n",
    "# my_list[5] = harmonic_centrality\n",
    "# my_list[6] = load_centrality \n",
    "# ...etc\n",
    "aflat, seeds_grau = (list(x) for x in zip(*sorted(zip(my_list[:,0], vindex), reverse=True)))\n",
    "aflat, seeds_betweennes = (list(x) for x in zip(*sorted(zip(my_list[:,1], vindex), reverse=True)))\n",
    "aflat, seeds_pagerank = (list(x) for x in zip(*sorted(zip(my_list[:,2], vindex), reverse=True)))\n",
    "aflat, seeds_closeness = (list(x) for x in zip(*sorted(zip(my_list[:,3], vindex), reverse=True)))\n",
    "aflat, seeds_eigenvector_centrality = (list(x) for x in zip(*sorted(zip(my_list[:,4], vindex), reverse=True)))\n",
    "aflat, seeds_harmonic_centrality = (list(x) for x in zip(*sorted(zip(my_list[:,5], vindex), reverse=True)))\n",
    "aflat, seeds_load_centrality = (list(x) for x in zip(*sorted(zip(my_list[:,6], vindex), reverse=True)))\n",
    "l = [seeds_grau,seeds_betweennes,seeds_pagerank,seeds_closeness,seeds_eigenvector_centrality,seeds_harmonic_centrality,seeds_load_centrality]\n",
    "print(l[0][:50])"
   ]
  },
  {
   "cell_type": "code",
   "execution_count": 50,
   "metadata": {},
   "outputs": [],
   "source": [
    "# SIMILARIDADE ENTRE AS SEMENTES DO PCA E AS OUTRAS\n",
    "#  seeds_PCA FOI FEITO COM A MATRIZ TODA"
   ]
  },
  {
   "cell_type": "code",
   "execution_count": 68,
   "metadata": {},
   "outputs": [
    {
     "ename": "TypeError",
     "evalue": "'list' object is not callable",
     "output_type": "error",
     "traceback": [
      "\u001b[0;31m---------------------------------------------------------------------------\u001b[0m",
      "\u001b[0;31mTypeError\u001b[0m                                 Traceback (most recent call last)",
      "\u001b[0;32m<ipython-input-68-e56231fe46d3>\u001b[0m in \u001b[0;36m<module>\u001b[0;34m()\u001b[0m\n\u001b[1;32m      2\u001b[0m \u001b[0mkend\u001b[0m \u001b[0;34m=\u001b[0m \u001b[0;34m[\u001b[0m\u001b[0;34m]\u001b[0m\u001b[0;34m\u001b[0m\u001b[0m\n\u001b[1;32m      3\u001b[0m \u001b[0;32mfor\u001b[0m \u001b[0mi\u001b[0m \u001b[0;32min\u001b[0m \u001b[0mrange\u001b[0m\u001b[0;34m(\u001b[0m\u001b[0;34m(\u001b[0m\u001b[0mX\u001b[0m\u001b[0;34m.\u001b[0m\u001b[0mshape\u001b[0m\u001b[0;34m[\u001b[0m\u001b[0;36m1\u001b[0m\u001b[0;34m]\u001b[0m\u001b[0;34m)\u001b[0m\u001b[0;34m)\u001b[0m\u001b[0;34m:\u001b[0m\u001b[0;34m\u001b[0m\u001b[0m\n\u001b[0;32m----> 4\u001b[0;31m     \u001b[0mtau\u001b[0m\u001b[0;34m,\u001b[0m \u001b[0mp_value\u001b[0m \u001b[0;34m=\u001b[0m \u001b[0mkendalltau\u001b[0m\u001b[0;34m(\u001b[0m\u001b[0mX\u001b[0m\u001b[0;34m[\u001b[0m\u001b[0;34m:\u001b[0m\u001b[0;34m,\u001b[0m\u001b[0mi\u001b[0m\u001b[0;34m]\u001b[0m\u001b[0;34m,\u001b[0m\u001b[0mflat_list\u001b[0m\u001b[0;34m)\u001b[0m\u001b[0;34m\u001b[0m\u001b[0m\n\u001b[0m\u001b[1;32m      5\u001b[0m     \u001b[0;32mprint\u001b[0m\u001b[0;34m(\u001b[0m\u001b[0mtau\u001b[0m\u001b[0;34m)\u001b[0m\u001b[0;34m\u001b[0m\u001b[0m\n\u001b[1;32m      6\u001b[0m     \u001b[0mkend\u001b[0m\u001b[0;34m.\u001b[0m\u001b[0mappend\u001b[0m\u001b[0;34m(\u001b[0m\u001b[0mtau\u001b[0m\u001b[0;34m)\u001b[0m\u001b[0;34m\u001b[0m\u001b[0m\n",
      "\u001b[0;31mTypeError\u001b[0m: 'list' object is not callable"
     ]
    }
   ],
   "source": [
    "# kendalltau\n",
    "kend = []\n",
    "for i in range((X.shape[1])):\n",
    "    tau, p_value = kendalltau(X[:,i],flat_list)\n",
    "    print(tau)\n",
    "    kend.append(tau)\n",
    "# spear = []\n",
    "# for i in range((X.shape[1])):\n",
    "#     s = spearmanr(X[:,i],flat_list)[0]\n",
    "#     print(s)\n",
    "#     spear.append(s)\n"
   ]
  },
  {
   "cell_type": "code",
   "execution_count": 62,
   "metadata": {},
   "outputs": [
    {
     "name": "stdout",
     "output_type": "stream",
     "text": [
      "0.8640125322734875\n",
      "0.7459757750009575\n",
      "0.5064428124514034\n",
      "0.8297882745669315\n",
      "0.7762585920123177\n",
      "0.8393844142815007\n",
      "0.7458522521437179\n"
     ]
    }
   ],
   "source": [
    "# spearman\n",
    "spear = []\n",
    "for i in range((X.shape[1])):\n",
    "    s = spearmanr(X[:,i],flat_list)[0]\n",
    "    print(s)\n",
    "    spear.append(s)"
   ]
  },
  {
   "cell_type": "code",
   "execution_count": null,
   "metadata": {},
   "outputs": [],
   "source": []
  },
  {
   "cell_type": "code",
   "execution_count": 69,
   "metadata": {},
   "outputs": [],
   "source": [
    "# SELECIONANDO PARES DE COLUNAS DE ALTA E BAIXA CORRELACAO PARA USAR NO PCA"
   ]
  },
  {
   "cell_type": "code",
   "execution_count": 87,
   "metadata": {},
   "outputs": [
    {
     "name": "stdout",
     "output_type": "stream",
     "text": [
      "[1.         0.67570943 0.73122294 0.59042723 0.54467012 0.6060633\n",
      " 0.67558465]\n",
      "[0.67570943 1.         0.66762163 0.55427283 0.43849521 0.55904682\n",
      " 0.99994645]\n",
      "[0.73122294 0.66762163 1.         0.13269871 0.06974803 0.14563111\n",
      " 0.66739304]\n",
      "[0.59042723 0.55427283 0.13269871 1.         0.89638367 0.9991819\n",
      " 0.55420544]\n",
      "[0.54467012 0.43849521 0.06974803 0.89638367 1.         0.90248899\n",
      " 0.43826029]\n",
      "[0.6060633  0.55904682 0.14563111 0.9991819  0.90248899 1.\n",
      " 0.55895756]\n",
      "[0.67558465 0.99994645 0.66739304 0.55420544 0.43826029 0.55895756\n",
      " 1.        ]\n"
     ]
    }
   ],
   "source": [
    "tau,p_value = spearmanr(X)\n",
    "for i in tau:\n",
    "    print (i)\n"
   ]
  },
  {
   "cell_type": "code",
   "execution_count": null,
   "metadata": {},
   "outputs": [],
   "source": [
    "[1.         0.67570943 0.73122294 0.59042723 0.54467012 0.6060633  0.67558465]\n",
    "[0.67570943 1.         0.66762163 0.55427283 0.43849521 0.55904682 0.99994645]\n",
    "[0.73122294 0.66762163 1.         0.13269871 0.06974803 0.14563111 0.66739304]\n",
    "[0.59042723 0.55427283 0.13269871 1.         0.89638367 0.9991819  0.55420544]\n",
    "[0.54467012 0.43849521 0.06974803 0.89638367 1.         0.90248899 0.43826029]\n",
    "[0.6060633  0.55904682 0.14563111 0.9991819  0.90248899 1.         0.55895756]\n",
    "[0.67558465 0.99994645 0.66739304 0.55420544 0.43826029 0.55895756 1.        ]"
   ]
  },
  {
   "cell_type": "code",
   "execution_count": 22,
   "metadata": {},
   "outputs": [
    {
     "name": "stdout",
     "output_type": "stream",
     "text": [
      "('linhas x colunas', (5242, 7))\n",
      "[(0.33544209326008195, 1, 4), (0.33544209326008195, 4, 1), (0.33510950875196593, 4, 6), (0.33510950875196593, 6, 4)]\n",
      " \n",
      "[(0.079003534095916539, 2, 3), (0.032928892628109163, 2, 4), (0.08723391799168731, 2, 5), (0.079003534095916539, 3, 2), (0.032928892628109163, 4, 2), (0.08723391799168731, 5, 2)]\n"
     ]
    }
   ],
   "source": [
    "print('linhas x colunas',X.shape)\n",
    "\n",
    "kendall = []\n",
    "kendall2 = []\n",
    "\n",
    "for i in range((X.shape[1])):\n",
    "    for j in range((X.shape[1])):\n",
    "        if (i != j):\n",
    "            tau, p_value = kendalltau(X[:,i],X[:,j])\n",
    "            if (p_value > 0):\n",
    "                if tau>0.1:\n",
    "                    kendall.append((tau,i,j))\n",
    "                else:\n",
    "                    kendall2.append((tau,i,j))\n",
    "            if (p_value < 0):\n",
    "                print (\"menor\",i,j,tau,(p_value)*1000)\n",
    "\n",
    "print(kendall)\n",
    "print(' ')\n",
    "print(kendall2)"
   ]
  },
  {
   "cell_type": "code",
   "execution_count": 23,
   "metadata": {},
   "outputs": [],
   "source": [
    "def calcula_PCA(col1,col2): # pca entre duas colunas\n",
    "    \n",
    "    Y = np.array([X[:,col1],X[:,col2]])\n",
    "    Y = Y.transpose()\n",
    "#     print (Y.shape)\n",
    "#     print (Y,type(Y),type(Y[0]),len(Y[0]))\n",
    "    \n",
    "    pca = PCA(n_components=1,svd_solver='full')\n",
    "    teste = pca.fit_transform(Y)\n",
    "    explained_varience = pca.explained_variance_ratio_.sum()\n",
    "    print(float(pca.explained_variance_ratio_.sum()*100))\n",
    "    lista_teste = teste.tolist()\n",
    "    flat_list = []\n",
    "    for sublist in lista_teste:\n",
    "        for item in sublist:\n",
    "            flat_list.append(item)\n",
    "    aflat, seeds_PCA = (list(x) for x in zip(*sorted(zip(flat_list, vindex), reverse=True)))\n",
    "    return seeds_PCA"
   ]
  },
  {
   "cell_type": "code",
   "execution_count": 24,
   "metadata": {},
   "outputs": [
    {
     "name": "stdout",
     "output_type": "stream",
     "text": [
      "(0.079003534095916539, 2, 3)\n",
      "57.2350583211\n",
      "[108, 1037, 577, 11, 295, 186, 53, 103, 101, 279, 1733, 1032, 20, 1243, 31, 365, 288, 363, 72, 207, 450, 1088, 457, 346, 369, 315, 370, 100, 396, 296, 1091, 77, 244, 465, 545, 45, 265, 230, 27, 2009, 375, 1066, 543, 984, 746, 159, 398, 2065, 285, 322]\n",
      "--------------------\n",
      "(0.032928892628109163, 2, 4)\n",
      "65.977822331\n",
      "[295, 101, 279, 103, 288, 72, 296, 100, 77, 265, 159, 285, 269, 282, 263, 275, 302, 262, 303, 300, 301, 261, 277, 259, 267, 280, 290, 297, 294, 273, 264, 299, 284, 293, 292, 291, 289, 286, 283, 278, 276, 274, 266, 270, 271, 260, 108, 1037, 577, 545]\n",
      "--------------------\n",
      "(0.08723391799168731, 2, 5)\n",
      "58.4498622044\n",
      "[108, 1037, 577, 11, 295, 186, 103, 53, 101, 279, 1733, 1032, 20, 288, 72, 1243, 31, 365, 363, 207, 450, 1088, 457, 346, 100, 369, 315, 370, 296, 77, 396, 244, 1091, 545, 465, 265, 45, 230, 27, 1066, 2009, 375, 159, 543, 984, 746, 398, 285, 2065, 322]\n",
      "--------------------\n",
      "(0.079003534095916539, 3, 2)\n",
      "57.2350583211\n",
      "[108, 1037, 577, 11, 295, 186, 53, 103, 101, 279, 1733, 1032, 20, 1243, 31, 365, 288, 363, 72, 207, 450, 1088, 457, 346, 369, 315, 370, 100, 396, 296, 1091, 77, 244, 465, 545, 45, 265, 230, 27, 2009, 375, 1066, 543, 984, 746, 159, 398, 2065, 285, 322]\n",
      "--------------------\n",
      "(0.032928892628109163, 4, 2)\n",
      "65.977822331\n",
      "[295, 101, 279, 103, 288, 72, 296, 100, 77, 265, 159, 285, 269, 282, 263, 275, 302, 262, 303, 300, 301, 261, 277, 259, 267, 280, 290, 297, 294, 273, 264, 299, 284, 293, 292, 291, 289, 286, 283, 278, 276, 274, 266, 270, 271, 260, 108, 1037, 577, 545]\n",
      "--------------------\n",
      "(0.08723391799168731, 5, 2)\n",
      "58.4498622044\n",
      "[108, 1037, 577, 11, 295, 186, 103, 53, 101, 279, 1733, 1032, 20, 288, 72, 1243, 31, 365, 363, 207, 450, 1088, 457, 346, 100, 369, 315, 370, 296, 77, 396, 244, 1091, 545, 465, 265, 45, 230, 27, 1066, 2009, 375, 159, 543, 984, 746, 398, 285, 2065, 322]\n",
      "--------------------\n"
     ]
    }
   ],
   "source": [
    "# calcula_PCA(1,4)[:50]\n",
    "for i in kendall2:\n",
    "    print (i)\n",
    "    print(calcula_PCA(i[-2],i[-1])[:50])\n",
    "    print('--'*10)"
   ]
  },
  {
   "cell_type": "code",
   "execution_count": null,
   "metadata": {},
   "outputs": [],
   "source": []
  }
 ],
 "metadata": {
  "kernelspec": {
   "display_name": "Python 2",
   "language": "python",
   "name": "python2"
  },
  "language_info": {
   "codemirror_mode": {
    "name": "ipython",
    "version": 2
   },
   "file_extension": ".py",
   "mimetype": "text/x-python",
   "name": "python",
   "nbconvert_exporter": "python",
   "pygments_lexer": "ipython2",
   "version": "2.7.12"
  }
 },
 "nbformat": 4,
 "nbformat_minor": 2
}
