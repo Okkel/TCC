{
 "cells": [
  {
   "cell_type": "code",
   "execution_count": 11,
   "metadata": {},
   "outputs": [],
   "source": [
    "import numpy as np\n",
    "import random\n",
    "import networkx as nx\n",
    "import matplotlib.pyplot as plt\n",
    "from scipy.stats import kendalltau\n",
    "from scipy.stats import spearmanr\n",
    "from scipy import stats\n",
    "from sklearn.decomposition import PCA\n",
    "import seaborn as sns"
   ]
  },
  {
   "cell_type": "code",
   "execution_count": 12,
   "metadata": {},
   "outputs": [],
   "source": [
    "import random\n",
    "import sys\n",
    "import copy\n",
    "from igraph import *\n",
    "import time\n",
    "import numpy as np\n",
    "import pickle\n",
    "import numpy as np\n",
    "import matplotlib.pyplot as plt"
   ]
  },
  {
   "cell_type": "code",
   "execution_count": 13,
   "metadata": {},
   "outputs": [],
   "source": [
    "g = Graph.Read_Ncol(\"CA-GrQc.txt\", directed = False)\n",
    "A = g.get_edgelist()\n",
    "nxg = nx.Graph(A)"
   ]
  },
  {
   "cell_type": "code",
   "execution_count": 14,
   "metadata": {},
   "outputs": [],
   "source": [
    "with open('centralidades.txt', 'rb') as f:\n",
    "    my_list2 = pickle.load(f)"
   ]
  },
  {
   "cell_type": "code",
   "execution_count": 15,
   "metadata": {},
   "outputs": [
    {
     "data": {
      "text/plain": [
       "(5242, 7)"
      ]
     },
     "execution_count": 15,
     "metadata": {},
     "output_type": "execute_result"
    }
   ],
   "source": [
    "X = np.array(my_list2)\n",
    "X = X.transpose()\n",
    "X = stats.zscore(X)\n",
    "X.shape"
   ]
  },
  {
   "cell_type": "code",
   "execution_count": 16,
   "metadata": {},
   "outputs": [
    {
     "name": "stdout",
     "output_type": "stream",
     "text": [
      "52.5657647754\n",
      "(array([0.52565765]), 1)\n",
      "(array([138.88297853]), 1)\n"
     ]
    }
   ],
   "source": [
    "varience_values = []\n",
    "\n",
    "pca = PCA(n_components=1,svd_solver='full')\n",
    "teste = pca.fit_transform(X)\n",
    "explained_varience = pca.explained_variance_ratio_.sum()\n",
    "print(float(pca.explained_variance_ratio_.sum()*100))\n",
    "print(pca.explained_variance_ratio_,len(pca.explained_variance_ratio_))\n",
    "print(pca.singular_values_,len(pca.singular_values_))  "
   ]
  },
  {
   "cell_type": "code",
   "execution_count": 17,
   "metadata": {},
   "outputs": [
    {
     "data": {
      "text/plain": [
       "5242"
      ]
     },
     "execution_count": 17,
     "metadata": {},
     "output_type": "execute_result"
    }
   ],
   "source": [
    "lista_teste = teste.tolist()\n",
    "len(lista_teste)"
   ]
  },
  {
   "cell_type": "code",
   "execution_count": 18,
   "metadata": {},
   "outputs": [
    {
     "data": {
      "text/plain": [
       "5242"
      ]
     },
     "execution_count": 18,
     "metadata": {},
     "output_type": "execute_result"
    }
   ],
   "source": [
    "#  a partir daqui é so pegar os index igual no que ja tem\n",
    "flat_list = []\n",
    "for sublist in lista_teste:\n",
    "    for item in sublist:\n",
    "        flat_list.append(item)\n",
    "        \n",
    "len(flat_list)\n",
    "# print(flat_list[:50])"
   ]
  },
  {
   "cell_type": "code",
   "execution_count": 19,
   "metadata": {},
   "outputs": [
    {
     "name": "stdout",
     "output_type": "stream",
     "text": [
      "[1037, 577, 11, 288, 53, 207, 20, 108, 186, 101, 279, 72, 295, 103, 147, 244, 545, 365, 363, 1088, 346, 77, 100, 369, 465, 353, 396, 265, 1032, 303, 300, 1066, 282, 457, 296, 1515, 230, 36, 1091, 1733, 159, 102, 269, 2065, 1284, 359, 285, 315, 543, 375]\n"
     ]
    }
   ],
   "source": [
    "n = 50\n",
    "vindex = [i for i in range(g.vcount())]\n",
    "aflat, seeds_PCA = (list(x) for x in zip(*sorted(zip(flat_list, vindex), reverse=True)))\n",
    "print(seeds_PCA[:50])\n",
    "# len(vindex)"
   ]
  },
  {
   "cell_type": "code",
   "execution_count": 20,
   "metadata": {},
   "outputs": [
    {
     "name": "stdout",
     "output_type": "stream",
     "text": [
      "[101, 295, 279, 103, 77, 72, 296, 288, 265, 100, 159, 285, 1284, 282, 302, 275, 263, 262, 269, 300, 303, 301, 277, 267, 259, 221, 297, 280, 261, 299, 294, 290, 264, 284, 273, 1037, 577, 293, 292, 291, 289, 286, 283, 278, 276, 274, 270, 266, 545, 1278]\n"
     ]
    }
   ],
   "source": [
    "my_list = X\n",
    "# my_list[0] = grau\n",
    "# my_list[1] = betweenness\n",
    "# my_list[2] = pagerank\n",
    "# my_list[3] = closeness\n",
    "# my_list[4] = eigenvector_centrality\n",
    "# my_list[5] = harmonic_centrality\n",
    "# my_list[6] = load_centrality \n",
    "# ...etc\n",
    "aflat, seeds_grau = (list(x) for x in zip(*sorted(zip(my_list[:,0], vindex), reverse=True)))\n",
    "aflat, seeds_betweennes = (list(x) for x in zip(*sorted(zip(my_list[:,1], vindex), reverse=True)))\n",
    "aflat, seeds_pagerank = (list(x) for x in zip(*sorted(zip(my_list[:,2], vindex), reverse=True)))\n",
    "aflat, seeds_closeness = (list(x) for x in zip(*sorted(zip(my_list[:,3], vindex), reverse=True)))\n",
    "aflat, seeds_eigenvector_centrality = (list(x) for x in zip(*sorted(zip(my_list[:,4], vindex), reverse=True)))\n",
    "aflat, seeds_harmonic_centrality = (list(x) for x in zip(*sorted(zip(my_list[:,5], vindex), reverse=True)))\n",
    "aflat, seeds_load_centrality = (list(x) for x in zip(*sorted(zip(my_list[:,6], vindex), reverse=True)))\n",
    "l = [seeds_grau,seeds_betweennes,seeds_pagerank,seeds_closeness,seeds_eigenvector_centrality,seeds_harmonic_centrality,seeds_load_centrality]\n",
    "print(l[0][:50])"
   ]
  },
  {
   "cell_type": "code",
   "execution_count": 21,
   "metadata": {},
   "outputs": [],
   "source": [
    "# SIMILARIDADE ENTRE AS SEMENTES DO PCA E AS OUTRAS\n",
    "#  seeds_PCA FOI FEITO COM A MATRIZ TODA"
   ]
  },
  {
   "cell_type": "code",
   "execution_count": 22,
   "metadata": {},
   "outputs": [],
   "source": [
    "def calcKendall(matrix):\n",
    "    matrix_kendall = []\n",
    "    for i in range(matrix.shape[1]):\n",
    "        kend = []\n",
    "        for j in range(matrix.shape[1]):\n",
    "            tau, p_value = kendalltau(matrix[:,i],matrix[:,j])\n",
    "            kend.append(tau)\n",
    "        matrix_kendall.append(kend)\n",
    "    matrix_kendall = np.array(matrix_kendall)\n",
    "    return(matrix_kendall)\n"
   ]
  },
  {
   "cell_type": "code",
   "execution_count": 23,
   "metadata": {},
   "outputs": [],
   "source": [
    "def calcSpearman(matrix):\n",
    "    tau,p_value = spearmanr(matrix)\n",
    "    matrix_spearman = np.array(tau)\n",
    "    return(matrix_spearman)"
   ]
  },
  {
   "cell_type": "code",
   "execution_count": 24,
   "metadata": {},
   "outputs": [],
   "source": [
    "# SELECIONANDO PARES DE COLUNAS DE ALTA E BAIXA CORRELACAO PARA USAR NO PCA"
   ]
  },
  {
   "cell_type": "code",
   "execution_count": 25,
   "metadata": {},
   "outputs": [
    {
     "name": "stdout",
     "output_type": "stream",
     "text": [
      "[[1.         0.57185314 0.58721285 0.45151019 0.41243435 0.46440414\n",
      "  0.57150763]\n",
      " [0.57185314 1.         0.52957422 0.42997674 0.33544209 0.43394043\n",
      "  0.99595293]\n",
      " [0.58721285 0.52957422 1.         0.07900353 0.03292889 0.08723392\n",
      "  0.5292732 ]\n",
      " [0.45151019 0.42997674 0.07900353 1.         0.73374608 0.980198\n",
      "  0.429671  ]\n",
      " [0.41243435 0.33544209 0.03292889 0.73374608 1.         0.74194635\n",
      "  0.33510951]\n",
      " [0.46440414 0.43394043 0.08723392 0.980198   0.74194635 1.\n",
      "  0.43360445]\n",
      " [0.57150763 0.99595293 0.5292732  0.429671   0.33510951 0.43360445\n",
      "  1.        ]]\n"
     ]
    }
   ],
   "source": [
    "matrix_kendall = calcKendall(X)\n",
    "print(matrix_kendall)"
   ]
  },
  {
   "cell_type": "code",
   "execution_count": 16,
   "metadata": {},
   "outputs": [
    {
     "ename": "SyntaxError",
     "evalue": "invalid syntax (<ipython-input-16-45385b255eab>, line 1)",
     "output_type": "error",
     "traceback": [
      "\u001b[1;36m  File \u001b[1;32m\"<ipython-input-16-45385b255eab>\"\u001b[1;36m, line \u001b[1;32m1\u001b[0m\n\u001b[1;33m    [1.         0.57185314 0.58721285 0.45151019 0.41243435 0.46440414 0.57150763]\u001b[0m\n\u001b[1;37m                         ^\u001b[0m\n\u001b[1;31mSyntaxError\u001b[0m\u001b[1;31m:\u001b[0m invalid syntax\n"
     ]
    }
   ],
   "source": [
    "[1.         0.57185314 0.58721285 0.45151019 0.41243435 0.46440414 0.57150763]\n",
    "[0.57185314 1.         0.52957422 0.42997674 0.33544209 0.43394043 0.99595293]\n",
    "[0.58721285 0.52957422 1.         0.07900353 0.03292889 0.08723392 0.5292732 ]\n",
    "[0.45151019 0.42997674 0.07900353 1.         0.73374608 0.980198   0.429671  ]\n",
    "[0.41243435 0.33544209 0.03292889 0.73374608 1.         0.74194635 0.33510951]\n",
    "[0.46440414 0.43394043 0.08723392 0.980198   0.74194635 1.         0.43360445]\n",
    "[0.57150763 0.99595293 0.5292732  0.429671   0.33510951 0.43360445 1.        ]"
   ]
  },
  {
   "cell_type": "code",
   "execution_count": 26,
   "metadata": {},
   "outputs": [
    {
     "name": "stdout",
     "output_type": "stream",
     "text": [
      "[[1.         0.67570943 0.73122294 0.59042723 0.54467012 0.6060633\n",
      "  0.67558465]\n",
      " [0.67570943 1.         0.66762163 0.55427283 0.43849521 0.55904682\n",
      "  0.99994645]\n",
      " [0.73122294 0.66762163 1.         0.13269871 0.06974803 0.14563111\n",
      "  0.66739304]\n",
      " [0.59042723 0.55427283 0.13269871 1.         0.89638367 0.9991819\n",
      "  0.55420544]\n",
      " [0.54467012 0.43849521 0.06974803 0.89638367 1.         0.90248899\n",
      "  0.43826029]\n",
      " [0.6060633  0.55904682 0.14563111 0.9991819  0.90248899 1.\n",
      "  0.55895756]\n",
      " [0.67558465 0.99994645 0.66739304 0.55420544 0.43826029 0.55895756\n",
      "  1.        ]]\n"
     ]
    }
   ],
   "source": [
    "matrix_spearman = (calcSpearman(X))\n",
    "print(matrix_spearman)"
   ]
  },
  {
   "cell_type": "code",
   "execution_count": null,
   "metadata": {},
   "outputs": [],
   "source": [
    "[1.         0.67570943 0.73122294 0.59042723 0.54467012 0.6060633  0.67558465]\n",
    "[0.67570943 1.         0.66762163 0.55427283 0.43849521 0.55904682 0.99994645]\n",
    "[0.73122294 0.66762163 1.         0.13269871 0.06974803 0.14563111 0.66739304]\n",
    "[0.59042723 0.55427283 0.13269871 1.         0.89638367 0.9991819  0.55420544]\n",
    "[0.54467012 0.43849521 0.06974803 0.89638367 1.         0.90248899 0.43826029]\n",
    "[0.6060633  0.55904682 0.14563111 0.9991819  0.90248899 1.         0.55895756]\n",
    "[0.67558465 0.99994645 0.66739304 0.55420544 0.43826029 0.55895756 1.        ]"
   ]
  },
  {
   "cell_type": "markdown",
   "metadata": {},
   "source": [
    "Pense neste plot como um mapa de calor de correlacao baseado na correlação em kendall e spearman\n",
    "Nao, na verdade é exatamente isso que é.\n",
    "Repare que os plots sao iguais"
   ]
  },
  {
   "cell_type": "code",
   "execution_count": 27,
   "metadata": {},
   "outputs": [],
   "source": [
    "labels_medidas = ['0_grau','1_betweennes','2_pagerank','3_closeness','4_eigenvector_centrality','5_harmonic_centrality','6_load_centrality']"
   ]
  },
  {
   "cell_type": "code",
   "execution_count": 28,
   "metadata": {},
   "outputs": [
    {
     "data": {
      "text/plain": [
       "<matplotlib.axes._subplots.AxesSubplot at 0xb8c3110>"
      ]
     },
     "execution_count": 28,
     "metadata": {},
     "output_type": "execute_result"
    },
    {
     "data": {
      "image/png": "[encoded data removed]",
      "text/plain": [
       "<matplotlib.figure.Figure at 0xd33d670>"
      ]
     },
     "metadata": {},
     "output_type": "display_data"
    }
   ],
   "source": [
    "sns.heatmap(matrix_kendall,xticklabels=labels_medidas,yticklabels=labels_medidas,linewidths=.5)\n"
   ]
  },
  {
   "cell_type": "code",
   "execution_count": 29,
   "metadata": {},
   "outputs": [
    {
     "data": {
      "image/png": "[encoded data removed]",
      "text/plain": [
       "<matplotlib.figure.Figure at 0xd33dd30>"
      ]
     },
     "metadata": {},
     "output_type": "display_data"
    }
   ],
   "source": [
    "corr = matrix_kendall\n",
    "# sns.heatmap(,xticklabels=labels,yticklabels=labels,linewidths=.5)\n",
    "mask = np.zeros_like(corr)\n",
    "mask[np.triu_indices_from(mask)] = True\n",
    "with sns.axes_style(\"white\"):\n",
    "    ax = sns.heatmap(corr, mask=mask,square=True,xticklabels=labels_medidas,yticklabels=labels_medidas,linewidths=.5)"
   ]
  },
  {
   "cell_type": "code",
   "execution_count": 30,
   "metadata": {},
   "outputs": [
    {
     "data": {
      "text/plain": [
       "<matplotlib.axes._subplots.AxesSubplot at 0xedc29f0>"
      ]
     },
     "execution_count": 30,
     "metadata": {},
     "output_type": "execute_result"
    },
    {
     "data": {
      "image/png": "[encoded data removed]",
      "text/plain": [
       "<matplotlib.figure.Figure at 0xedb6ab0>"
      ]
     },
     "metadata": {},
     "output_type": "display_data"
    }
   ],
   "source": [
    "sns.heatmap(matrix_spearman,xticklabels=labels_medidas,yticklabels=labels_medidas,linewidths=.5)"
   ]
  },
  {
   "cell_type": "code",
   "execution_count": 31,
   "metadata": {},
   "outputs": [],
   "source": [
    "def calcula_PCA(matrix,col1,col2): # pca entre duas colunas\n",
    "    \n",
    "    Y = np.array([matrix[:,col1],matrix[:,col2]])\n",
    "    Y = Y.transpose()\n",
    "#     print (Y.shape)\n",
    "#     print (Y,type(Y),type(Y[0]),len(Y[0]))\n",
    "    \n",
    "    pca = PCA(n_components=1,svd_solver='full')\n",
    "    teste = pca.fit_transform(Y)\n",
    "    explained_varience = pca.explained_variance_ratio_.sum()\n",
    "    print(float(pca.explained_variance_ratio_.sum()*100))\n",
    "    lista_teste = teste.tolist()\n",
    "    flat_list = []\n",
    "    for sublist in lista_teste:\n",
    "        for item in sublist:\n",
    "            flat_list.append(item)\n",
    "    aflat, seeds_PCA = (list(x) for x in zip(*sorted(zip(flat_list, vindex), reverse=True)))\n",
    "    return (seeds_PCA,np.array(flat_list))"
   ]
  },
  {
   "cell_type": "markdown",
   "metadata": {},
   "source": [
    "Selecionando as posicoes amarelas e azuis dos plots (exceto a diagonal principal). Esta selecoes mudarao de grafo para grafo"
   ]
  },
  {
   "cell_type": "code",
   "execution_count": 32,
   "metadata": {},
   "outputs": [],
   "source": [
    "matrix_teste = X"
   ]
  },
  {
   "cell_type": "code",
   "execution_count": 33,
   "metadata": {},
   "outputs": [
    {
     "name": "stdout",
     "output_type": "stream",
     "text": [
      "99.9748583788\n",
      "56.9464574845\n",
      "99.9657204557\n",
      "57.9045872918\n"
     ]
    }
   ],
   "source": [
    "# Alta correlacao\n",
    "c_1_6 = calcula_PCA(matrix_teste,1,6)\n",
    "c_3_4 = calcula_PCA(matrix_teste,3,4)\n",
    "c_3_5 = calcula_PCA(matrix_teste,3,5)\n",
    "c_4_5 = calcula_PCA(matrix_teste,4,5)"
   ]
  },
  {
   "cell_type": "code",
   "execution_count": 34,
   "metadata": {},
   "outputs": [
    {
     "name": "stdout",
     "output_type": "stream",
     "text": [
      "57.2350583211\n",
      "65.977822331\n",
      "58.4498622044\n"
     ]
    }
   ],
   "source": [
    "# Baixa correlacao\n",
    "c_2_3 = calcula_PCA(matrix_teste,2,3)\n",
    "c_2_4 = calcula_PCA(matrix_teste,2,4)\n",
    "c_2_5 = calcula_PCA(matrix_teste,2,5)"
   ]
  },
  {
   "cell_type": "code",
   "execution_count": 35,
   "metadata": {},
   "outputs": [],
   "source": [
    "# np.append(matrix_teste,c_1_6[0],axis = 1 )"
   ]
  },
  {
   "cell_type": "code",
   "execution_count": 36,
   "metadata": {},
   "outputs": [
    {
     "name": "stdout",
     "output_type": "stream",
     "text": [
      "(array([[ 10,  20,  30, 100],\n",
      "       [ 40,  50,  60, 200]]), (2, 4))\n"
     ]
    }
   ],
   "source": [
    "x = np.array([[10,20,30], [40,50,60]])\n",
    "y = np.array([[100, 200]])\n",
    "y = y.transpose()\n",
    "x = np.hstack((x,y))\n",
    "print(x,x.shape)\n",
    "# a = np.zeros((6,2))\n",
    "# b = np.zeros((6,1))\n",
    "# np.hstack((a,b))"
   ]
  },
  {
   "cell_type": "code",
   "execution_count": 37,
   "metadata": {},
   "outputs": [
    {
     "name": "stdout",
     "output_type": "stream",
     "text": [
      "(5242, 1)\n"
     ]
    }
   ],
   "source": [
    "j = np.array([c_2_3[1]]).transpose()\n",
    "print(j.shape)\n"
   ]
  },
  {
   "cell_type": "code",
   "execution_count": 38,
   "metadata": {},
   "outputs": [
    {
     "data": {
      "text/plain": [
       "(5242, 14)"
      ]
     },
     "execution_count": 38,
     "metadata": {},
     "output_type": "execute_result"
    }
   ],
   "source": [
    "#  adicionando na matrix temporaria\n",
    "matrix_teste = np.hstack((matrix_teste, np.array([c_1_6[1]]).transpose()))\n",
    "matrix_teste = np.hstack((matrix_teste, np.array([c_3_4[1]]).transpose()))\n",
    "matrix_teste = np.hstack((matrix_teste, np.array([c_3_5[1]]).transpose()))\n",
    "matrix_teste = np.hstack((matrix_teste, np.array([c_4_5[1]]).transpose()))\n",
    "matrix_teste = np.hstack((matrix_teste, np.array([c_2_3[1]]).transpose()))\n",
    "matrix_teste = np.hstack((matrix_teste, np.array([c_2_4[1]]).transpose()))\n",
    "matrix_teste = np.hstack((matrix_teste, np.array([c_2_5[1]]).transpose()))\n",
    "matrix_teste.shape"
   ]
  },
  {
   "cell_type": "code",
   "execution_count": 39,
   "metadata": {},
   "outputs": [],
   "source": [
    "labels = ['0_grau','1_betweennes','2_pagerank','3_closeness','4_eigenvector_centrality','5_harmonic_centrality','6_load_centrality','16','34','35','45','23','24','25']"
   ]
  },
  {
   "cell_type": "code",
   "execution_count": 40,
   "metadata": {},
   "outputs": [
    {
     "data": {
      "text/plain": [
       "<matplotlib.axes._subplots.AxesSubplot at 0x42ea830>"
      ]
     },
     "execution_count": 40,
     "metadata": {},
     "output_type": "execute_result"
    },
    {
     "data": {
      "image/png": "[encoded data removed]",
      "text/plain": [
       "<matplotlib.figure.Figure at 0xec57d10>"
      ]
     },
     "metadata": {},
     "output_type": "display_data"
    }
   ],
   "source": [
    "# \n",
    "plt.figure(figsize=(11,9))\n",
    "sns.heatmap(calcKendall(matrix_teste),xticklabels=labels,yticklabels=labels,linewidths=.5)"
   ]
  },
  {
   "cell_type": "code",
   "execution_count": 41,
   "metadata": {},
   "outputs": [
    {
     "data": {
      "image/png": "[encoded data removed]",
      "text/plain": [
       "<matplotlib.figure.Figure at 0x1124c370>"
      ]
     },
     "metadata": {},
     "output_type": "display_data"
    }
   ],
   "source": [
    "plt.figure(figsize=(11,9))\n",
    "corr = calcKendall(matrix_teste)\n",
    "# sns.heatmap(,xticklabels=labels,yticklabels=labels,linewidths=.5)\n",
    "mask = np.zeros_like(corr)\n",
    "mask[np.triu_indices_from(mask)] = True\n",
    "with sns.axes_style(\"white\"):\n",
    "    ax = sns.heatmap(corr, mask=mask, vmax=.0, square=True,xticklabels=labels,yticklabels=labels,linewidths=.5)"
   ]
  },
  {
   "cell_type": "code",
   "execution_count": 42,
   "metadata": {},
   "outputs": [
    {
     "data": {
      "image/png": "[encoded data removed]",
      "text/plain": [
       "<matplotlib.figure.Figure at 0x1127cc70>"
      ]
     },
     "metadata": {},
     "output_type": "display_data"
    }
   ],
   "source": [
    "plt.figure(figsize=(11,9))\n",
    "corr = calcKendall(matrix_teste)\n",
    "# sns.heatmap(,xticklabels=labels,yticklabels=labels,linewidths=.5)\n",
    "mask = np.zeros_like(corr)\n",
    "mask[np.triu_indices_from(mask)] = True\n",
    "with sns.axes_style(\"white\"):\n",
    "    ax = sns.heatmap(corr, mask=mask, vmin=.7, square=True,xticklabels=labels,yticklabels=labels,linewidths=.5)"
   ]
  },
  {
   "cell_type": "code",
   "execution_count": 43,
   "metadata": {},
   "outputs": [],
   "source": [
    "#  COLOCAR ISSO URGENTEMENTE NUM DATAFRAME"
   ]
  },
  {
   "cell_type": "code",
   "execution_count": 44,
   "metadata": {},
   "outputs": [],
   "source": [
    "import pandas as pd\n",
    "\n",
    "import seaborn as sns"
   ]
  },
  {
   "cell_type": "code",
   "execution_count": 45,
   "metadata": {},
   "outputs": [
    {
     "data": {
      "text/plain": [
       "14"
      ]
     },
     "execution_count": 45,
     "metadata": {},
     "output_type": "execute_result"
    }
   ],
   "source": [
    "len(labels)"
   ]
  },
  {
   "cell_type": "code",
   "execution_count": 49,
   "metadata": {},
   "outputs": [
    {
     "data": {
      "text/html": [
       "<div>\n",
       "<style scoped>\n",
       "    .dataframe tbody tr th:only-of-type {\n",
       "        vertical-align: middle;\n",
       "    }\n",
       "\n",
       "    .dataframe tbody tr th {\n",
       "        vertical-align: top;\n",
       "    }\n",
       "\n",
       "    .dataframe thead th {\n",
       "        text-align: right;\n",
       "    }\n",
       "</style>\n",
       "<table border=\"1\" class=\"dataframe\">\n",
       "  <thead>\n",
       "    <tr style=\"text-align: right;\">\n",
       "      <th></th>\n",
       "      <th>col1</th>\n",
       "      <th>col2</th>\n",
       "    </tr>\n",
       "  </thead>\n",
       "  <tbody>\n",
       "    <tr>\n",
       "      <th>0</th>\n",
       "      <td>1</td>\n",
       "      <td>2</td>\n",
       "    </tr>\n",
       "  </tbody>\n",
       "</table>\n",
       "</div>"
      ],
      "text/plain": [
       "   col1  col2\n",
       "0     1     2"
      ]
     },
     "execution_count": 49,
     "metadata": {},
     "output_type": "execute_result"
    }
   ],
   "source": [
    "# escrevendo data frame com as 100 primeiras sementes, ordenadas e suas centralidades \n",
    "d = {'col1':[1] , 'col2': [2]}\n",
    "df = pd.DataFrame(data=d)\n",
    "df\n"
   ]
  },
  {
   "cell_type": "code",
   "execution_count": 50,
   "metadata": {},
   "outputs": [],
   "source": [
    "# corr = stats.zscore(corr)\n",
    "# plt.figure(figsize=(11,9))\n",
    "# sns.heatmap(calcKendall(matrix_teste),xticklabels=labels,yticklabels=labels,linewidths=.5)"
   ]
  },
  {
   "cell_type": "code",
   "execution_count": 51,
   "metadata": {},
   "outputs": [],
   "source": [
    "medidas_novas = [c_1_6,c_3_4,c_3_5,c_4_5,c_2_3,c_2_4,c_2_5]\n",
    "for i in medidas_novas:\n",
    "    l.append(i)\n"
   ]
  },
  {
   "cell_type": "code",
   "execution_count": 52,
   "metadata": {},
   "outputs": [],
   "source": [
    "d = {'0_grau' : seeds_grau[:100],'1_betweennes':seeds_betweennes[:100],\n",
    "     '2_pagerank' :seeds_pagerank[:100],'3_closeness':seeds_closeness[:100],\n",
    "     '4_eigenvector_centrality':seeds_eigenvector_centrality[:100],'5_harmonic_centrality':seeds_harmonic_centrality[:100],\n",
    "     '6_load_centrality':seeds_load_centrality[:100],'m_1_6':c_1_6[0][:100],\n",
    "     'm_34':c_3_4[0][:100],'m_35':c_3_5[0][:100],\n",
    "     'm_45':c_4_5[0][:100],'m_23':c_2_3[0][:100],\n",
    "     'm_24':c_2_4[0][:100],'m_25':c_2_5[0][:100]}\n"
   ]
  },
  {
   "cell_type": "code",
   "execution_count": 53,
   "metadata": {},
   "outputs": [
    {
     "data": {
      "text/html": [
       "<div>\n",
       "<style scoped>\n",
       "    .dataframe tbody tr th:only-of-type {\n",
       "        vertical-align: middle;\n",
       "    }\n",
       "\n",
       "    .dataframe tbody tr th {\n",
       "        vertical-align: top;\n",
       "    }\n",
       "\n",
       "    .dataframe thead th {\n",
       "        text-align: right;\n",
       "    }\n",
       "</style>\n",
       "<table border=\"1\" class=\"dataframe\">\n",
       "  <thead>\n",
       "    <tr style=\"text-align: right;\">\n",
       "      <th></th>\n",
       "      <th>0_grau</th>\n",
       "      <th>1_betweennes</th>\n",
       "      <th>2_pagerank</th>\n",
       "      <th>3_closeness</th>\n",
       "      <th>4_eigenvector_centrality</th>\n",
       "      <th>5_harmonic_centrality</th>\n",
       "      <th>6_load_centrality</th>\n",
       "      <th>m_1_6</th>\n",
       "      <th>m_23</th>\n",
       "      <th>m_24</th>\n",
       "      <th>m_25</th>\n",
       "      <th>m_34</th>\n",
       "      <th>m_35</th>\n",
       "      <th>m_45</th>\n",
       "    </tr>\n",
       "  </thead>\n",
       "  <tbody>\n",
       "    <tr>\n",
       "      <th>0</th>\n",
       "      <td>101</td>\n",
       "      <td>1037</td>\n",
       "      <td>108</td>\n",
       "      <td>1037</td>\n",
       "      <td>101</td>\n",
       "      <td>1037</td>\n",
       "      <td>1037</td>\n",
       "      <td>1037</td>\n",
       "      <td>108</td>\n",
       "      <td>295</td>\n",
       "      <td>108</td>\n",
       "      <td>101</td>\n",
       "      <td>5111</td>\n",
       "      <td>101</td>\n",
       "    </tr>\n",
       "    <tr>\n",
       "      <th>1</th>\n",
       "      <td>295</td>\n",
       "      <td>11</td>\n",
       "      <td>1037</td>\n",
       "      <td>147</td>\n",
       "      <td>265</td>\n",
       "      <td>288</td>\n",
       "      <td>207</td>\n",
       "      <td>207</td>\n",
       "      <td>1037</td>\n",
       "      <td>101</td>\n",
       "      <td>1037</td>\n",
       "      <td>265</td>\n",
       "      <td>5238</td>\n",
       "      <td>279</td>\n",
       "    </tr>\n",
       "    <tr>\n",
       "      <th>2</th>\n",
       "      <td>279</td>\n",
       "      <td>207</td>\n",
       "      <td>577</td>\n",
       "      <td>11</td>\n",
       "      <td>279</td>\n",
       "      <td>101</td>\n",
       "      <td>11</td>\n",
       "      <td>11</td>\n",
       "      <td>577</td>\n",
       "      <td>279</td>\n",
       "      <td>577</td>\n",
       "      <td>279</td>\n",
       "      <td>5237</td>\n",
       "      <td>265</td>\n",
       "    </tr>\n",
       "    <tr>\n",
       "      <th>3</th>\n",
       "      <td>103</td>\n",
       "      <td>53</td>\n",
       "      <td>11</td>\n",
       "      <td>288</td>\n",
       "      <td>296</td>\n",
       "      <td>279</td>\n",
       "      <td>53</td>\n",
       "      <td>53</td>\n",
       "      <td>11</td>\n",
       "      <td>103</td>\n",
       "      <td>11</td>\n",
       "      <td>296</td>\n",
       "      <td>5236</td>\n",
       "      <td>288</td>\n",
       "    </tr>\n",
       "    <tr>\n",
       "      <th>4</th>\n",
       "      <td>77</td>\n",
       "      <td>577</td>\n",
       "      <td>186</td>\n",
       "      <td>244</td>\n",
       "      <td>77</td>\n",
       "      <td>11</td>\n",
       "      <td>20</td>\n",
       "      <td>20</td>\n",
       "      <td>295</td>\n",
       "      <td>288</td>\n",
       "      <td>295</td>\n",
       "      <td>77</td>\n",
       "      <td>5235</td>\n",
       "      <td>77</td>\n",
       "    </tr>\n",
       "  </tbody>\n",
       "</table>\n",
       "</div>"
      ],
      "text/plain": [
       "   0_grau  1_betweennes  2_pagerank  3_closeness  4_eigenvector_centrality  \\\n",
       "0     101          1037         108         1037                       101   \n",
       "1     295            11        1037          147                       265   \n",
       "2     279           207         577           11                       279   \n",
       "3     103            53          11          288                       296   \n",
       "4      77           577         186          244                        77   \n",
       "\n",
       "   5_harmonic_centrality  6_load_centrality  m_1_6  m_23  m_24  m_25  m_34  \\\n",
       "0                   1037               1037   1037   108   295   108   101   \n",
       "1                    288                207    207  1037   101  1037   265   \n",
       "2                    101                 11     11   577   279   577   279   \n",
       "3                    279                 53     53    11   103    11   296   \n",
       "4                     11                 20     20   295   288   295    77   \n",
       "\n",
       "   m_35  m_45  \n",
       "0  5111   101  \n",
       "1  5238   279  \n",
       "2  5237   265  \n",
       "3  5236   288  \n",
       "4  5235    77  "
      ]
     },
     "execution_count": 53,
     "metadata": {},
     "output_type": "execute_result"
    }
   ],
   "source": [
    "df = pd.DataFrame(data=d)\n",
    "df.head()"
   ]
  },
  {
   "cell_type": "code",
   "execution_count": 54,
   "metadata": {},
   "outputs": [
    {
     "data": {
      "text/html": [
       "<div>\n",
       "<style scoped>\n",
       "    .dataframe tbody tr th:only-of-type {\n",
       "        vertical-align: middle;\n",
       "    }\n",
       "\n",
       "    .dataframe tbody tr th {\n",
       "        vertical-align: top;\n",
       "    }\n",
       "\n",
       "    .dataframe thead th {\n",
       "        text-align: right;\n",
       "    }\n",
       "</style>\n",
       "<table border=\"1\" class=\"dataframe\">\n",
       "  <thead>\n",
       "    <tr style=\"text-align: right;\">\n",
       "      <th></th>\n",
       "      <th>0_grau</th>\n",
       "      <th>1_betweennes</th>\n",
       "      <th>2_pagerank</th>\n",
       "      <th>3_closeness</th>\n",
       "      <th>4_eigenvector_centrality</th>\n",
       "      <th>5_harmonic_centrality</th>\n",
       "      <th>6_load_centrality</th>\n",
       "      <th>m_1_6</th>\n",
       "      <th>m_23</th>\n",
       "      <th>m_24</th>\n",
       "      <th>m_25</th>\n",
       "      <th>m_34</th>\n",
       "      <th>m_35</th>\n",
       "      <th>m_45</th>\n",
       "    </tr>\n",
       "  </thead>\n",
       "  <tbody>\n",
       "    <tr>\n",
       "      <th>0_grau</th>\n",
       "      <td>1.000000</td>\n",
       "      <td>0.129217</td>\n",
       "      <td>0.154737</td>\n",
       "      <td>-0.079455</td>\n",
       "      <td>0.249863</td>\n",
       "      <td>0.090433</td>\n",
       "      <td>0.341746</td>\n",
       "      <td>0.182783</td>\n",
       "      <td>0.058150</td>\n",
       "      <td>0.354303</td>\n",
       "      <td>0.133350</td>\n",
       "      <td>0.322973</td>\n",
       "      <td>-0.804575</td>\n",
       "      <td>0.403174</td>\n",
       "    </tr>\n",
       "    <tr>\n",
       "      <th>1_betweennes</th>\n",
       "      <td>0.129217</td>\n",
       "      <td>1.000000</td>\n",
       "      <td>-0.000697</td>\n",
       "      <td>-0.120104</td>\n",
       "      <td>0.201155</td>\n",
       "      <td>0.147473</td>\n",
       "      <td>0.067082</td>\n",
       "      <td>0.193167</td>\n",
       "      <td>-0.027109</td>\n",
       "      <td>0.065662</td>\n",
       "      <td>0.026414</td>\n",
       "      <td>0.121508</td>\n",
       "      <td>-0.288173</td>\n",
       "      <td>0.108298</td>\n",
       "    </tr>\n",
       "    <tr>\n",
       "      <th>2_pagerank</th>\n",
       "      <td>0.154737</td>\n",
       "      <td>-0.000697</td>\n",
       "      <td>1.000000</td>\n",
       "      <td>-0.145390</td>\n",
       "      <td>0.116471</td>\n",
       "      <td>0.135732</td>\n",
       "      <td>0.023612</td>\n",
       "      <td>0.049812</td>\n",
       "      <td>-0.070515</td>\n",
       "      <td>0.043663</td>\n",
       "      <td>-0.097861</td>\n",
       "      <td>0.145181</td>\n",
       "      <td>-0.217616</td>\n",
       "      <td>-0.009657</td>\n",
       "    </tr>\n",
       "    <tr>\n",
       "      <th>3_closeness</th>\n",
       "      <td>-0.079455</td>\n",
       "      <td>-0.120104</td>\n",
       "      <td>-0.145390</td>\n",
       "      <td>1.000000</td>\n",
       "      <td>-0.016639</td>\n",
       "      <td>0.041999</td>\n",
       "      <td>-0.159111</td>\n",
       "      <td>-0.168147</td>\n",
       "      <td>-0.015803</td>\n",
       "      <td>0.144760</td>\n",
       "      <td>-0.071848</td>\n",
       "      <td>-0.023812</td>\n",
       "      <td>0.016988</td>\n",
       "      <td>-0.049486</td>\n",
       "    </tr>\n",
       "    <tr>\n",
       "      <th>4_eigenvector_centrality</th>\n",
       "      <td>0.249863</td>\n",
       "      <td>0.201155</td>\n",
       "      <td>0.116471</td>\n",
       "      <td>-0.016639</td>\n",
       "      <td>1.000000</td>\n",
       "      <td>0.055910</td>\n",
       "      <td>0.206643</td>\n",
       "      <td>0.189512</td>\n",
       "      <td>-0.071732</td>\n",
       "      <td>0.194268</td>\n",
       "      <td>0.046866</td>\n",
       "      <td>0.122657</td>\n",
       "      <td>-0.369066</td>\n",
       "      <td>0.014651</td>\n",
       "    </tr>\n",
       "    <tr>\n",
       "      <th>5_harmonic_centrality</th>\n",
       "      <td>0.090433</td>\n",
       "      <td>0.147473</td>\n",
       "      <td>0.135732</td>\n",
       "      <td>0.041999</td>\n",
       "      <td>0.055910</td>\n",
       "      <td>1.000000</td>\n",
       "      <td>0.171311</td>\n",
       "      <td>0.085473</td>\n",
       "      <td>-0.088601</td>\n",
       "      <td>0.078800</td>\n",
       "      <td>-0.008483</td>\n",
       "      <td>0.434082</td>\n",
       "      <td>-0.197599</td>\n",
       "      <td>-0.032695</td>\n",
       "    </tr>\n",
       "    <tr>\n",
       "      <th>6_load_centrality</th>\n",
       "      <td>0.341746</td>\n",
       "      <td>0.067082</td>\n",
       "      <td>0.023612</td>\n",
       "      <td>-0.159111</td>\n",
       "      <td>0.206643</td>\n",
       "      <td>0.171311</td>\n",
       "      <td>1.000000</td>\n",
       "      <td>0.345986</td>\n",
       "      <td>-0.036923</td>\n",
       "      <td>0.005737</td>\n",
       "      <td>0.080932</td>\n",
       "      <td>0.200648</td>\n",
       "      <td>-0.347486</td>\n",
       "      <td>0.100527</td>\n",
       "    </tr>\n",
       "    <tr>\n",
       "      <th>m_1_6</th>\n",
       "      <td>0.182783</td>\n",
       "      <td>0.193167</td>\n",
       "      <td>0.049812</td>\n",
       "      <td>-0.168147</td>\n",
       "      <td>0.189512</td>\n",
       "      <td>0.085473</td>\n",
       "      <td>0.345986</td>\n",
       "      <td>1.000000</td>\n",
       "      <td>0.055450</td>\n",
       "      <td>-0.099797</td>\n",
       "      <td>-0.003835</td>\n",
       "      <td>0.318194</td>\n",
       "      <td>-0.283362</td>\n",
       "      <td>0.206023</td>\n",
       "    </tr>\n",
       "    <tr>\n",
       "      <th>m_23</th>\n",
       "      <td>0.058150</td>\n",
       "      <td>-0.027109</td>\n",
       "      <td>-0.070515</td>\n",
       "      <td>-0.015803</td>\n",
       "      <td>-0.071732</td>\n",
       "      <td>-0.088601</td>\n",
       "      <td>-0.036923</td>\n",
       "      <td>0.055450</td>\n",
       "      <td>1.000000</td>\n",
       "      <td>0.161836</td>\n",
       "      <td>0.279621</td>\n",
       "      <td>0.029416</td>\n",
       "      <td>-0.133927</td>\n",
       "      <td>0.070488</td>\n",
       "    </tr>\n",
       "    <tr>\n",
       "      <th>m_24</th>\n",
       "      <td>0.354303</td>\n",
       "      <td>0.065662</td>\n",
       "      <td>0.043663</td>\n",
       "      <td>0.144760</td>\n",
       "      <td>0.194268</td>\n",
       "      <td>0.078800</td>\n",
       "      <td>0.005737</td>\n",
       "      <td>-0.099797</td>\n",
       "      <td>0.161836</td>\n",
       "      <td>1.000000</td>\n",
       "      <td>-0.074079</td>\n",
       "      <td>0.171622</td>\n",
       "      <td>-0.457600</td>\n",
       "      <td>0.307440</td>\n",
       "    </tr>\n",
       "    <tr>\n",
       "      <th>m_25</th>\n",
       "      <td>0.133350</td>\n",
       "      <td>0.026414</td>\n",
       "      <td>-0.097861</td>\n",
       "      <td>-0.071848</td>\n",
       "      <td>0.046866</td>\n",
       "      <td>-0.008483</td>\n",
       "      <td>0.080932</td>\n",
       "      <td>-0.003835</td>\n",
       "      <td>0.279621</td>\n",
       "      <td>-0.074079</td>\n",
       "      <td>1.000000</td>\n",
       "      <td>0.016736</td>\n",
       "      <td>-0.148217</td>\n",
       "      <td>-0.003206</td>\n",
       "    </tr>\n",
       "    <tr>\n",
       "      <th>m_34</th>\n",
       "      <td>0.322973</td>\n",
       "      <td>0.121508</td>\n",
       "      <td>0.145181</td>\n",
       "      <td>-0.023812</td>\n",
       "      <td>0.122657</td>\n",
       "      <td>0.434082</td>\n",
       "      <td>0.200648</td>\n",
       "      <td>0.318194</td>\n",
       "      <td>0.029416</td>\n",
       "      <td>0.171622</td>\n",
       "      <td>0.016736</td>\n",
       "      <td>1.000000</td>\n",
       "      <td>-0.426548</td>\n",
       "      <td>0.130925</td>\n",
       "    </tr>\n",
       "    <tr>\n",
       "      <th>m_35</th>\n",
       "      <td>-0.804575</td>\n",
       "      <td>-0.288173</td>\n",
       "      <td>-0.217616</td>\n",
       "      <td>0.016988</td>\n",
       "      <td>-0.369066</td>\n",
       "      <td>-0.197599</td>\n",
       "      <td>-0.347486</td>\n",
       "      <td>-0.283362</td>\n",
       "      <td>-0.133927</td>\n",
       "      <td>-0.457600</td>\n",
       "      <td>-0.148217</td>\n",
       "      <td>-0.426548</td>\n",
       "      <td>1.000000</td>\n",
       "      <td>-0.363263</td>\n",
       "    </tr>\n",
       "    <tr>\n",
       "      <th>m_45</th>\n",
       "      <td>0.403174</td>\n",
       "      <td>0.108298</td>\n",
       "      <td>-0.009657</td>\n",
       "      <td>-0.049486</td>\n",
       "      <td>0.014651</td>\n",
       "      <td>-0.032695</td>\n",
       "      <td>0.100527</td>\n",
       "      <td>0.206023</td>\n",
       "      <td>0.070488</td>\n",
       "      <td>0.307440</td>\n",
       "      <td>-0.003206</td>\n",
       "      <td>0.130925</td>\n",
       "      <td>-0.363263</td>\n",
       "      <td>1.000000</td>\n",
       "    </tr>\n",
       "  </tbody>\n",
       "</table>\n",
       "</div>"
      ],
      "text/plain": [
       "                            0_grau  1_betweennes  2_pagerank  3_closeness  \\\n",
       "0_grau                    1.000000      0.129217    0.154737    -0.079455   \n",
       "1_betweennes              0.129217      1.000000   -0.000697    -0.120104   \n",
       "2_pagerank                0.154737     -0.000697    1.000000    -0.145390   \n",
       "3_closeness              -0.079455     -0.120104   -0.145390     1.000000   \n",
       "4_eigenvector_centrality  0.249863      0.201155    0.116471    -0.016639   \n",
       "5_harmonic_centrality     0.090433      0.147473    0.135732     0.041999   \n",
       "6_load_centrality         0.341746      0.067082    0.023612    -0.159111   \n",
       "m_1_6                     0.182783      0.193167    0.049812    -0.168147   \n",
       "m_23                      0.058150     -0.027109   -0.070515    -0.015803   \n",
       "m_24                      0.354303      0.065662    0.043663     0.144760   \n",
       "m_25                      0.133350      0.026414   -0.097861    -0.071848   \n",
       "m_34                      0.322973      0.121508    0.145181    -0.023812   \n",
       "m_35                     -0.804575     -0.288173   -0.217616     0.016988   \n",
       "m_45                      0.403174      0.108298   -0.009657    -0.049486   \n",
       "\n",
       "                          4_eigenvector_centrality  5_harmonic_centrality  \\\n",
       "0_grau                                    0.249863               0.090433   \n",
       "1_betweennes                              0.201155               0.147473   \n",
       "2_pagerank                                0.116471               0.135732   \n",
       "3_closeness                              -0.016639               0.041999   \n",
       "4_eigenvector_centrality                  1.000000               0.055910   \n",
       "5_harmonic_centrality                     0.055910               1.000000   \n",
       "6_load_centrality                         0.206643               0.171311   \n",
       "m_1_6                                     0.189512               0.085473   \n",
       "m_23                                     -0.071732              -0.088601   \n",
       "m_24                                      0.194268               0.078800   \n",
       "m_25                                      0.046866              -0.008483   \n",
       "m_34                                      0.122657               0.434082   \n",
       "m_35                                     -0.369066              -0.197599   \n",
       "m_45                                      0.014651              -0.032695   \n",
       "\n",
       "                          6_load_centrality     m_1_6      m_23      m_24  \\\n",
       "0_grau                             0.341746  0.182783  0.058150  0.354303   \n",
       "1_betweennes                       0.067082  0.193167 -0.027109  0.065662   \n",
       "2_pagerank                         0.023612  0.049812 -0.070515  0.043663   \n",
       "3_closeness                       -0.159111 -0.168147 -0.015803  0.144760   \n",
       "4_eigenvector_centrality           0.206643  0.189512 -0.071732  0.194268   \n",
       "5_harmonic_centrality              0.171311  0.085473 -0.088601  0.078800   \n",
       "6_load_centrality                  1.000000  0.345986 -0.036923  0.005737   \n",
       "m_1_6                              0.345986  1.000000  0.055450 -0.099797   \n",
       "m_23                              -0.036923  0.055450  1.000000  0.161836   \n",
       "m_24                               0.005737 -0.099797  0.161836  1.000000   \n",
       "m_25                               0.080932 -0.003835  0.279621 -0.074079   \n",
       "m_34                               0.200648  0.318194  0.029416  0.171622   \n",
       "m_35                              -0.347486 -0.283362 -0.133927 -0.457600   \n",
       "m_45                               0.100527  0.206023  0.070488  0.307440   \n",
       "\n",
       "                              m_25      m_34      m_35      m_45  \n",
       "0_grau                    0.133350  0.322973 -0.804575  0.403174  \n",
       "1_betweennes              0.026414  0.121508 -0.288173  0.108298  \n",
       "2_pagerank               -0.097861  0.145181 -0.217616 -0.009657  \n",
       "3_closeness              -0.071848 -0.023812  0.016988 -0.049486  \n",
       "4_eigenvector_centrality  0.046866  0.122657 -0.369066  0.014651  \n",
       "5_harmonic_centrality    -0.008483  0.434082 -0.197599 -0.032695  \n",
       "6_load_centrality         0.080932  0.200648 -0.347486  0.100527  \n",
       "m_1_6                    -0.003835  0.318194 -0.283362  0.206023  \n",
       "m_23                      0.279621  0.029416 -0.133927  0.070488  \n",
       "m_24                     -0.074079  0.171622 -0.457600  0.307440  \n",
       "m_25                      1.000000  0.016736 -0.148217 -0.003206  \n",
       "m_34                      0.016736  1.000000 -0.426548  0.130925  \n",
       "m_35                     -0.148217 -0.426548  1.000000 -0.363263  \n",
       "m_45                     -0.003206  0.130925 -0.363263  1.000000  "
      ]
     },
     "execution_count": 54,
     "metadata": {},
     "output_type": "execute_result"
    }
   ],
   "source": [
    "df.corr()"
   ]
  },
  {
   "cell_type": "code",
   "execution_count": 55,
   "metadata": {},
   "outputs": [
    {
     "data": {
      "text/plain": [
       "<matplotlib.axes._subplots.AxesSubplot at 0xee9d370>"
      ]
     },
     "execution_count": 55,
     "metadata": {},
     "output_type": "execute_result"
    },
    {
     "data": {
      "image/png": "[encoded data removed]",
      "text/plain": [
       "<matplotlib.figure.Figure at 0x11612db0>"
      ]
     },
     "metadata": {},
     "output_type": "display_data"
    }
   ],
   "source": [
    "plt.figure(figsize=(11,9))\n",
    "sns.heatmap(df.corr(),xticklabels=labels,yticklabels=labels,linewidths=.5)"
   ]
  },
  {
   "cell_type": "code",
   "execution_count": 105,
   "metadata": {},
   "outputs": [],
   "source": [
    "df.to_csv('semente-CA-GrQcs.csv',sep='\\t', encoding='utf-8')"
   ]
  },
  {
   "cell_type": "code",
   "execution_count": 56,
   "metadata": {},
   "outputs": [],
   "source": [
    "sementes = [seeds_grau[:50],seeds_betweennes[:50],\n",
    "            seeds_pagerank[:50],seeds_closeness[:50],\n",
    "            seeds_eigenvector_centrality[:50],seeds_harmonic_centrality[:50],\n",
    "            seeds_load_centrality[:50],c_1_6[:50],\n",
    "            c_3_4[:50],c_3_5[:50],\n",
    "            c_4_5[:50],c_2_3[:50],\n",
    "            c_2_4[:50],c_2_5[:50]]"
   ]
  },
  {
   "cell_type": "code",
   "execution_count": 61,
   "metadata": {},
   "outputs": [],
   "source": [
    "with open('sementes-CA-GrQc.txt', 'wb') as f:\n",
    "    pickle.dump(sementes, f)"
   ]
  },
  {
   "cell_type": "code",
   "execution_count": 64,
   "metadata": {},
   "outputs": [
    {
     "ename": "TypeError",
     "evalue": "'tuple' object doesn't support item deletion",
     "output_type": "error",
     "traceback": [
      "\u001b[1;31m---------------------------------------------------------------------------\u001b[0m",
      "\u001b[1;31mTypeError\u001b[0m                                 Traceback (most recent call last)",
      "\u001b[1;32m<ipython-input-64-55b33845ad08>\u001b[0m in \u001b[0;36m<module>\u001b[1;34m()\u001b[0m\n\u001b[1;32m----> 1\u001b[1;33m \u001b[1;32mdel\u001b[0m\u001b[1;33m(\u001b[0m\u001b[0msementes\u001b[0m\u001b[1;33m[\u001b[0m\u001b[1;33m-\u001b[0m\u001b[1;36m1\u001b[0m\u001b[1;33m]\u001b[0m\u001b[1;33m[\u001b[0m\u001b[1;33m-\u001b[0m\u001b[1;36m1\u001b[0m\u001b[1;33m]\u001b[0m\u001b[1;33m)\u001b[0m\u001b[1;33m\u001b[0m\u001b[0m\n\u001b[0m",
      "\u001b[1;31mTypeError\u001b[0m: 'tuple' object doesn't support item deletion"
     ]
    }
   ],
   "source": [
    "del(sementes[-1][-1])"
   ]
  },
  {
   "cell_type": "code",
   "execution_count": null,
   "metadata": {},
   "outputs": [],
   "source": []
  }
 ],
 "metadata": {
  "kernelspec": {
   "display_name": "Python 2",
   "language": "python",
   "name": "python2"
  },
  "language_info": {
   "codemirror_mode": {
    "name": "ipython",
    "version": 2
   },
   "file_extension": ".py",
   "mimetype": "text/x-python",
   "name": "python",
   "nbconvert_exporter": "python",
   "pygments_lexer": "ipython2",
   "version": "2.7.14"
  }
 },
 "nbformat": 4,
 "nbformat_minor": 2
}
