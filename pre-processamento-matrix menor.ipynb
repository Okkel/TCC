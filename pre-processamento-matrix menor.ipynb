{
 "cells": [
  {
   "cell_type": "code",
   "execution_count": 1,
   "metadata": {},
   "outputs": [],
   "source": [
    "import numpy as np\n",
    "import random\n",
    "import networkx as nx\n",
    "import matplotlib.pyplot as plt\n",
    "from scipy.stats import kendalltau\n",
    "from sklearn.decomposition import PCA\n"
   ]
  },
  {
   "cell_type": "code",
   "execution_count": 2,
   "metadata": {},
   "outputs": [],
   "source": [
    "import random\n",
    "import sys\n",
    "import copy\n",
    "from igraph import *\n",
    "import time\n",
    "import numpy as np"
   ]
  },
  {
   "cell_type": "code",
   "execution_count": 3,
   "metadata": {},
   "outputs": [],
   "source": [
    "g = Graph.Read_Ncol(\"CA-GrQc.txt\", directed = False)\n",
    "# all_lines = []\n",
    "\n",
    "# my_list = []\n",
    "\n",
    "\n",
    "# print('grau')\n",
    "# vindex = [v.index for v in g.vs]\n",
    "# a = g.degree(g.vs(), mode=ALL, loops=False)\n",
    "# my_list.append(a)\n",
    "# a, seeds_grau = (list(x) for x in zip(*sorted(zip(a, vindex), reverse=True)))\n",
    "# print (seeds_grau[:50])\n",
    "\n",
    "# print('betweennes')\n",
    "# vindex = [v.index for v in g.vs]\n",
    "# a = g.betweenness()\n",
    "# my_list.append(a)\n",
    "# a, seeds_betweennes = (list(x) for x in zip(*sorted(zip(a, vindex), reverse=True)))\n",
    "# print (seeds_betweennes[:50])\n",
    "\n",
    "# print('pagerank')\n",
    "# vindex = [v.index for v in g.vs]\n",
    "# a = g.pagerank(g.vs())\n",
    "# my_list.append(a)\n",
    "# a, seeds_pagerank = (list(x) for x in zip(*sorted(zip(a, vindex), reverse=True)))\n",
    "# print (seeds_pagerank[:50])\n",
    "\n",
    "# print('closeness')\n",
    "# vindex = [v.index for v in g.vs]\n",
    "# a = g.closeness()\n",
    "# my_list.append(a)\n",
    "# a, seeds_closeness = (list(x) for x in zip(*sorted(zip(a, vindex), reverse=True)))\n",
    "# print (seeds_closeness[:50])\n",
    "\n",
    "# # for i in my_list:\n",
    "# #     print (len(i))"
   ]
  },
  {
   "cell_type": "code",
   "execution_count": 17,
   "metadata": {},
   "outputs": [
    {
     "data": {
      "text/plain": [
       "5242"
      ]
     },
     "execution_count": 17,
     "metadata": {},
     "output_type": "execute_result"
    }
   ],
   "source": [
    "n = 50\n",
    "a = max([max(seeds_grau[:n]),max(seeds_betweennes[:n]),max(seeds_pagerank[:n]),max(seeds_closeness[:n])])\n",
    "g.vcount()"
   ]
  },
  {
   "cell_type": "code",
   "execution_count": 14,
   "metadata": {},
   "outputs": [
    {
     "data": {
      "text/plain": [
       "(25758, 4)"
      ]
     },
     "execution_count": 14,
     "metadata": {},
     "output_type": "execute_result"
    }
   ],
   "source": [
    "my_list = [i[:a] for i in my_list]\n",
    "X = np.array(my_list)\n",
    "X = X.transpose()\n",
    "X.shape"
   ]
  },
  {
   "cell_type": "code",
   "execution_count": 20,
   "metadata": {},
   "outputs": [
    {
     "name": "stdout",
     "output_type": "stream",
     "text": [
      "99.9999799269\n",
      "(array([0.9999998]), 1)\n",
      "(array([1899136.06932416]), 1)\n"
     ]
    }
   ],
   "source": [
    "varience_values = []\n",
    "\n",
    "pca = PCA(n_components=1,svd_solver='full')\n",
    "teste = pca.fit_transform(X)\n",
    "explained_varience = pca.explained_variance_ratio_.sum()\n",
    "print(float(pca.explained_variance_ratio_.sum()*100))\n",
    "print(pca.explained_variance_ratio_,len(pca.explained_variance_ratio_))\n",
    "print(pca.singular_values_,len(pca.singular_values_))  "
   ]
  },
  {
   "cell_type": "code",
   "execution_count": 21,
   "metadata": {},
   "outputs": [
    {
     "name": "stdout",
     "output_type": "stream",
     "text": [
      "[[ 10244.7909713 ]\n",
      " [ -8511.0503434 ]\n",
      " [-13308.00381764]\n",
      " ...\n",
      " [-13308.00325134]\n",
      " [  3804.52760873]\n",
      " [-13308.00268505]]\n"
     ]
    }
   ],
   "source": [
    "print(teste)"
   ]
  },
  {
   "cell_type": "code",
   "execution_count": 22,
   "metadata": {},
   "outputs": [],
   "source": [
    "lista_teste = teste.tolist()\n",
    "flat_list = []\n",
    "for sublist in lista_teste:\n",
    "    for item in sublist:\n",
    "        flat_list.append(item)\n",
    "# flat_list"
   ]
  },
  {
   "cell_type": "code",
   "execution_count": 23,
   "metadata": {},
   "outputs": [],
   "source": [
    "vindex = [v.index for v in g.vs]\n",
    "aflat, seeds_PCA = (list(x) for x in zip(*sorted(zip(flat_list, vindex), reverse=True)))\n",
    "# seeds_PCA"
   ]
  },
  {
   "cell_type": "code",
   "execution_count": 24,
   "metadata": {},
   "outputs": [],
   "source": [
    "n = 50\n",
    "\n",
    "with open('sementesPCA.txt', 'w') as f:\n",
    "    f.write(str(seeds_PCA[0:n]))\n",
    "    f.write(\"\\n\")\n",
    "    f.write(str(seeds_grau[0:n]))\n",
    "    f.write(\"\\n\")\n",
    "    f.write(str(seeds_betweennes[0:n]))\n",
    "    f.write(\"\\n\")\n",
    "    f.write(str(seeds_pagerank[0:n]))\n",
    "    f.write(\"\\n\")\n",
    "    f.write(str(seeds_closeness[0:n]))"
   ]
  },
  {
   "cell_type": "code",
   "execution_count": 4,
   "metadata": {},
   "outputs": [],
   "source": [
    "g.write_edgelist(\"CA_GrQc.txt\")\n",
    "\n",
    "# networkx a partir daqui\n"
   ]
  },
  {
   "cell_type": "code",
   "execution_count": 15,
   "metadata": {},
   "outputs": [],
   "source": [
    "gnx = nx.read_edgelist(\"CA_GrQc\")\n"
   ]
  },
  {
   "cell_type": "code",
   "execution_count": 4,
   "metadata": {},
   "outputs": [
    {
     "data": {
      "text/plain": [
       "igraph.Vertex(<igraph.Graph object at 0x0EB12930>,0,{'name': '3466'})"
      ]
     },
     "execution_count": 4,
     "metadata": {},
     "output_type": "execute_result"
    }
   ],
   "source": [
    "g.vs[0]\n",
    "# gnx.degree()\n"
   ]
  },
  {
   "cell_type": "code",
   "execution_count": null,
   "metadata": {},
   "outputs": [],
   "source": []
  }
 ],
 "metadata": {
  "kernelspec": {
   "display_name": "Python 2",
   "language": "python",
   "name": "python2"
  },
  "language_info": {
   "codemirror_mode": {
    "name": "ipython",
    "version": 2
   },
   "file_extension": ".py",
   "mimetype": "text/x-python",
   "name": "python",
   "nbconvert_exporter": "python",
   "pygments_lexer": "ipython2",
   "version": "2.7.14"
  }
 },
 "nbformat": 4,
 "nbformat_minor": 2
}
