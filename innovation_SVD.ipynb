{
 "cells": [
  {
   "cell_type": "code",
   "execution_count": 23,
   "metadata": {},
   "outputs": [],
   "source": [
    "import numpy as np\n",
    "import random\n",
    "import networkx as nx\n",
    "import matplotlib.pyplot as plt\n",
    "from scipy.stats import kendalltau\n",
    "from scipy.stats import spearmanr\n",
    "from scipy import stats\n",
    "# from sklearn.decomposition import PCA\n",
    "import seaborn as sns\n",
    "import random\n",
    "import sys\n",
    "import copy\n",
    "from igraph import *\n",
    "import time\n",
    "import numpy as np\n",
    "import pickle\n",
    "import numpy as np\n",
    "import matplotlib.pyplot as plt\n",
    "from sklearn.decomposition import TruncatedSVD"
   ]
  },
  {
   "cell_type": "code",
   "execution_count": 24,
   "metadata": {},
   "outputs": [],
   "source": [
    "g = Graph.Read_Ncol(\"moreno_innovation\", directed = False)\n",
    "with open('redes e centralidades/centralidades-moreno_innovation-picke.txt', 'rb') as f:\n",
    "    centralidade_list = pickle.load(f)"
   ]
  },
  {
   "cell_type": "code",
   "execution_count": 25,
   "metadata": {},
   "outputs": [
    {
     "name": "stdout",
     "output_type": "stream",
     "text": [
      "[0.14166666666666666, 0.125, 0.10833333333333334, 0.09166666666666666, 0.0875, 0.08333333333333333, 0.08333333333333333, 0.07916666666666666, 0.07916666666666666, 0.07916666666666666] \n",
      "\n",
      "[0.015428116257902795, 0.014893273699691864, 0.013446400865046502, 0.01317090555284316, 0.012641405696064147, 0.01224842643854434, 0.011553744916256173, 0.01115844708010288, 0.011033386857012209, 0.010968406471336475] \n",
      "\n",
      "[0.022346151558683046, 0.020422286891691843, 0.019295878270764122, 0.018037591720783612, 0.017331885990358262, 0.016604678868986544, 0.016564138664586888, 0.016328232519028943, 0.01427468893396103, 0.012985829002073793] \n",
      "\n",
      "[0.21201851851851852, 0.20128340365682137, 0.19631344307270235, 0.19081666666666666, 0.1841859716859717, 0.18277458492975737, 0.18001572327044027, 0.17933897243107771, 0.17668209876543212, 0.176030135301353] \n",
      "\n",
      "[0.43589637636200435, 0.3879723945867163, 0.3337180214582526, 0.33357797629507274, 0.3292605894533414, 0.2488885415570631, 0.24069688126937164, 0.20201360326911863, 0.18385510298588956, 0.17640816433264137] \n",
      "\n",
      "[59.500000000000036, 55.25000000000003, 54.50000000000003, 53.000000000000014, 51.16666666666672, 51.16666666666669, 49.83333333333335, 49.58333333333337, 49.53333333333335, 48.58333333333337] \n",
      "\n",
      "[0.014589153231608774, 0.014315609653225163, 0.013677156723432438, 0.013228269381904321, 0.012151275269715826, 0.01202473892034344, 0.011371411322160976, 0.011232019425719301, 0.01122364009818246, 0.01072889916465579] \n",
      "\n"
     ]
    }
   ],
   "source": [
    "for i in centralidade_list:\n",
    "    \n",
    "    print sorted(i,reverse=True)[:10],'\\n'"
   ]
  },
  {
   "cell_type": "code",
   "execution_count": 26,
   "metadata": {},
   "outputs": [
    {
     "data": {
      "text/plain": [
       "(241, 7)"
      ]
     },
     "execution_count": 26,
     "metadata": {},
     "output_type": "execute_result"
    }
   ],
   "source": [
    "X = np.array(centralidade_list)\n",
    "X = X.transpose()\n",
    "X[5] = stats.zscore(X[5])\n",
    "\n",
    "# problemas de escala\n",
    "\n",
    "# X = stats.zscore(X)\n",
    "X.shape"
   ]
  },
  {
   "cell_type": "code",
   "execution_count": 27,
   "metadata": {},
   "outputs": [
    {
     "name": "stdout",
     "output_type": "stream",
     "text": [
      "241\n"
     ]
    }
   ],
   "source": [
    "svd = TruncatedSVD(n_components=1)\n",
    "svd.fit(X)\n",
    "svd_values = svd.transform(X)\n",
    "print(len(svd_values))"
   ]
  },
  {
   "cell_type": "code",
   "execution_count": 28,
   "metadata": {},
   "outputs": [],
   "source": [
    "def calcula_SVD(matrix,col1,col2): # pca entre duas colunas\n",
    "    vindex = [i for i in range(g.vcount())]\n",
    "    \n",
    "    Y = np.array([matrix[:,col1],matrix[:,col2]])\n",
    "    Y = Y.transpose()\n",
    "#     print (Y.shape)\n",
    "#     print (Y,type(Y),type(Y[0]),len(Y[0]))\n",
    "    svd = TruncatedSVD(n_components=1)\n",
    "    svd.fit(Y)\n",
    "    flat_list = svd.transform(Y)\n",
    "    \n",
    "#     pca = PCA(n_components=1,svd_solver='full')\n",
    "#     teste = pca.fit_transform(Y)\n",
    "#     explained_varience = pca.explained_variance_ratio_.sum()\n",
    "#     print(float(pca.explained_variance_ratio_.sum()*100))\n",
    "#     lista_teste = teste.tolist()\n",
    "#     flat_list = []\n",
    "#     for sublist in lista_teste:\n",
    "#         for item in sublist:\n",
    "#             flat_list.append(item)\n",
    "    aflat, seeds_SVD = (list(x) for x in zip(*sorted(zip(flat_list, vindex), reverse=True)))\n",
    "    return (seeds_SVD,np.array(flat_list))"
   ]
  },
  {
   "cell_type": "code",
   "execution_count": 7,
   "metadata": {},
   "outputs": [],
   "source": [
    "def calcKendall(matrix):\n",
    "    matrix_kendall = []\n",
    "    for i in range(matrix.shape[1]):\n",
    "        kend = []\n",
    "        for j in range(matrix.shape[1]):\n",
    "            tau, p_value = kendalltau(matrix[:,i],matrix[:,j])\n",
    "            kend.append(tau)\n",
    "        matrix_kendall.append(kend)\n",
    "    matrix_kendall = np.array(matrix_kendall)\n",
    "    return(matrix_kendall)"
   ]
  },
  {
   "cell_type": "code",
   "execution_count": 21,
   "metadata": {},
   "outputs": [],
   "source": [
    "labels_medidas = ['0_grau','1_betweennes','2_pagerank','3_closeness','4_eigenvector_centrality','5_harmonic_centrality','6_load_centrality']\n"
   ]
  },
  {
   "cell_type": "code",
   "execution_count": 22,
   "metadata": {},
   "outputs": [
    {
     "data": {
      "image/png": "[encoded data removed]",
      "text/plain": [
       "<Figure size 432x288 with 2 Axes>"
      ]
     },
     "metadata": {},
     "output_type": "display_data"
    }
   ],
   "source": [
    "corr = calcKendall(X)\n",
    "# sns.heatmap(,xticklabels=labels,yticklabels=labels,linewidths=.5)\n",
    "mask = np.zeros_like(corr)\n",
    "mask[np.triu_indices_from(mask)] = True\n",
    "with sns.axes_style(\"white\"):\n",
    "    ax = sns.heatmap(corr, mask=mask,square=True,xticklabels=labels_medidas,yticklabels=labels_medidas,linewidths=.5)"
   ]
  },
  {
   "cell_type": "code",
   "execution_count": 29,
   "metadata": {},
   "outputs": [
    {
     "data": {
      "text/plain": [
       "(241, 8)"
      ]
     },
     "execution_count": 29,
     "metadata": {},
     "output_type": "execute_result"
    }
   ],
   "source": [
    "a = np.array(svd_values)\n",
    "a = a.reshape(len(a),1)\n",
    "X = np.append(X,a,axis=1)\n",
    "X.shape"
   ]
  },
  {
   "cell_type": "code",
   "execution_count": 30,
   "metadata": {},
   "outputs": [],
   "source": [
    "matrix_teste = X"
   ]
  },
  {
   "cell_type": "code",
   "execution_count": 31,
   "metadata": {},
   "outputs": [],
   "source": [
    "# Alta correlacao moreno_oz\n",
    "\n",
    "c_1_6 = calcula_SVD(matrix_teste,1,6)\n",
    "c_3_5 = calcula_SVD(matrix_teste,3,5)\n"
   ]
  },
  {
   "cell_type": "code",
   "execution_count": 32,
   "metadata": {},
   "outputs": [],
   "source": [
    "# Baixa correlacao moreno_innovation\n",
    "c_0_3 = calcula_SVD(matrix_teste,0,3)\n",
    "c_0_4 = calcula_SVD(matrix_teste,0,4)\n",
    "c_0_5 = calcula_SVD(matrix_teste,0,5)\n",
    "\n",
    "c_1_2 = calcula_SVD(matrix_teste,1,4)\n",
    "c_1_4 = calcula_SVD(matrix_teste,1,4)\n",
    "\n",
    "c_6_2 = calcula_SVD(matrix_teste,6,4)\n",
    "c_6_4 = calcula_SVD(matrix_teste,6,4)\n",
    "\n"
   ]
  },
  {
   "cell_type": "code",
   "execution_count": 33,
   "metadata": {},
   "outputs": [
    {
     "data": {
      "text/plain": [
       "(241, 17)"
      ]
     },
     "execution_count": 33,
     "metadata": {},
     "output_type": "execute_result"
    }
   ],
   "source": [
    "#  adicionando na matrix temporaria moreno_innovation\n",
    "matrix_teste = np.hstack((matrix_teste, c_1_6[1]))\n",
    "matrix_teste = np.hstack((matrix_teste, c_3_5[1]))\n",
    "matrix_teste = np.hstack((matrix_teste, c_0_3[1]))\n",
    "matrix_teste = np.hstack((matrix_teste, c_0_4[1]))\n",
    "matrix_teste = np.hstack((matrix_teste, c_0_5[1]))\n",
    "matrix_teste = np.hstack((matrix_teste, c_1_2[1]))\n",
    "matrix_teste = np.hstack((matrix_teste, c_1_4[1]))\n",
    "matrix_teste = np.hstack((matrix_teste, c_6_2[1]))\n",
    "matrix_teste = np.hstack((matrix_teste, c_6_4[1]))\n",
    "matrix_teste.shape\n",
    "\n"
   ]
  },
  {
   "cell_type": "code",
   "execution_count": 34,
   "metadata": {},
   "outputs": [],
   "source": [
    "labels = ['0_grau','1_betweennes','2_pagerank','3_closeness','4_eigenvector_centrality','5_harmonic_centrality','6_load_centrality','7_PCA_all','16','35','03','04','05','12','14','62','64']\n",
    "\n"
   ]
  },
  {
   "cell_type": "code",
   "execution_count": 35,
   "metadata": {},
   "outputs": [
    {
     "data": {
      "image/png": "[encoded data removed]",
      "text/plain": [
       "<Figure size 720x504 with 2 Axes>"
      ]
     },
     "metadata": {
      "needs_background": "light"
     },
     "output_type": "display_data"
    }
   ],
   "source": [
    "# \n",
    "a = plt.figure(figsize=(10,7))\n",
    "corr = calcKendall(matrix_teste)\n",
    "mask = np.zeros_like(corr)\n",
    "mask[np.triu_indices_from(mask)] = True\n",
    "with sns.axes_style(\"white\"):\n",
    "    ax = sns.heatmap(corr, mask=mask,square=True,xticklabels=labels,yticklabels=labels,linewidths=.5)"
   ]
  },
  {
   "cell_type": "code",
   "execution_count": 36,
   "metadata": {},
   "outputs": [],
   "source": [
    "vindex = [i for i in range(g.vcount())]\n",
    "\n",
    "my_list = X\n",
    "### my_list[0] = grau\n",
    "### my_list[1] = betweenness\n",
    "### my_list[2] = pagerank\n",
    "### my_list[3] = closeness\n",
    "### my_list[4] = eigenvector_centrality\n",
    "### my_list[5] = harmonic_centrality\n",
    "### my_list[6] = load_centrality \n",
    "### my_list[7] = PCA_all\n",
    "### ...etc\n",
    "aflat, seeds_grau = (list(x) for x in zip(*sorted(zip(my_list[:,0], vindex), reverse=True)))\n",
    "aflat, seeds_betweennes = (list(x) for x in zip(*sorted(zip(my_list[:,1], vindex), reverse=True)))\n",
    "aflat, seeds_pagerank = (list(x) for x in zip(*sorted(zip(my_list[:,2], vindex), reverse=True)))\n",
    "aflat, seeds_closeness = (list(x) for x in zip(*sorted(zip(my_list[:,3], vindex), reverse=True)))\n",
    "aflat, seeds_eigenvector_centrality = (list(x) for x in zip(*sorted(zip(my_list[:,4], vindex), reverse=True)))\n",
    "aflat, seeds_harmonic_centrality = (list(x) for x in zip(*sorted(zip(my_list[:,5], vindex), reverse=True)))\n",
    "aflat, seeds_load_centrality = (list(x) for x in zip(*sorted(zip(my_list[:,6], vindex), reverse=True)))\n",
    "aflat, seeds_SVD = (list(x) for x in zip(*sorted(zip(svd_values, vindex), reverse=True)))"
   ]
  },
  {
   "cell_type": "code",
   "execution_count": 39,
   "metadata": {},
   "outputs": [],
   "source": [
    "s = [seeds_grau[:50],seeds_betweennes[:50],\n",
    "    seeds_pagerank[:50],seeds_closeness[:50],\n",
    "    seeds_eigenvector_centrality[:50],seeds_harmonic_centrality[:50],\n",
    "    seeds_load_centrality[:50],seeds_SVD[:50],c_1_6[0][:50],\n",
    "    c_3_5[0][:50],\n",
    "    c_0_3[0][:50],\n",
    "    c_0_4[0][:50],\n",
    "    c_0_5[0][:50],\n",
    "    c_1_2[0][:50], \n",
    "    c_1_4[0][:50],\n",
    "    c_6_2[0][:50], \n",
    "    c_6_4[0][:50]]\n",
    "with open('sementes-moreno_innovation-SVD.txt', 'wb') as f:\n",
    "    pickle.dump(s, f)"
   ]
  },
  {
   "cell_type": "code",
   "execution_count": null,
   "metadata": {},
   "outputs": [],
   "source": []
  }
 ],
 "metadata": {
  "kernelspec": {
   "display_name": "Python 2",
   "language": "python",
   "name": "python2"
  },
  "language_info": {
   "codemirror_mode": {
    "name": "ipython",
    "version": 2
   },
   "file_extension": ".py",
   "mimetype": "text/x-python",
   "name": "python",
   "nbconvert_exporter": "python",
   "pygments_lexer": "ipython2",
   "version": "2.7.15rc1"
  }
 },
 "nbformat": 4,
 "nbformat_minor": 2
}
