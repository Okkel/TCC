{
 "cells": [
  {
   "cell_type": "code",
   "execution_count": 1,
   "metadata": {},
   "outputs": [],
   "source": [
    "import numpy as np\n",
    "import random\n",
    "import networkx as nx\n",
    "import matplotlib.pyplot as plt\n",
    "from scipy.stats import kendalltau\n",
    "from scipy.stats import spearmanr\n",
    "from scipy import stats\n",
    "from sklearn.decomposition import PCA\n",
    "import seaborn as sns\n",
    "import random\n",
    "import sys\n",
    "import copy\n",
    "from igraph import *\n",
    "import time\n",
    "import numpy as np\n",
    "import pickle\n",
    "import numpy as np\n",
    "import matplotlib.pyplot as plt"
   ]
  },
  {
   "cell_type": "code",
   "execution_count": 2,
   "metadata": {},
   "outputs": [],
   "source": [
    "g = Graph.Read_Ncol(\"powergrid\", directed = False)\n",
    "with open('redes e centralidades/centralidades-powergrid-picke.txt', 'rb') as f:\n",
    "    centralidade_list = pickle.load(f)"
   ]
  },
  {
   "cell_type": "code",
   "execution_count": 3,
   "metadata": {},
   "outputs": [
    {
     "name": "stdout",
     "output_type": "stream",
     "text": [
      "[0.003846153846153846, 0.0036437246963562753, 0.0028340080971659917, 0.0028340080971659917, 0.0028340080971659917, 0.002631578947368421, 0.002631578947368421, 0.002631578947368421, 0.002631578947368421, 0.002631578947368421] \n",
      "\n",
      "[0.28841562147939726, 0.2816981233162447, 0.2796951897344534, 0.27764988777849786, 0.2673044750046763, 0.24827101665302195, 0.23651669104994463, 0.20523301004236538, 0.2049539625669131, 0.20311626353593526] \n",
      "\n",
      "[0.001215144665273708, 0.0010662806203325327, 0.0010631478541278307, 0.0009995633191994893, 0.000943235461166511, 0.0008289069036170618, 0.0008266355777684404, 0.0008206364372378332, 0.0008072742031778136, 0.000771504539011886] \n",
      "\n",
      "[0.08182330142114155, 0.0809437981320662, 0.08035786905246035, 0.07987194619153098, 0.0796260477111541, 0.07932684587468285, 0.07918570169111165, 0.07911468426194328, 0.07877280265339967, 0.07803121248499399] \n",
      "\n",
      "[0.2865344997425941, 0.27451470848011417, 0.24822112815712555, 0.24290464678318427, 0.23627243283037444, 0.2213075570530621, 0.21475711039708484, 0.2141116852051302, 0.1978298988369615, 0.19478919801440525] \n",
      "\n",
      "[487.66931695701714, 481.5038650926974, 479.05243068864263, 477.5360689203096, 475.53613770817253, 475.49683397329585, 474.04101271870115, 471.82900741374067, 470.4665787089677, 470.40618323938395] \n",
      "\n",
      "[0.28942125657227347, 0.2828143806922896, 0.2787504587000555, 0.2756083390983447, 0.26838010116385236, 0.24386773102985873, 0.2331228961372436, 0.2043175901512777, 0.2027723970676047, 0.20011317852864005] \n",
      "\n"
     ]
    }
   ],
   "source": [
    "for i in centralidade_list:\n",
    "    \n",
    "    print sorted(i,reverse=True)[:10],'\\n'"
   ]
  },
  {
   "cell_type": "code",
   "execution_count": 4,
   "metadata": {},
   "outputs": [
    {
     "data": {
      "text/plain": [
       "7"
      ]
     },
     "execution_count": 4,
     "metadata": {},
     "output_type": "execute_result"
    }
   ],
   "source": [
    "len(centralidade_list)"
   ]
  },
  {
   "cell_type": "code",
   "execution_count": 5,
   "metadata": {},
   "outputs": [
    {
     "data": {
      "text/plain": [
       "(4941, 7)"
      ]
     },
     "execution_count": 5,
     "metadata": {},
     "output_type": "execute_result"
    }
   ],
   "source": [
    "X = np.array(centralidade_list)\n",
    "X = X.transpose()\n",
    "# X[5] = stats.zscore(X[5])\n",
    "\n",
    "# problemas de escala\n",
    "\n",
    "X = stats.zscore(X)\n",
    "X.shape"
   ]
  },
  {
   "cell_type": "code",
   "execution_count": 6,
   "metadata": {},
   "outputs": [
    {
     "name": "stdout",
     "output_type": "stream",
     "text": [
      "45.1810470331\n",
      "(array([0.45181047]), 1)\n",
      "(array([125.00707475]), 1)\n"
     ]
    }
   ],
   "source": [
    "varience_values = []\n",
    "\n",
    "pca = PCA(n_components=1,svd_solver='full')\n",
    "teste = pca.fit_transform(X)\n",
    "explained_varience = pca.explained_variance_ratio_.sum()\n",
    "print(float(pca.explained_variance_ratio_.sum()*100))\n",
    "print(pca.explained_variance_ratio_,len(pca.explained_variance_ratio_))\n",
    "print(pca.singular_values_,len(pca.singular_values_))  "
   ]
  },
  {
   "cell_type": "code",
   "execution_count": 7,
   "metadata": {},
   "outputs": [
    {
     "data": {
      "text/plain": [
       "4941"
      ]
     },
     "execution_count": 7,
     "metadata": {},
     "output_type": "execute_result"
    }
   ],
   "source": [
    "lista_teste = teste.tolist()\n",
    "len(lista_teste)\n",
    "#  a partir daqui é so pegar os index igual no que ja tem\n",
    "pca_values = []\n",
    "for sublist in lista_teste:\n",
    "    for item in sublist:\n",
    "        pca_values.append(item)\n",
    "        \n",
    "len(pca_values)\n",
    "# print(flat_list[:50])"
   ]
  },
  {
   "cell_type": "code",
   "execution_count": 8,
   "metadata": {},
   "outputs": [
    {
     "data": {
      "text/plain": [
       "['0_grau',\n",
       " '1_betweennes',\n",
       " '2_pagerank',\n",
       " '3_closeness',\n",
       " '4_eigenvector_centrality',\n",
       " '5_harmonic_centrality',\n",
       " '6_load_centrality']"
      ]
     },
     "execution_count": 8,
     "metadata": {},
     "output_type": "execute_result"
    }
   ],
   "source": [
    "labels_medidas = ['0_grau','1_betweennes','2_pagerank','3_closeness','4_eigenvector_centrality','5_harmonic_centrality','6_load_centrality']\n",
    "labels_medidas"
   ]
  },
  {
   "cell_type": "code",
   "execution_count": 9,
   "metadata": {},
   "outputs": [],
   "source": [
    "#  A partir daqui analise de correlacao entre as medidas"
   ]
  },
  {
   "cell_type": "code",
   "execution_count": 10,
   "metadata": {},
   "outputs": [],
   "source": [
    "def calcula_PCA(matrix,col1,col2): # pca entre duas colunas\n",
    "    vindex = [i for i in range(g.vcount())]\n",
    "    \n",
    "    Y = np.array([matrix[:,col1],matrix[:,col2]])\n",
    "    Y = Y.transpose()\n",
    "#     print (Y.shape)\n",
    "#     print (Y,type(Y),type(Y[0]),len(Y[0]))\n",
    "    \n",
    "    pca = PCA(n_components=1,svd_solver='full')\n",
    "    teste = pca.fit_transform(Y)\n",
    "    explained_varience = pca.explained_variance_ratio_.sum()\n",
    "    print(float(pca.explained_variance_ratio_.sum()*100))\n",
    "    lista_teste = teste.tolist()\n",
    "    flat_list = []\n",
    "    for sublist in lista_teste:\n",
    "        for item in sublist:\n",
    "            flat_list.append(item)\n",
    "    aflat, seeds_PCA = (list(x) for x in zip(*sorted(zip(flat_list, vindex), reverse=True)))\n",
    "    return (seeds_PCA,np.array(flat_list))"
   ]
  },
  {
   "cell_type": "code",
   "execution_count": 11,
   "metadata": {},
   "outputs": [],
   "source": [
    "def calcKendall(matrix):\n",
    "    matrix_kendall = []\n",
    "    for i in range(matrix.shape[1]):\n",
    "        kend = []\n",
    "        for j in range(matrix.shape[1]):\n",
    "            tau, p_value = kendalltau(matrix[:,i],matrix[:,j])\n",
    "            kend.append(tau)\n",
    "        matrix_kendall.append(kend)\n",
    "    matrix_kendall = np.array(matrix_kendall)\n",
    "    return(matrix_kendall)"
   ]
  },
  {
   "cell_type": "code",
   "execution_count": 12,
   "metadata": {},
   "outputs": [
    {
     "data": {
      "image/png": "[encoded data removed]",
      "text/plain": [
       "<Figure size 432x288 with 2 Axes>"
      ]
     },
     "metadata": {},
     "output_type": "display_data"
    }
   ],
   "source": [
    "corr = calcKendall(X)\n",
    "# sns.heatmap(,xticklabels=labels,yticklabels=labels,linewidths=.5)\n",
    "mask = np.zeros_like(corr)\n",
    "mask[np.triu_indices_from(mask)] = True\n",
    "with sns.axes_style(\"white\"):\n",
    "    ax = sns.heatmap(corr, mask=mask,square=True,xticklabels=labels_medidas,yticklabels=labels_medidas,linewidths=.5)"
   ]
  },
  {
   "cell_type": "code",
   "execution_count": 13,
   "metadata": {},
   "outputs": [
    {
     "data": {
      "image/png": "[encoded data removed]",
      "text/plain": [
       "<Figure size 432x288 with 2 Axes>"
      ]
     },
     "metadata": {},
     "output_type": "display_data"
    }
   ],
   "source": [
    "corr = calcKendall(X)\n",
    "# sns.heatmap(,xticklabels=labels,yticklabels=labels,linewidths=.5)\n",
    "mask = np.zeros_like(corr)\n",
    "mask[np.triu_indices_from(mask)] = True\n",
    "with sns.axes_style(\"white\"):\n",
    "    ax = sns.heatmap(corr, vmin=.7,mask=mask,square=True,xticklabels=labels_medidas,yticklabels=labels_medidas,linewidths=.5)"
   ]
  },
  {
   "cell_type": "code",
   "execution_count": 14,
   "metadata": {},
   "outputs": [
    {
     "data": {
      "image/png": "[encoded data removed]",
      "text/plain": [
       "<Figure size 432x288 with 2 Axes>"
      ]
     },
     "metadata": {},
     "output_type": "display_data"
    }
   ],
   "source": [
    "corr = calcKendall(X)\n",
    "# sns.heatmap(,xticklabels=labels,yticklabels=labels,linewidths=.5)\n",
    "mask = np.zeros_like(corr)\n",
    "mask[np.triu_indices_from(mask)] = True\n",
    "with sns.axes_style(\"white\"):\n",
    "    ax = sns.heatmap(corr, vmax = .5,mask=mask,square=True,xticklabels=labels_medidas,yticklabels=labels_medidas,linewidths=.5)"
   ]
  },
  {
   "cell_type": "code",
   "execution_count": 15,
   "metadata": {},
   "outputs": [
    {
     "data": {
      "text/plain": [
       "(4941, 8)"
      ]
     },
     "execution_count": 15,
     "metadata": {},
     "output_type": "execute_result"
    }
   ],
   "source": [
    "a = np.array(pca_values)\n",
    "a = a.reshape(len(a),1)\n",
    "X = np.append(X,a,axis=1)\n",
    "X.shape"
   ]
  },
  {
   "cell_type": "code",
   "execution_count": 19,
   "metadata": {},
   "outputs": [],
   "source": [
    "matrix_teste = X"
   ]
  },
  {
   "cell_type": "code",
   "execution_count": 20,
   "metadata": {},
   "outputs": [
    {
     "name": "stdout",
     "output_type": "stream",
     "text": [
      "97.3160237144\n",
      "99.9903955122\n",
      "59.1671970712\n"
     ]
    }
   ],
   "source": [
    "# Alta correlacao powergrid\n",
    "\n",
    "c_0_2 = calcula_PCA(matrix_teste,0,2)\n",
    "c_1_6 = calcula_PCA(matrix_teste,1,6)\n",
    "c_3_4 = calcula_PCA(matrix_teste,3,4)\n",
    "\n",
    "\n"
   ]
  },
  {
   "cell_type": "code",
   "execution_count": 21,
   "metadata": {},
   "outputs": [
    {
     "name": "stdout",
     "output_type": "stream",
     "text": [
      "61.5299029046\n",
      "63.0416713601\n",
      "66.833879818\n",
      "67.6823494592\n",
      "50.0240548465\n",
      "69.2386325499\n",
      "59.2738180317\n",
      "54.3093606818\n",
      "63.4082182618\n",
      "67.6993605707\n",
      "50.0336148119\n",
      "69.2643414367\n"
     ]
    }
   ],
   "source": [
    "# Baixa correlacao powergrid\n",
    "\n",
    "c_0_3 = calcula_PCA(matrix_teste,0,3)\n",
    "c_0_4 = calcula_PCA(matrix_teste,0,4)\n",
    "c_0_5 = calcula_PCA(matrix_teste,0,5)\n",
    "\n",
    "c_1_3 = calcula_PCA(matrix_teste,1,3)\n",
    "c_1_4 = calcula_PCA(matrix_teste,1,4)\n",
    "c_1_5 = calcula_PCA(matrix_teste,1,5)\n",
    "\n",
    "c_2_3 = calcula_PCA(matrix_teste,2,3)\n",
    "c_2_4 = calcula_PCA(matrix_teste,2,4)\n",
    "c_2_5 = calcula_PCA(matrix_teste,2,5)\n",
    "\n",
    "c_6_3 = calcula_PCA(matrix_teste,6,3)\n",
    "c_6_4 = calcula_PCA(matrix_teste,6,4)\n",
    "c_6_5 = calcula_PCA(matrix_teste,6,5)\n",
    "\n"
   ]
  },
  {
   "cell_type": "code",
   "execution_count": 22,
   "metadata": {},
   "outputs": [
    {
     "data": {
      "text/plain": [
       "(4941, 23)"
      ]
     },
     "execution_count": 22,
     "metadata": {},
     "output_type": "execute_result"
    }
   ],
   "source": [
    "#  adicionando na matrix temporaria CA-GRQC\n",
    "matrix_teste = np.hstack((matrix_teste, np.array([c_0_2[1]]).transpose()))\n",
    "matrix_teste = np.hstack((matrix_teste, np.array([c_1_6[1]]).transpose()))\n",
    "matrix_teste = np.hstack((matrix_teste, np.array([c_3_4[1]]).transpose()))\n",
    "\n",
    "\n",
    "matrix_teste = np.hstack((matrix_teste, np.array([c_0_3[1]]).transpose()))\n",
    "matrix_teste = np.hstack((matrix_teste, np.array([c_0_4[1]]).transpose()))\n",
    "matrix_teste = np.hstack((matrix_teste, np.array([c_0_5[1]]).transpose()))\n",
    "\n",
    "matrix_teste = np.hstack((matrix_teste, np.array([c_1_3[1]]).transpose()))\n",
    "matrix_teste = np.hstack((matrix_teste, np.array([c_1_4[1]]).transpose()))\n",
    "matrix_teste = np.hstack((matrix_teste, np.array([c_1_5[1]]).transpose()))\n",
    "\n",
    "matrix_teste = np.hstack((matrix_teste, np.array([c_2_3[1]]).transpose()))\n",
    "matrix_teste = np.hstack((matrix_teste, np.array([c_2_4[1]]).transpose()))\n",
    "matrix_teste = np.hstack((matrix_teste, np.array([c_2_5[1]]).transpose()))\n",
    "\n",
    "matrix_teste = np.hstack((matrix_teste, np.array([c_6_3[1]]).transpose()))\n",
    "matrix_teste = np.hstack((matrix_teste, np.array([c_6_4[1]]).transpose()))\n",
    "matrix_teste = np.hstack((matrix_teste, np.array([c_6_5[1]]).transpose()))\n",
    "matrix_teste.shape\n",
    "\n"
   ]
  },
  {
   "cell_type": "code",
   "execution_count": 23,
   "metadata": {},
   "outputs": [],
   "source": [
    "# olhando correlacao das novas medidas da matrix teste"
   ]
  },
  {
   "cell_type": "code",
   "execution_count": 24,
   "metadata": {},
   "outputs": [],
   "source": [
    "# Ca-GRQC\n",
    "labels = ['0_grau','1_betweennes','2_pagerank','3_closeness','4_eigenvector_centrality','5_harmonic_centrality','6_load_centrality','7_PCA_all','02','16','34','03','04','05','13','14','15','23','24','25','63','64','65']\n",
    "\n"
   ]
  },
  {
   "cell_type": "code",
   "execution_count": 26,
   "metadata": {},
   "outputs": [
    {
     "data": {
      "image/png": "[encoded data removed]",
      "text/plain": [
       "<Figure size 720x504 with 2 Axes>"
      ]
     },
     "metadata": {
      "needs_background": "light"
     },
     "output_type": "display_data"
    }
   ],
   "source": [
    "# \n",
    "a = plt.figure(figsize=(10,7))\n",
    "corr = calcKendall(matrix_teste)\n",
    "mask = np.zeros_like(corr)\n",
    "mask[np.triu_indices_from(mask)] = True\n",
    "with sns.axes_style(\"white\"):\n",
    "    ax = sns.heatmap(corr, mask=mask,square=True,xticklabels=labels,yticklabels=labels,linewidths=.5)"
   ]
  },
  {
   "cell_type": "code",
   "execution_count": 27,
   "metadata": {},
   "outputs": [],
   "source": [
    "import pandas as pd\n"
   ]
  },
  {
   "cell_type": "code",
   "execution_count": 28,
   "metadata": {},
   "outputs": [],
   "source": [
    "vindex = [i for i in range(g.vcount())]\n",
    "\n",
    "my_list = X\n",
    "### my_list[0] = grau\n",
    "### my_list[1] = betweenness\n",
    "### my_list[2] = pagerank\n",
    "### my_list[3] = closeness\n",
    "### my_list[4] = eigenvector_centrality\n",
    "### my_list[5] = harmonic_centrality\n",
    "### my_list[6] = load_centrality \n",
    "### my_list[7] = PCA_all\n",
    "### ...etc\n",
    "aflat, seeds_grau = (list(x) for x in zip(*sorted(zip(my_list[:,0], vindex), reverse=True)))\n",
    "aflat, seeds_betweennes = (list(x) for x in zip(*sorted(zip(my_list[:,1], vindex), reverse=True)))\n",
    "aflat, seeds_pagerank = (list(x) for x in zip(*sorted(zip(my_list[:,2], vindex), reverse=True)))\n",
    "aflat, seeds_closeness = (list(x) for x in zip(*sorted(zip(my_list[:,3], vindex), reverse=True)))\n",
    "aflat, seeds_eigenvector_centrality = (list(x) for x in zip(*sorted(zip(my_list[:,4], vindex), reverse=True)))\n",
    "aflat, seeds_harmonic_centrality = (list(x) for x in zip(*sorted(zip(my_list[:,5], vindex), reverse=True)))\n",
    "aflat, seeds_load_centrality = (list(x) for x in zip(*sorted(zip(my_list[:,6], vindex), reverse=True)))\n",
    "aflat, seeds_PCA = (list(x) for x in zip(*sorted(zip(pca_values, vindex), reverse=True)))\n"
   ]
  },
  {
   "cell_type": "code",
   "execution_count": null,
   "metadata": {},
   "outputs": [],
   "source": [
    "'02','16','34','03','04','05','13','14','15','63','64','65']"
   ]
  },
  {
   "cell_type": "code",
   "execution_count": 29,
   "metadata": {},
   "outputs": [],
   "source": [
    "d = {'0_grau' : seeds_grau[:100],'1_betweennes':seeds_betweennes[:100],\n",
    "     '2_pagerank' :seeds_pagerank[:100],'3_closeness':seeds_closeness[:100],\n",
    "     '4_eigenvector_centrality':seeds_eigenvector_centrality[:100],'5_harmonic_centrality':seeds_harmonic_centrality[:100],\n",
    "     '6_load_centrality':seeds_load_centrality[:100],'7_PCA_all':seeds_PCA[:100],\n",
    "     'm_0_2':c_0_2[0][:100],\n",
    "     'm_1_6':c_1_6[0][:100],\n",
    "     'm_34':c_3_4[0][:100],\n",
    "     'm_03':c_0_3[0][:100],\n",
    "     'm_04':c_0_4[0][:100],\n",
    "     'm_05':c_0_5[0][:100],     \n",
    "     'm_13':c_1_3[0][:100],\n",
    "     'm_14':c_1_4[0][:100],\n",
    "     'm_15':c_1_5[0][:100],\n",
    "     'm_23':c_2_3[0][:100],\n",
    "     'm_24':c_2_4[0][:100],\n",
    "     'm_25':c_2_5[0][:100],\n",
    "     'm_63':c_6_3[0][:100],\n",
    "     'm_64':c_6_4[0][:100],\n",
    "     'm_65':c_6_5[0][:100]\n",
    "    }"
   ]
  },
  {
   "cell_type": "code",
   "execution_count": 30,
   "metadata": {},
   "outputs": [
    {
     "data": {
      "text/html": [
       "<div>\n",
       "<style scoped>\n",
       "    .dataframe tbody tr th:only-of-type {\n",
       "        vertical-align: middle;\n",
       "    }\n",
       "\n",
       "    .dataframe tbody tr th {\n",
       "        vertical-align: top;\n",
       "    }\n",
       "\n",
       "    .dataframe thead th {\n",
       "        text-align: right;\n",
       "    }\n",
       "</style>\n",
       "<table border=\"1\" class=\"dataframe\">\n",
       "  <thead>\n",
       "    <tr style=\"text-align: right;\">\n",
       "      <th></th>\n",
       "      <th>0_grau</th>\n",
       "      <th>1_betweennes</th>\n",
       "      <th>2_pagerank</th>\n",
       "      <th>3_closeness</th>\n",
       "      <th>4_eigenvector_centrality</th>\n",
       "      <th>5_harmonic_centrality</th>\n",
       "      <th>6_load_centrality</th>\n",
       "      <th>7_PCA_all</th>\n",
       "      <th>m_03</th>\n",
       "      <th>m_04</th>\n",
       "      <th>...</th>\n",
       "      <th>m_14</th>\n",
       "      <th>m_15</th>\n",
       "      <th>m_1_6</th>\n",
       "      <th>m_23</th>\n",
       "      <th>m_24</th>\n",
       "      <th>m_25</th>\n",
       "      <th>m_34</th>\n",
       "      <th>m_63</th>\n",
       "      <th>m_64</th>\n",
       "      <th>m_65</th>\n",
       "    </tr>\n",
       "  </thead>\n",
       "  <tbody>\n",
       "    <tr>\n",
       "      <th>0</th>\n",
       "      <td>3136</td>\n",
       "      <td>300</td>\n",
       "      <td>197</td>\n",
       "      <td>1749</td>\n",
       "      <td>4522</td>\n",
       "      <td>3024</td>\n",
       "      <td>300</td>\n",
       "      <td>300</td>\n",
       "      <td>197</td>\n",
       "      <td>4516</td>\n",
       "      <td>...</td>\n",
       "      <td>4522</td>\n",
       "      <td>300</td>\n",
       "      <td>300</td>\n",
       "      <td>197</td>\n",
       "      <td>4516</td>\n",
       "      <td>197</td>\n",
       "      <td>4522</td>\n",
       "      <td>300</td>\n",
       "      <td>4522</td>\n",
       "      <td>300</td>\n",
       "    </tr>\n",
       "    <tr>\n",
       "      <th>1</th>\n",
       "      <td>197</td>\n",
       "      <td>661</td>\n",
       "      <td>786</td>\n",
       "      <td>1759</td>\n",
       "      <td>4516</td>\n",
       "      <td>683</td>\n",
       "      <td>661</td>\n",
       "      <td>661</td>\n",
       "      <td>3136</td>\n",
       "      <td>4522</td>\n",
       "      <td>...</td>\n",
       "      <td>4516</td>\n",
       "      <td>661</td>\n",
       "      <td>661</td>\n",
       "      <td>786</td>\n",
       "      <td>4522</td>\n",
       "      <td>786</td>\n",
       "      <td>4516</td>\n",
       "      <td>661</td>\n",
       "      <td>4516</td>\n",
       "      <td>661</td>\n",
       "    </tr>\n",
       "    <tr>\n",
       "      <th>2</th>\n",
       "      <td>4516</td>\n",
       "      <td>1683</td>\n",
       "      <td>3571</td>\n",
       "      <td>2098</td>\n",
       "      <td>4515</td>\n",
       "      <td>661</td>\n",
       "      <td>684</td>\n",
       "      <td>1683</td>\n",
       "      <td>660</td>\n",
       "      <td>4546</td>\n",
       "      <td>...</td>\n",
       "      <td>4515</td>\n",
       "      <td>1683</td>\n",
       "      <td>684</td>\n",
       "      <td>3136</td>\n",
       "      <td>4546</td>\n",
       "      <td>3136</td>\n",
       "      <td>4515</td>\n",
       "      <td>1683</td>\n",
       "      <td>4515</td>\n",
       "      <td>684</td>\n",
       "    </tr>\n",
       "    <tr>\n",
       "      <th>3</th>\n",
       "      <td>3571</td>\n",
       "      <td>684</td>\n",
       "      <td>3136</td>\n",
       "      <td>1748</td>\n",
       "      <td>4546</td>\n",
       "      <td>2098</td>\n",
       "      <td>1683</td>\n",
       "      <td>683</td>\n",
       "      <td>2871</td>\n",
       "      <td>4524</td>\n",
       "      <td>...</td>\n",
       "      <td>4546</td>\n",
       "      <td>684</td>\n",
       "      <td>1683</td>\n",
       "      <td>1446</td>\n",
       "      <td>4515</td>\n",
       "      <td>2871</td>\n",
       "      <td>4546</td>\n",
       "      <td>684</td>\n",
       "      <td>4546</td>\n",
       "      <td>1683</td>\n",
       "    </tr>\n",
       "    <tr>\n",
       "      <th>4</th>\n",
       "      <td>786</td>\n",
       "      <td>683</td>\n",
       "      <td>1446</td>\n",
       "      <td>3024</td>\n",
       "      <td>4524</td>\n",
       "      <td>1749</td>\n",
       "      <td>683</td>\n",
       "      <td>684</td>\n",
       "      <td>2427</td>\n",
       "      <td>4515</td>\n",
       "      <td>...</td>\n",
       "      <td>4525</td>\n",
       "      <td>683</td>\n",
       "      <td>683</td>\n",
       "      <td>2427</td>\n",
       "      <td>4524</td>\n",
       "      <td>1446</td>\n",
       "      <td>4524</td>\n",
       "      <td>683</td>\n",
       "      <td>4525</td>\n",
       "      <td>683</td>\n",
       "    </tr>\n",
       "    <tr>\n",
       "      <th>5</th>\n",
       "      <td>4045</td>\n",
       "      <td>1425</td>\n",
       "      <td>814</td>\n",
       "      <td>1683</td>\n",
       "      <td>4525</td>\n",
       "      <td>300</td>\n",
       "      <td>1425</td>\n",
       "      <td>1425</td>\n",
       "      <td>2705</td>\n",
       "      <td>4525</td>\n",
       "      <td>...</td>\n",
       "      <td>4542</td>\n",
       "      <td>1425</td>\n",
       "      <td>1425</td>\n",
       "      <td>2871</td>\n",
       "      <td>4525</td>\n",
       "      <td>2705</td>\n",
       "      <td>4525</td>\n",
       "      <td>1749</td>\n",
       "      <td>4542</td>\n",
       "      <td>1425</td>\n",
       "    </tr>\n",
       "    <tr>\n",
       "      <th>6</th>\n",
       "      <td>2871</td>\n",
       "      <td>1749</td>\n",
       "      <td>2427</td>\n",
       "      <td>615</td>\n",
       "      <td>4542</td>\n",
       "      <td>684</td>\n",
       "      <td>1749</td>\n",
       "      <td>1749</td>\n",
       "      <td>658</td>\n",
       "      <td>4542</td>\n",
       "      <td>...</td>\n",
       "      <td>4549</td>\n",
       "      <td>1749</td>\n",
       "      <td>1749</td>\n",
       "      <td>658</td>\n",
       "      <td>4542</td>\n",
       "      <td>3571</td>\n",
       "      <td>4542</td>\n",
       "      <td>1425</td>\n",
       "      <td>4549</td>\n",
       "      <td>1749</td>\n",
       "    </tr>\n",
       "    <tr>\n",
       "      <th>7</th>\n",
       "      <td>2699</td>\n",
       "      <td>1459</td>\n",
       "      <td>2871</td>\n",
       "      <td>1758</td>\n",
       "      <td>4549</td>\n",
       "      <td>1759</td>\n",
       "      <td>509</td>\n",
       "      <td>3024</td>\n",
       "      <td>2699</td>\n",
       "      <td>4555</td>\n",
       "      <td>...</td>\n",
       "      <td>4524</td>\n",
       "      <td>3024</td>\n",
       "      <td>509</td>\n",
       "      <td>2705</td>\n",
       "      <td>4555</td>\n",
       "      <td>2790</td>\n",
       "      <td>4549</td>\n",
       "      <td>3024</td>\n",
       "      <td>4524</td>\n",
       "      <td>3024</td>\n",
       "    </tr>\n",
       "    <tr>\n",
       "      <th>8</th>\n",
       "      <td>2427</td>\n",
       "      <td>509</td>\n",
       "      <td>2790</td>\n",
       "      <td>683</td>\n",
       "      <td>4555</td>\n",
       "      <td>1683</td>\n",
       "      <td>1459</td>\n",
       "      <td>1459</td>\n",
       "      <td>786</td>\n",
       "      <td>4557</td>\n",
       "      <td>...</td>\n",
       "      <td>4555</td>\n",
       "      <td>1459</td>\n",
       "      <td>1459</td>\n",
       "      <td>3571</td>\n",
       "      <td>4557</td>\n",
       "      <td>658</td>\n",
       "      <td>4555</td>\n",
       "      <td>509</td>\n",
       "      <td>4555</td>\n",
       "      <td>1459</td>\n",
       "    </tr>\n",
       "    <tr>\n",
       "      <th>9</th>\n",
       "      <td>660</td>\n",
       "      <td>3024</td>\n",
       "      <td>4045</td>\n",
       "      <td>1762</td>\n",
       "      <td>4557</td>\n",
       "      <td>1425</td>\n",
       "      <td>3024</td>\n",
       "      <td>509</td>\n",
       "      <td>2746</td>\n",
       "      <td>4549</td>\n",
       "      <td>...</td>\n",
       "      <td>4557</td>\n",
       "      <td>1759</td>\n",
       "      <td>3024</td>\n",
       "      <td>660</td>\n",
       "      <td>4549</td>\n",
       "      <td>2427</td>\n",
       "      <td>4557</td>\n",
       "      <td>1759</td>\n",
       "      <td>4557</td>\n",
       "      <td>1759</td>\n",
       "    </tr>\n",
       "  </tbody>\n",
       "</table>\n",
       "<p>10 rows × 23 columns</p>\n",
       "</div>"
      ],
      "text/plain": [
       "   0_grau  1_betweennes  2_pagerank  3_closeness  4_eigenvector_centrality  \\\n",
       "0    3136           300         197         1749                      4522   \n",
       "1     197           661         786         1759                      4516   \n",
       "2    4516          1683        3571         2098                      4515   \n",
       "3    3571           684        3136         1748                      4546   \n",
       "4     786           683        1446         3024                      4524   \n",
       "5    4045          1425         814         1683                      4525   \n",
       "6    2871          1749        2427          615                      4542   \n",
       "7    2699          1459        2871         1758                      4549   \n",
       "8    2427           509        2790          683                      4555   \n",
       "9     660          3024        4045         1762                      4557   \n",
       "\n",
       "   5_harmonic_centrality  6_load_centrality  7_PCA_all  m_03  m_04  ...   \\\n",
       "0                   3024                300        300   197  4516  ...    \n",
       "1                    683                661        661  3136  4522  ...    \n",
       "2                    661                684       1683   660  4546  ...    \n",
       "3                   2098               1683        683  2871  4524  ...    \n",
       "4                   1749                683        684  2427  4515  ...    \n",
       "5                    300               1425       1425  2705  4525  ...    \n",
       "6                    684               1749       1749   658  4542  ...    \n",
       "7                   1759                509       3024  2699  4555  ...    \n",
       "8                   1683               1459       1459   786  4557  ...    \n",
       "9                   1425               3024        509  2746  4549  ...    \n",
       "\n",
       "   m_14  m_15  m_1_6  m_23  m_24  m_25  m_34  m_63  m_64  m_65  \n",
       "0  4522   300    300   197  4516   197  4522   300  4522   300  \n",
       "1  4516   661    661   786  4522   786  4516   661  4516   661  \n",
       "2  4515  1683    684  3136  4546  3136  4515  1683  4515   684  \n",
       "3  4546   684   1683  1446  4515  2871  4546   684  4546  1683  \n",
       "4  4525   683    683  2427  4524  1446  4524   683  4525   683  \n",
       "5  4542  1425   1425  2871  4525  2705  4525  1749  4542  1425  \n",
       "6  4549  1749   1749   658  4542  3571  4542  1425  4549  1749  \n",
       "7  4524  3024    509  2705  4555  2790  4549  3024  4524  3024  \n",
       "8  4555  1459   1459  3571  4557   658  4555   509  4555  1459  \n",
       "9  4557  1759   3024   660  4549  2427  4557  1759  4557  1759  \n",
       "\n",
       "[10 rows x 23 columns]"
      ]
     },
     "execution_count": 30,
     "metadata": {},
     "output_type": "execute_result"
    }
   ],
   "source": [
    "df = pd.DataFrame(data=d)\n",
    "df.head(10)"
   ]
  },
  {
   "cell_type": "code",
   "execution_count": 31,
   "metadata": {},
   "outputs": [],
   "source": [
    "# s = [seeds_grau[:50],seeds_betweennes[:50],\n",
    "#     seeds_pagerank[:50],seeds_closeness[:50],\n",
    "#     seeds_eigenvector_centrality[:50],seeds_harmonic_centrality[:50],\n",
    "#     seeds_load_centrality[:50],seeds_PCA[:50],\n",
    "#     c_0_2[0][:50],\n",
    "#     c_1_6[0][:50],\n",
    "#     c_3_4[0][:50],\n",
    "#     c_0_3[0][:50],\n",
    "#     c_0_4[0][:50],\n",
    "#     c_0_5[0][:50],     \n",
    "#     c_1_3[0][:50],\n",
    "#     c_1_4[0][:50],\n",
    "#     c_1_5[0][:50],\n",
    "#     c_2_3[0][:50],\n",
    "#     c_2_4[0][:50],\n",
    "#     c_2_5[0][:50],\n",
    "#     c_6_3[0][:50],\n",
    "#     c_6_4[0][:50],\n",
    "#     c_6_5[0][:50]]\n",
    "# with open('sementes-powergrid.txt', 'wb') as f:\n",
    "#     pickle.dump(s, f)"
   ]
  },
  {
   "cell_type": "code",
   "execution_count": 32,
   "metadata": {},
   "outputs": [],
   "source": [
    "s = [seeds_PCA[:50],\n",
    "    c_0_2[0][:50],\n",
    "    c_1_6[0][:50],\n",
    "    c_3_4[0][:50],\n",
    "    c_0_3[0][:50],\n",
    "    c_0_4[0][:50],\n",
    "    c_0_5[0][:50],     \n",
    "    c_1_3[0][:50],\n",
    "    c_1_4[0][:50],\n",
    "    c_1_5[0][:50],\n",
    "    c_2_3[0][:50],\n",
    "    c_2_4[0][:50],\n",
    "    c_2_5[0][:50],\n",
    "    c_6_3[0][:50],\n",
    "    c_6_4[0][:50],\n",
    "    c_6_5[0][:50]]\n",
    "with open('sementes-powergrid.txt', 'wb') as f:\n",
    "    pickle.dump(s, f)"
   ]
  },
  {
   "cell_type": "code",
   "execution_count": null,
   "metadata": {},
   "outputs": [],
   "source": []
  }
 ],
 "metadata": {
  "kernelspec": {
   "display_name": "Python 2",
   "language": "python",
   "name": "python2"
  },
  "language_info": {
   "codemirror_mode": {
    "name": "ipython",
    "version": 2
   },
   "file_extension": ".py",
   "mimetype": "text/x-python",
   "name": "python",
   "nbconvert_exporter": "python",
   "pygments_lexer": "ipython2",
   "version": "2.7.15rc1"
  }
 },
 "nbformat": 4,
 "nbformat_minor": 2
}
