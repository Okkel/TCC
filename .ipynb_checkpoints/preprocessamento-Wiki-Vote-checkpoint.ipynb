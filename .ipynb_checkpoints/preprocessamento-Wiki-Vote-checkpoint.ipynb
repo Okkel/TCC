{
 "cells": [
  {
   "cell_type": "code",
   "execution_count": 1,
   "metadata": {},
   "outputs": [],
   "source": [
    "import numpy as np\n",
    "import random\n",
    "import networkx as nx\n",
    "import matplotlib.pyplot as plt\n",
    "from scipy.stats import kendalltau\n",
    "from scipy.stats import spearmanr\n",
    "from scipy import stats\n",
    "from sklearn.decomposition import PCA\n",
    "import seaborn as sns\n",
    "import random\n",
    "import sys\n",
    "import copy\n",
    "from igraph import *\n",
    "import time\n",
    "import numpy as np\n",
    "import pickle\n",
    "import numpy as np\n",
    "import matplotlib.pyplot as plt"
   ]
  },
  {
   "cell_type": "code",
   "execution_count": 2,
   "metadata": {},
   "outputs": [],
   "source": [
    "g = Graph.Read_Ncol(\"Wiki-Vote.txt\", directed = True)\n",
    "with open('redes e centralidades/centralidades-Wiki-Vote-picke.txt', 'rb') as f:\n",
    "    centralidade_list = pickle.load(f)\n"
   ]
  },
  {
   "cell_type": "code",
   "execution_count": 3,
   "metadata": {},
   "outputs": [
    {
     "name": "stdout",
     "output_type": "stream",
     "text": [
      "[0.16404273263986505, 0.11695248805172898, 0.10865898228844531, 0.10444194545965702, 0.10444194545965702, 0.10289569862243464, 0.08687095867303908, 0.07745290975541186, 0.07632836660106831, 0.0756255271296036] \n",
      "\n",
      "[0.017654409558147833, 0.016564095998753692, 0.01156258726064681, 0.008011822532712364, 0.006134997021063534, 0.0058025468349323876, 0.005438230580659509, 0.00520234737583128, 0.004714826895715727, 0.004563992520641175] \n",
      "\n",
      "[0.0046127158911675485, 0.0036812207295292792, 0.003524813657640259, 0.0032863743692309023, 0.0026053331717250192, 0.0025301053283849546, 0.002504703800483994, 0.0022662633042363454, 0.002170185049195958, 0.0021500675059293235] \n",
      "\n",
      "[0.29648297322467565, 0.29148957578089163, 0.2909224754389055, 0.28192713494645066, 0.27990070450658394, 0.2780478846701328, 0.2780065300356909, 0.27781815890206973, 0.277614273681118, 0.2765668276533207] \n",
      "\n",
      "[0.11719838324717527, 0.10895543930803377, 0.09817933816669912, 0.09568989575762334, 0.09552610300572507, 0.09503186906635984, 0.09483743172846101, 0.0931070512507652, 0.09050808243358627, 0.09048358862307535] \n",
      "\n",
      "[2382.859523809514, 2320.326190476195, 2310.6261904762046, 2215.776190476165, 2209.584523809488, 2200.5428571428183, 2197.051190476154, 2194.3095238094847, 2193.8761904761504, 2190.776190476167] \n",
      "\n",
      "[0.015995372513806005, 0.014791014223063424, 0.011329549354438171, 0.007911183996638366, 0.005648615865854768, 0.005520882672010851, 0.0052498191476497615, 0.004918673832153606, 0.004737316355551051, 0.004480316084141982] \n",
      "\n"
     ]
    }
   ],
   "source": [
    "for i in centralidade_list:\n",
    "    \n",
    "    print sorted(i,reverse=True)[:10],'\\n'"
   ]
  },
  {
   "cell_type": "code",
   "execution_count": 4,
   "metadata": {},
   "outputs": [
    {
     "data": {
      "text/plain": [
       "7"
      ]
     },
     "execution_count": 4,
     "metadata": {},
     "output_type": "execute_result"
    }
   ],
   "source": [
    "len(centralidade_list)"
   ]
  },
  {
   "cell_type": "code",
   "execution_count": 5,
   "metadata": {},
   "outputs": [
    {
     "data": {
      "text/plain": [
       "(7115, 7)"
      ]
     },
     "execution_count": 5,
     "metadata": {},
     "output_type": "execute_result"
    }
   ],
   "source": [
    "X = np.array(centralidade_list)\n",
    "X = X.transpose()\n",
    "X[5] = stats.zscore(X[5])\n",
    "\n",
    "# problemas de escala\n",
    "\n",
    "# X = stats.zscore(X)\n",
    "X.shape"
   ]
  },
  {
   "cell_type": "code",
   "execution_count": 6,
   "metadata": {},
   "outputs": [
    {
     "name": "stdout",
     "output_type": "stream",
     "text": [
      "99.999999959\n",
      "(array([1.]), 1)\n",
      "(array([66894.97417198]), 1)\n"
     ]
    }
   ],
   "source": [
    "varience_values = []\n",
    "\n",
    "pca = PCA(n_components=1,svd_solver='full')\n",
    "teste = pca.fit_transform(X)\n",
    "explained_varience = pca.explained_variance_ratio_.sum()\n",
    "print(float(pca.explained_variance_ratio_.sum()*100))\n",
    "print(pca.explained_variance_ratio_,len(pca.explained_variance_ratio_))\n",
    "print(pca.singular_values_,len(pca.singular_values_))  "
   ]
  },
  {
   "cell_type": "code",
   "execution_count": 7,
   "metadata": {},
   "outputs": [
    {
     "data": {
      "text/plain": [
       "7115"
      ]
     },
     "execution_count": 7,
     "metadata": {},
     "output_type": "execute_result"
    }
   ],
   "source": [
    "lista_teste = teste.tolist()\n",
    "len(lista_teste)\n",
    "#  a partir daqui é so pegar os index igual no que ja tem\n",
    "pca_values = []\n",
    "for sublist in lista_teste:\n",
    "    for item in sublist:\n",
    "        pca_values.append(item)\n",
    "        \n",
    "len(pca_values)\n",
    "# print(flat_list[:50])"
   ]
  },
  {
   "cell_type": "code",
   "execution_count": 8,
   "metadata": {},
   "outputs": [
    {
     "data": {
      "text/plain": [
       "(7115, 8)"
      ]
     },
     "execution_count": 8,
     "metadata": {},
     "output_type": "execute_result"
    }
   ],
   "source": [
    "a = np.array(pca_values)\n",
    "a = a.reshape(len(a),1)\n",
    "X = np.append(X,a,axis=1)\n",
    "X.shape"
   ]
  },
  {
   "cell_type": "code",
   "execution_count": 9,
   "metadata": {},
   "outputs": [
    {
     "data": {
      "text/plain": [
       "['0_grau',\n",
       " '1_betweennes',\n",
       " '2_pagerank',\n",
       " '3_closeness',\n",
       " '4_eigenvector_centrality',\n",
       " '5_harmonic_centrality',\n",
       " '6_load_centrality',\n",
       " '7_PCA_all(0-6)']"
      ]
     },
     "execution_count": 9,
     "metadata": {},
     "output_type": "execute_result"
    }
   ],
   "source": [
    "labels_medidas = ['0_grau','1_betweennes','2_pagerank','3_closeness','4_eigenvector_centrality','5_harmonic_centrality','6_load_centrality','7_PCA_all(0-6)']\n",
    "labels_medidas"
   ]
  },
  {
   "cell_type": "code",
   "execution_count": 10,
   "metadata": {},
   "outputs": [],
   "source": [
    "#  A partir daqui analise de correlacao entre as medidas"
   ]
  },
  {
   "cell_type": "code",
   "execution_count": 11,
   "metadata": {},
   "outputs": [],
   "source": [
    "def calcula_PCA(matrix,col1,col2): # pca entre duas colunas\n",
    "    vindex = [i for i in range(g.vcount())]\n",
    "    \n",
    "    Y = np.array([matrix[:,col1],matrix[:,col2]])\n",
    "    Y = Y.transpose()\n",
    "#     print (Y.shape)\n",
    "#     print (Y,type(Y),type(Y[0]),len(Y[0]))\n",
    "    \n",
    "    pca = PCA(n_components=1,svd_solver='full')\n",
    "    teste = pca.fit_transform(Y)\n",
    "    explained_varience = pca.explained_variance_ratio_.sum()\n",
    "    print(float(pca.explained_variance_ratio_.sum()*100))\n",
    "    lista_teste = teste.tolist()\n",
    "    flat_list = []\n",
    "    for sublist in lista_teste:\n",
    "        for item in sublist:\n",
    "            flat_list.append(item)\n",
    "    aflat, seeds_PCA = (list(x) for x in zip(*sorted(zip(flat_list, vindex), reverse=True)))\n",
    "    return (seeds_PCA,np.array(flat_list))"
   ]
  },
  {
   "cell_type": "code",
   "execution_count": 12,
   "metadata": {},
   "outputs": [],
   "source": [
    "def calcKendall(matrix):\n",
    "    matrix_kendall = []\n",
    "    for i in range(matrix.shape[1]):\n",
    "        kend = []\n",
    "        for j in range(matrix.shape[1]):\n",
    "            tau, p_value = kendalltau(matrix[:,i],matrix[:,j])\n",
    "            kend.append(tau)\n",
    "        matrix_kendall.append(kend)\n",
    "    matrix_kendall = np.array(matrix_kendall)\n",
    "    return(matrix_kendall)"
   ]
  },
  {
   "cell_type": "code",
   "execution_count": 13,
   "metadata": {},
   "outputs": [
    {
     "data": {
      "image/png": "[encoded data removed]",
      "text/plain": [
       "<Figure size 432x288 with 2 Axes>"
      ]
     },
     "metadata": {},
     "output_type": "display_data"
    }
   ],
   "source": [
    "corr = calcKendall(X)\n",
    "mask = np.zeros_like(corr)\n",
    "mask[np.triu_indices_from(mask)] = True\n",
    "with sns.axes_style(\"white\"):\n",
    "    ax = sns.heatmap(corr, mask=mask,square=True,xticklabels=labels_medidas,yticklabels=labels_medidas,linewidths=.5)"
   ]
  },
  {
   "cell_type": "code",
   "execution_count": 14,
   "metadata": {},
   "outputs": [
    {
     "data": {
      "image/png": "[encoded data removed]",
      "text/plain": [
       "<Figure size 432x288 with 2 Axes>"
      ]
     },
     "metadata": {},
     "output_type": "display_data"
    }
   ],
   "source": [
    "corr = calcKendall(X)\n",
    "# sns.heatmap(,xticklabels=labels,yticklabels=labels,linewidths=.5)\n",
    "mask = np.zeros_like(corr)\n",
    "mask[np.triu_indices_from(mask)] = True\n",
    "with sns.axes_style(\"white\"):\n",
    "    ax = sns.heatmap(corr, vmin=.8,mask=mask,square=True,xticklabels=labels_medidas,yticklabels=labels_medidas,linewidths=.5)"
   ]
  },
  {
   "cell_type": "code",
   "execution_count": 20,
   "metadata": {},
   "outputs": [
    {
     "data": {
      "image/png": "[encoded data removed]",
      "text/plain": [
       "<Figure size 432x288 with 2 Axes>"
      ]
     },
     "metadata": {},
     "output_type": "display_data"
    }
   ],
   "source": [
    "corr = calcKendall(X)\n",
    "# sns.heatmap(,xticklabels=labels,yticklabels=labels,linewidths=.5)\n",
    "mask = np.zeros_like(corr)\n",
    "mask[np.triu_indices_from(mask)] = True\n",
    "with sns.axes_style(\"white\"):\n",
    "    ax = sns.heatmap(corr, vmax = .7,mask=mask,square=True,xticklabels=labels_medidas,yticklabels=labels_medidas,linewidths=.5)"
   ]
  },
  {
   "cell_type": "code",
   "execution_count": 16,
   "metadata": {},
   "outputs": [],
   "source": [
    "matrix_teste = X"
   ]
  },
  {
   "cell_type": "code",
   "execution_count": 17,
   "metadata": {},
   "outputs": [
    {
     "name": "stdout",
     "output_type": "stream",
     "text": [
      "99.9988361233\n",
      "99.7842935319\n",
      "89.1240982323\n",
      "99.9999999963\n",
      "99.2412993073\n",
      "99.9999999958\n",
      "99.9999999865\n"
     ]
    }
   ],
   "source": [
    "# Alta correlacao Wiki-Vote\n",
    "\n",
    "c_1_6 = calcula_PCA(matrix_teste,1,6)\n",
    "\n",
    "c_2_3 = calcula_PCA(matrix_teste,2,3)\n",
    "c_2_4 = calcula_PCA(matrix_teste,2,4)\n",
    "c_2_5 = calcula_PCA(matrix_teste,2,5)\n",
    "\n",
    "c_3_4 = calcula_PCA(matrix_teste,3,4)\n",
    "c_3_5 = calcula_PCA(matrix_teste,3,5)\n",
    "c_4_5 = calcula_PCA(matrix_teste,4,5)"
   ]
  },
  {
   "cell_type": "code",
   "execution_count": 18,
   "metadata": {},
   "outputs": [
    {
     "name": "stdout",
     "output_type": "stream",
     "text": [
      "87.4174698137\n",
      "86.8386530444\n",
      "99.3206777297\n",
      "88.7003767645\n",
      "99.999999988\n",
      "99.837977011\n",
      "99.7827949498\n",
      "89.1407578097\n",
      "99.9999999962\n"
     ]
    }
   ],
   "source": [
    "# Baixa correlacao Wiki-Vote\n",
    "\n",
    "c_0_1 = calcula_PCA(matrix_teste,0,1)\n",
    "c_0_2 = calcula_PCA(matrix_teste,0,2)\n",
    "c_0_3 = calcula_PCA(matrix_teste,0,3)\n",
    "c_0_4 = calcula_PCA(matrix_teste,0,4)\n",
    "c_0_5 = calcula_PCA(matrix_teste,0,5)\n",
    "\n",
    "c_1_2 = calcula_PCA(matrix_teste,1,2)\n",
    "c_1_3 = calcula_PCA(matrix_teste,1,3)\n",
    "c_1_4 = calcula_PCA(matrix_teste,1,4)\n",
    "c_1_5 = calcula_PCA(matrix_teste,1,5)"
   ]
  },
  {
   "cell_type": "code",
   "execution_count": 21,
   "metadata": {},
   "outputs": [
    {
     "data": {
      "text/plain": [
       "(7115, 24)"
      ]
     },
     "execution_count": 21,
     "metadata": {},
     "output_type": "execute_result"
    }
   ],
   "source": [
    "#  adicionando na matrix temporaria Wiki-Vote\n",
    "\n",
    "matrix_teste = np.hstack((matrix_teste, np.array([c_1_6[1]]).transpose()))\n",
    "matrix_teste = np.hstack((matrix_teste, np.array([c_2_3[1]]).transpose()))\n",
    "matrix_teste = np.hstack((matrix_teste, np.array([c_2_4[1]]).transpose()))\n",
    "matrix_teste = np.hstack((matrix_teste, np.array([c_2_5[1]]).transpose()))\n",
    "\n",
    "matrix_teste = np.hstack((matrix_teste, np.array([c_3_4[1]]).transpose()))\n",
    "matrix_teste = np.hstack((matrix_teste, np.array([c_3_5[1]]).transpose()))\n",
    "matrix_teste = np.hstack((matrix_teste, np.array([c_4_5[1]]).transpose()))\n",
    "\n",
    "matrix_teste = np.hstack((matrix_teste, np.array([c_0_1[1]]).transpose()))\n",
    "matrix_teste = np.hstack((matrix_teste, np.array([c_0_2[1]]).transpose()))\n",
    "matrix_teste = np.hstack((matrix_teste, np.array([c_0_3[1]]).transpose()))\n",
    "matrix_teste = np.hstack((matrix_teste, np.array([c_0_4[1]]).transpose()))\n",
    "matrix_teste = np.hstack((matrix_teste, np.array([c_0_5[1]]).transpose()))\n",
    "\n",
    "matrix_teste = np.hstack((matrix_teste, np.array([c_1_2[1]]).transpose()))\n",
    "matrix_teste = np.hstack((matrix_teste, np.array([c_1_3[1]]).transpose()))\n",
    "matrix_teste = np.hstack((matrix_teste, np.array([c_1_4[1]]).transpose()))\n",
    "matrix_teste = np.hstack((matrix_teste, np.array([c_1_5[1]]).transpose()))\n",
    "matrix_teste.shape"
   ]
  },
  {
   "cell_type": "code",
   "execution_count": 22,
   "metadata": {},
   "outputs": [],
   "source": [
    "# olhando correlacao das novas medidas da matrix teste"
   ]
  },
  {
   "cell_type": "code",
   "execution_count": 23,
   "metadata": {},
   "outputs": [],
   "source": [
    "# Wiki-Vote\n",
    "labels = ['0_grau','1_betweennes','2_pagerank','3_closeness','4_eigenvector_centrality','5_harmonic_centrality','6_load_centrality','7_PCA_all','16','23','24','25','34','35','45','01','02','03','04','05','12','13','14','15']"
   ]
  },
  {
   "cell_type": "code",
   "execution_count": 24,
   "metadata": {},
   "outputs": [
    {
     "data": {
      "image/png": "[encoded data removed]",
      "text/plain": [
       "<Figure size 720x504 with 2 Axes>"
      ]
     },
     "metadata": {
      "needs_background": "light"
     },
     "output_type": "display_data"
    }
   ],
   "source": [
    "# \n",
    "a = plt.figure(figsize=(10,7))\n",
    "corr = calcKendall(matrix_teste)\n",
    "mask = np.zeros_like(corr)\n",
    "mask[np.triu_indices_from(mask)] = True\n",
    "with sns.axes_style(\"white\"):\n",
    "    ax = sns.heatmap(corr, mask=mask,square=True,xticklabels=labels,yticklabels=labels,linewidths=.5)"
   ]
  },
  {
   "cell_type": "code",
   "execution_count": 25,
   "metadata": {},
   "outputs": [],
   "source": [
    "import pandas as pd\n"
   ]
  },
  {
   "cell_type": "code",
   "execution_count": 26,
   "metadata": {},
   "outputs": [],
   "source": [
    "vindex = [i for i in range(g.vcount())]\n",
    "\n",
    "my_list = X\n",
    "### my_list[0] = grau\n",
    "### my_list[1] = betweenness\n",
    "### my_list[2] = pagerank\n",
    "### my_list[3] = closeness\n",
    "### my_list[4] = eigenvector_centrality\n",
    "### my_list[5] = harmonic_centrality\n",
    "### my_list[6] = load_centrality \n",
    "### my_list[7] = PCA_all\n",
    "### ...etc\n",
    "aflat, seeds_grau = (list(x) for x in zip(*sorted(zip(my_list[:,0], vindex), reverse=True)))\n",
    "aflat, seeds_betweennes = (list(x) for x in zip(*sorted(zip(my_list[:,1], vindex), reverse=True)))\n",
    "aflat, seeds_pagerank = (list(x) for x in zip(*sorted(zip(my_list[:,2], vindex), reverse=True)))\n",
    "aflat, seeds_closeness = (list(x) for x in zip(*sorted(zip(my_list[:,3], vindex), reverse=True)))\n",
    "aflat, seeds_eigenvector_centrality = (list(x) for x in zip(*sorted(zip(my_list[:,4], vindex), reverse=True)))\n",
    "aflat, seeds_harmonic_centrality = (list(x) for x in zip(*sorted(zip(my_list[:,5], vindex), reverse=True)))\n",
    "aflat, seeds_load_centrality = (list(x) for x in zip(*sorted(zip(my_list[:,6], vindex), reverse=True)))\n",
    "aflat, seeds_PCA = (list(x) for x in zip(*sorted(zip(pca_values, vindex), reverse=True)))\n"
   ]
  },
  {
   "cell_type": "code",
   "execution_count": 27,
   "metadata": {},
   "outputs": [],
   "source": [
    "# '16','23','24','25','34','35','45','01','02','03','04','05','12','13','14','15']\n",
    "d = {'0_grau' : seeds_grau[:100],'1_betweennes':seeds_betweennes[:100],\n",
    "     '2_pagerank' :seeds_pagerank[:100],'3_closeness':seeds_closeness[:100],\n",
    "     '4_eigenvector_centrality':seeds_eigenvector_centrality[:100],'5_harmonic_centrality':seeds_harmonic_centrality[:100],\n",
    "     '6_load_centrality':seeds_load_centrality[:100],'7_PCA_all':seeds_PCA[:100],\n",
    "     'm_1_6':c_1_6[0][:100],\n",
    "     \n",
    "     'm_2_3':c_2_3[0][:100],'m_2_4':c_2_4[0][:100],'m_2_5':c_2_5[0][:100],\n",
    "     \n",
    "     'm_3_4':c_3_4[0][:100],'m_3_5':c_3_5[0][:100],\n",
    "     \n",
    "     'm_4_5':c_4_5[0][:100],\n",
    "     \n",
    "     'm_0_1':c_0_1[0][:100],'m_0_2':c_0_2[0][:100],'m_0_3':c_0_3[0][:100],'m_04':c_0_4[0][:100],'m_05':c_0_5[0][:100],\n",
    "     \n",
    "     'm_1_2':c_1_2[0][:100],'m_1_3':c_1_3[0][:100],'m_1_4':c_1_4[0][:100],'m_1_5':c_1_5[0][:100]}"
   ]
  },
  {
   "cell_type": "code",
   "execution_count": 28,
   "metadata": {},
   "outputs": [
    {
     "data": {
      "text/html": [
       "<div>\n",
       "<style scoped>\n",
       "    .dataframe tbody tr th:only-of-type {\n",
       "        vertical-align: middle;\n",
       "    }\n",
       "\n",
       "    .dataframe tbody tr th {\n",
       "        vertical-align: top;\n",
       "    }\n",
       "\n",
       "    .dataframe thead th {\n",
       "        text-align: right;\n",
       "    }\n",
       "</style>\n",
       "<table border=\"1\" class=\"dataframe\">\n",
       "  <thead>\n",
       "    <tr style=\"text-align: right;\">\n",
       "      <th></th>\n",
       "      <th>0_grau</th>\n",
       "      <th>1_betweennes</th>\n",
       "      <th>2_pagerank</th>\n",
       "      <th>3_closeness</th>\n",
       "      <th>4_eigenvector_centrality</th>\n",
       "      <th>5_harmonic_centrality</th>\n",
       "      <th>6_load_centrality</th>\n",
       "      <th>7_PCA_all</th>\n",
       "      <th>m_04</th>\n",
       "      <th>m_05</th>\n",
       "      <th>...</th>\n",
       "      <th>m_1_3</th>\n",
       "      <th>m_1_4</th>\n",
       "      <th>m_1_5</th>\n",
       "      <th>m_1_6</th>\n",
       "      <th>m_2_3</th>\n",
       "      <th>m_2_4</th>\n",
       "      <th>m_2_5</th>\n",
       "      <th>m_3_4</th>\n",
       "      <th>m_3_5</th>\n",
       "      <th>m_4_5</th>\n",
       "    </tr>\n",
       "  </thead>\n",
       "  <tbody>\n",
       "    <tr>\n",
       "      <th>0</th>\n",
       "      <td>699</td>\n",
       "      <td>699</td>\n",
       "      <td>326</td>\n",
       "      <td>326</td>\n",
       "      <td>905</td>\n",
       "      <td>326</td>\n",
       "      <td>699</td>\n",
       "      <td>326</td>\n",
       "      <td>5</td>\n",
       "      <td>326</td>\n",
       "      <td>...</td>\n",
       "      <td>5</td>\n",
       "      <td>5</td>\n",
       "      <td>326</td>\n",
       "      <td>5</td>\n",
       "      <td>5</td>\n",
       "      <td>5</td>\n",
       "      <td>326</td>\n",
       "      <td>5</td>\n",
       "      <td>326</td>\n",
       "      <td>326</td>\n",
       "    </tr>\n",
       "    <tr>\n",
       "      <th>1</th>\n",
       "      <td>286</td>\n",
       "      <td>286</td>\n",
       "      <td>409</td>\n",
       "      <td>409</td>\n",
       "      <td>326</td>\n",
       "      <td>409</td>\n",
       "      <td>286</td>\n",
       "      <td>409</td>\n",
       "      <td>7114</td>\n",
       "      <td>409</td>\n",
       "      <td>...</td>\n",
       "      <td>7114</td>\n",
       "      <td>7114</td>\n",
       "      <td>409</td>\n",
       "      <td>7114</td>\n",
       "      <td>7114</td>\n",
       "      <td>7114</td>\n",
       "      <td>409</td>\n",
       "      <td>7114</td>\n",
       "      <td>409</td>\n",
       "      <td>409</td>\n",
       "    </tr>\n",
       "    <tr>\n",
       "      <th>2</th>\n",
       "      <td>2374</td>\n",
       "      <td>409</td>\n",
       "      <td>1332</td>\n",
       "      <td>905</td>\n",
       "      <td>409</td>\n",
       "      <td>905</td>\n",
       "      <td>409</td>\n",
       "      <td>905</td>\n",
       "      <td>7112</td>\n",
       "      <td>905</td>\n",
       "      <td>...</td>\n",
       "      <td>7113</td>\n",
       "      <td>7113</td>\n",
       "      <td>905</td>\n",
       "      <td>7113</td>\n",
       "      <td>7113</td>\n",
       "      <td>7113</td>\n",
       "      <td>905</td>\n",
       "      <td>7113</td>\n",
       "      <td>905</td>\n",
       "      <td>905</td>\n",
       "    </tr>\n",
       "    <tr>\n",
       "      <th>3</th>\n",
       "      <td>1052</td>\n",
       "      <td>410</td>\n",
       "      <td>711</td>\n",
       "      <td>286</td>\n",
       "      <td>1141</td>\n",
       "      <td>286</td>\n",
       "      <td>410</td>\n",
       "      <td>286</td>\n",
       "      <td>7111</td>\n",
       "      <td>286</td>\n",
       "      <td>...</td>\n",
       "      <td>7112</td>\n",
       "      <td>7112</td>\n",
       "      <td>286</td>\n",
       "      <td>7112</td>\n",
       "      <td>7112</td>\n",
       "      <td>7112</td>\n",
       "      <td>286</td>\n",
       "      <td>7112</td>\n",
       "      <td>286</td>\n",
       "      <td>286</td>\n",
       "    </tr>\n",
       "    <tr>\n",
       "      <th>4</th>\n",
       "      <td>408</td>\n",
       "      <td>902</td>\n",
       "      <td>905</td>\n",
       "      <td>697</td>\n",
       "      <td>711</td>\n",
       "      <td>247</td>\n",
       "      <td>902</td>\n",
       "      <td>247</td>\n",
       "      <td>7109</td>\n",
       "      <td>247</td>\n",
       "      <td>...</td>\n",
       "      <td>7111</td>\n",
       "      <td>7111</td>\n",
       "      <td>247</td>\n",
       "      <td>7111</td>\n",
       "      <td>7111</td>\n",
       "      <td>7111</td>\n",
       "      <td>247</td>\n",
       "      <td>7111</td>\n",
       "      <td>247</td>\n",
       "      <td>247</td>\n",
       "    </tr>\n",
       "  </tbody>\n",
       "</table>\n",
       "<p>5 rows × 24 columns</p>\n",
       "</div>"
      ],
      "text/plain": [
       "   0_grau  1_betweennes  2_pagerank  3_closeness  4_eigenvector_centrality  \\\n",
       "0     699           699         326          326                       905   \n",
       "1     286           286         409          409                       326   \n",
       "2    2374           409        1332          905                       409   \n",
       "3    1052           410         711          286                      1141   \n",
       "4     408           902         905          697                       711   \n",
       "\n",
       "   5_harmonic_centrality  6_load_centrality  7_PCA_all  m_04  m_05  ...    \\\n",
       "0                    326                699        326     5   326  ...     \n",
       "1                    409                286        409  7114   409  ...     \n",
       "2                    905                409        905  7112   905  ...     \n",
       "3                    286                410        286  7111   286  ...     \n",
       "4                    247                902        247  7109   247  ...     \n",
       "\n",
       "   m_1_3  m_1_4  m_1_5  m_1_6  m_2_3  m_2_4  m_2_5  m_3_4  m_3_5  m_4_5  \n",
       "0      5      5    326      5      5      5    326      5    326    326  \n",
       "1   7114   7114    409   7114   7114   7114    409   7114    409    409  \n",
       "2   7113   7113    905   7113   7113   7113    905   7113    905    905  \n",
       "3   7112   7112    286   7112   7112   7112    286   7112    286    286  \n",
       "4   7111   7111    247   7111   7111   7111    247   7111    247    247  \n",
       "\n",
       "[5 rows x 24 columns]"
      ]
     },
     "execution_count": 28,
     "metadata": {},
     "output_type": "execute_result"
    }
   ],
   "source": [
    "df = pd.DataFrame(data=d)\n",
    "df.head()"
   ]
  },
  {
   "cell_type": "code",
   "execution_count": 30,
   "metadata": {},
   "outputs": [],
   "source": [
    "s = [seeds_grau[:50],seeds_betweennes[:50],\n",
    "    seeds_pagerank[:50],seeds_closeness[:50],\n",
    "    seeds_eigenvector_centrality[:50],seeds_harmonic_centrality[:50],\n",
    "    seeds_load_centrality[:50],seeds_PCA[:50],\n",
    "    c_1_6[0][:50],\n",
    "     \n",
    "    c_2_3[0][:50],c_2_4[0][:50],c_2_5[0][:50],\n",
    "     \n",
    "    c_3_4[0][:50],c_3_5[0][:50],\n",
    "    \n",
    "    c_4_5[0][:50],\n",
    "     \n",
    "    c_0_1[0][:50],c_0_2[0][:50],c_0_3[0][:50],c_0_4[0][:50],c_0_5[0][:50],\n",
    "     \n",
    "    c_1_2[0][:50],c_1_3[0][:50],c_1_4[0][:50],c_1_5[0][:50]]\n",
    "with open('sementes-Wiki-Vote.txt', 'wb') as f:\n",
    "    pickle.dump(s, f)"
   ]
  },
  {
   "cell_type": "code",
   "execution_count": null,
   "metadata": {},
   "outputs": [],
   "source": []
  }
 ],
 "metadata": {
  "kernelspec": {
   "display_name": "Python 2",
   "language": "python",
   "name": "python2"
  },
  "language_info": {
   "codemirror_mode": {
    "name": "ipython",
    "version": 2
   },
   "file_extension": ".py",
   "mimetype": "text/x-python",
   "name": "python",
   "nbconvert_exporter": "python",
   "pygments_lexer": "ipython2",
   "version": "2.7.12"
  }
 },
 "nbformat": 4,
 "nbformat_minor": 2
}
