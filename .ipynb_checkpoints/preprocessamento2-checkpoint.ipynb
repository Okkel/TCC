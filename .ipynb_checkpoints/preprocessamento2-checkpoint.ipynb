{
 "cells": [
  {
   "cell_type": "code",
   "execution_count": 22,
   "metadata": {},
   "outputs": [],
   "source": [
    "import numpy as np\n",
    "import random\n",
    "import networkx as nx\n",
    "import matplotlib.pyplot as plt\n",
    "from scipy.stats import kendalltau\n",
    "from scipy import stats\n",
    "from sklearn.decomposition import PCA\n",
    "from scipy import spatial # para calcular similaridade\n"
   ]
  },
  {
   "cell_type": "code",
   "execution_count": 12,
   "metadata": {},
   "outputs": [],
   "source": [
    "import random\n",
    "import sys\n",
    "import copy\n",
    "from igraph import *\n",
    "import time\n",
    "import numpy as np\n",
    "import pickle"
   ]
  },
  {
   "cell_type": "code",
   "execution_count": 13,
   "metadata": {},
   "outputs": [],
   "source": [
    "g = Graph.Read_Ncol(\"CA-GrQc.txt\", directed = False)\n",
    "A = g.get_edgelist()\n",
    "nxg = nx.Graph(A)"
   ]
  },
  {
   "cell_type": "code",
   "execution_count": 14,
   "metadata": {},
   "outputs": [],
   "source": [
    "with open('centralidades.txt', 'rb') as f:\n",
    "    my_list2 = pickle.load(f)"
   ]
  },
  {
   "cell_type": "code",
   "execution_count": 15,
   "metadata": {},
   "outputs": [
    {
     "data": {
      "text/plain": [
       "(5242, 7)"
      ]
     },
     "execution_count": 15,
     "metadata": {},
     "output_type": "execute_result"
    }
   ],
   "source": [
    "X = np.array(my_list2)\n",
    "X = X.transpose()\n",
    "X = stats.zscore(X)\n",
    "X.shape"
   ]
  },
  {
   "cell_type": "code",
   "execution_count": 16,
   "metadata": {},
   "outputs": [
    {
     "name": "stdout",
     "output_type": "stream",
     "text": [
      "52.5657647754\n",
      "(array([0.52565765]), 1)\n",
      "(array([138.88297853]), 1)\n"
     ]
    }
   ],
   "source": [
    "varience_values = []\n",
    "\n",
    "pca = PCA(n_components=1,svd_solver='full')\n",
    "teste = pca.fit_transform(X)\n",
    "explained_varience = pca.explained_variance_ratio_.sum()\n",
    "print(float(pca.explained_variance_ratio_.sum()*100))\n",
    "print(pca.explained_variance_ratio_,len(pca.explained_variance_ratio_))\n",
    "print(pca.singular_values_,len(pca.singular_values_))  "
   ]
  },
  {
   "cell_type": "code",
   "execution_count": 17,
   "metadata": {},
   "outputs": [
    {
     "data": {
      "text/plain": [
       "5242"
      ]
     },
     "execution_count": 17,
     "metadata": {},
     "output_type": "execute_result"
    }
   ],
   "source": [
    "lista_teste = teste.tolist()\n",
    "len(lista_teste)"
   ]
  },
  {
   "cell_type": "code",
   "execution_count": 18,
   "metadata": {},
   "outputs": [
    {
     "data": {
      "text/plain": [
       "5242"
      ]
     },
     "execution_count": 18,
     "metadata": {},
     "output_type": "execute_result"
    }
   ],
   "source": [
    "#  a partir daqui é so pegar os index igual no que ja tem\n",
    "flat_list = []\n",
    "for sublist in lista_teste:\n",
    "    for item in sublist:\n",
    "        flat_list.append(item)\n",
    "        \n",
    "len(flat_list)"
   ]
  },
  {
   "cell_type": "code",
   "execution_count": 19,
   "metadata": {},
   "outputs": [],
   "source": [
    "n = 50\n",
    "vindex = [i for i in range(g.vcount())]\n",
    "aflat, seeds_PCA = (list(x) for x in zip(*sorted(zip(flat_list, vindex), reverse=True)))\n",
    "# seeds_PCA\n",
    "# len(vindex)"
   ]
  },
  {
   "cell_type": "code",
   "execution_count": 20,
   "metadata": {},
   "outputs": [],
   "source": [
    "my_list = X\n",
    "# my_list[0] = grau\n",
    "# my_list[1] = betweenness\n",
    "# my_list[2] = pagerank\n",
    "# my_list[3] = closeness\n",
    "# ...etc\n",
    "aflat, seeds_grau = (list(x) for x in zip(*sorted(zip(my_list[:,0], vindex), reverse=True)))\n",
    "aflat, seeds_betweennes = (list(x) for x in zip(*sorted(zip(my_list[:,1], vindex), reverse=True)))\n",
    "aflat, seeds_pagerank = (list(x) for x in zip(*sorted(zip(my_list[:,2], vindex), reverse=True)))\n",
    "aflat, seeds_closeness = (list(x) for x in zip(*sorted(zip(my_list[:,3], vindex), reverse=True)))\n",
    "aflat, seeds_eigenvector_centrality = (list(x) for x in zip(*sorted(zip(my_list[:,4], vindex), reverse=True)))\n",
    "aflat, seeds_harmonic_centrality = (list(x) for x in zip(*sorted(zip(my_list[:,5], vindex), reverse=True)))\n",
    "aflat, seeds_load_centrality = (list(x) for x in zip(*sorted(zip(my_list[:,6], vindex), reverse=True)))\n",
    "# aflat, seeds_katz_centrality = (list(x) for x in zip(*sorted(zip(my_list[7], vindex), reverse=True)))\n",
    "l = [seeds_grau,seeds_betweennes,seeds_pagerank,seeds_closeness,seeds_eigenvector_centrality,seeds_harmonic_centrality,seeds_load_centrality]\n"
   ]
  },
  {
   "cell_type": "code",
   "execution_count": 23,
   "metadata": {},
   "outputs": [
    {
     "name": "stdout",
     "output_type": "stream",
     "text": [
      "0.6202959631288469\n",
      "0.4241471689563753\n",
      "0.5689834246586687\n",
      "0.44232955658944784\n",
      "0.658290517801297\n",
      "0.5564458220393966\n",
      "0.4252861232964805\n"
     ]
    }
   ],
   "source": [
    "for i in l:\n",
    "    print(1 - spatial.distance.cosine(seeds_PCA[:50], i[:50]))"
   ]
  },
  {
   "cell_type": "code",
   "execution_count": 25,
   "metadata": {},
   "outputs": [
    {
     "name": "stdout",
     "output_type": "stream",
     "text": [
      "('linhas x colunas', (5242, 7))\n",
      "[(0.3354420932600821, 1, 4), (0.3354420932600821, 4, 1), (0.3351095087519661, 4, 6), (0.3351095087519661, 6, 4)]\n",
      " \n",
      "[(0.07900353409591668, 2, 3), (0.03292889262810917, 2, 4), (0.08723391799168723, 2, 5), (0.07900353409591669, 3, 2), (0.03292889262810917, 4, 2), (0.08723391799168721, 5, 2)]\n"
     ]
    }
   ],
   "source": [
    "# X = np.array(my_list)\n",
    "# X = X.transpose()\n",
    "print('linhas x colunas',X.shape)\n",
    "\n",
    "kendall = []\n",
    "kendall2 = []\n",
    "\n",
    "for i in range((X.shape[1])):\n",
    "    for j in range((X.shape[1])):\n",
    "        if (i != j):\n",
    "            tau, p_value = kendalltau(X[:,i],X[:,j])\n",
    "            if (p_value > 0):\n",
    "                if tau>0.1:\n",
    "                    kendall.append((tau,i,j))\n",
    "                else:\n",
    "                    kendall2.append((tau,i,j))\n",
    "            if (p_value < 0):\n",
    "                print (\"menor\",i,j,tau,(p_value)*1000)\n",
    "\n",
    "print(kendall)\n",
    "print(' ')\n",
    "print(kendall2)"
   ]
  },
  {
   "cell_type": "code",
   "execution_count": 27,
   "metadata": {},
   "outputs": [],
   "source": [
    "def calcula_PCA(col1,col2): # pca entre duas colunas\n",
    "    \n",
    "    Y = np.array([X[:,col1],X[:,col2]])\n",
    "    Y = Y.transpose()\n",
    "#     print (Y.shape)\n",
    "#     print (Y,type(Y),type(Y[0]),len(Y[0]))\n",
    "    \n",
    "    pca = PCA(n_components=1,svd_solver='full')\n",
    "    teste = pca.fit_transform(Y)\n",
    "    explained_varience = pca.explained_variance_ratio_.sum()\n",
    "    print(float(pca.explained_variance_ratio_.sum()*100))\n",
    "    lista_teste = teste.tolist()\n",
    "    flat_list = []\n",
    "    for sublist in lista_teste:\n",
    "        for item in sublist:\n",
    "            flat_list.append(item)\n",
    "    aflat, seeds_PCA = (list(x) for x in zip(*sorted(zip(flat_list, vindex), reverse=True)))\n",
    "    return seeds_PCA"
   ]
  },
  {
   "cell_type": "code",
   "execution_count": 30,
   "metadata": {},
   "outputs": [
    {
     "name": "stdout",
     "output_type": "stream",
     "text": [
      "(0.07900353409591668, 2, 3)\n",
      "57.2350583211\n",
      "[108, 1037, 577, 11, 295, 186, 53, 103, 101, 279, 1733, 1032, 20, 1243, 31, 365, 288, 363, 72, 207, 450, 1088, 457, 346, 369, 315, 370, 100, 396, 296, 1091, 77, 244, 465, 545, 45, 265, 230, 27, 2009, 375, 1066, 543, 984, 746, 159, 398, 2065, 285, 322]\n",
      "--------------------\n",
      "(0.03292889262810917, 2, 4)\n",
      "65.977822331\n",
      "[295, 101, 279, 103, 288, 72, 296, 100, 77, 265, 159, 285, 269, 282, 263, 275, 302, 262, 303, 300, 301, 261, 277, 259, 267, 280, 290, 297, 294, 273, 264, 299, 284, 293, 292, 291, 289, 286, 283, 278, 276, 274, 266, 270, 271, 260, 108, 1037, 577, 545]\n",
      "--------------------\n",
      "(0.08723391799168723, 2, 5)\n",
      "58.4498622044\n",
      "[108, 1037, 577, 11, 295, 186, 103, 53, 101, 279, 1733, 1032, 20, 288, 72, 1243, 31, 365, 363, 207, 450, 1088, 457, 346, 100, 369, 315, 370, 296, 77, 396, 244, 1091, 545, 465, 265, 45, 230, 27, 1066, 2009, 375, 159, 543, 984, 746, 398, 285, 2065, 322]\n",
      "--------------------\n",
      "(0.07900353409591669, 3, 2)\n",
      "57.2350583211\n",
      "[108, 1037, 577, 11, 295, 186, 53, 103, 101, 279, 1733, 1032, 20, 1243, 31, 365, 288, 363, 72, 207, 450, 1088, 457, 346, 369, 315, 370, 100, 396, 296, 1091, 77, 244, 465, 545, 45, 265, 230, 27, 2009, 375, 1066, 543, 984, 746, 159, 398, 2065, 285, 322]\n",
      "--------------------\n",
      "(0.03292889262810917, 4, 2)\n",
      "65.977822331\n",
      "[295, 101, 279, 103, 288, 72, 296, 100, 77, 265, 159, 285, 269, 282, 263, 275, 302, 262, 303, 300, 301, 261, 277, 259, 267, 280, 290, 297, 294, 273, 264, 299, 284, 293, 292, 291, 289, 286, 283, 278, 276, 274, 266, 270, 271, 260, 108, 1037, 577, 545]\n",
      "--------------------\n",
      "(0.08723391799168721, 5, 2)\n",
      "58.4498622044\n",
      "[108, 1037, 577, 11, 295, 186, 103, 53, 101, 279, 1733, 1032, 20, 288, 72, 1243, 31, 365, 363, 207, 450, 1088, 457, 346, 100, 369, 315, 370, 296, 77, 396, 244, 1091, 545, 465, 265, 45, 230, 27, 1066, 2009, 375, 159, 543, 984, 746, 398, 285, 2065, 322]\n",
      "--------------------\n"
     ]
    }
   ],
   "source": [
    "# calcula_PCA(1,4)[:50]\n",
    "for i in kendall2:\n",
    "    print (i)\n",
    "    print(calcula_PCA(i[-2],i[-1])[:50])\n",
    "    print('--'*10)"
   ]
  },
  {
   "cell_type": "code",
   "execution_count": null,
   "metadata": {},
   "outputs": [],
   "source": []
  }
 ],
 "metadata": {
  "kernelspec": {
   "display_name": "Python 2",
   "language": "python",
   "name": "python2"
  },
  "language_info": {
   "codemirror_mode": {
    "name": "ipython",
    "version": 2
   },
   "file_extension": ".py",
   "mimetype": "text/x-python",
   "name": "python",
   "nbconvert_exporter": "python",
   "pygments_lexer": "ipython2",
   "version": "2.7.14"
  }
 },
 "nbformat": 4,
 "nbformat_minor": 2
}
