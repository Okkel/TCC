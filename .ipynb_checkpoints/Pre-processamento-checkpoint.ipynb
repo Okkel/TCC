{
 "cells": [
  {
   "cell_type": "code",
   "execution_count": 6,
   "metadata": {},
   "outputs": [],
   "source": [
    "import numpy as np\n",
    "import random\n",
    "import networkx as nx\n",
    "import matplotlib.pyplot as plt\n",
    "from scipy.stats import kendalltau\n",
    "from scipy import stats\n",
    "from sklearn.decomposition import PCA\n"
   ]
  },
  {
   "cell_type": "code",
   "execution_count": 7,
   "metadata": {},
   "outputs": [],
   "source": [
    "import random\n",
    "import sys\n",
    "import copy\n",
    "from igraph import *\n",
    "import time\n",
    "import numpy as np\n",
    "import pickle"
   ]
  },
  {
   "cell_type": "code",
   "execution_count": 8,
   "metadata": {},
   "outputs": [],
   "source": [
    "g = Graph.Read_Ncol(\"CA-GrQc.txt\", directed = False)\n",
    "A = g.get_edgelist()\n",
    "nxg = nx.Graph(A)"
   ]
  },
  {
   "cell_type": "code",
   "execution_count": 11,
   "metadata": {},
   "outputs": [
    {
     "name": "stdout",
     "output_type": "stream",
     "text": [
      "grau\n",
      "betweennes\n",
      "pagerank\n",
      "closeness\n",
      "eigenvector_centrality\n",
      "harmonic_centrality\n",
      "load_centrality\n"
     ]
    }
   ],
   "source": [
    "# all_lines = []\n",
    "# my_list = []\n",
    "# print('grau')\n",
    "# a = nx.degree_centrality(nxg).values()\n",
    "# my_list.append(a)\n",
    "\n",
    "# print('betweennes')\n",
    "# a = nx.betweenness_centrality(nxg).values() \n",
    "# my_list.append(a)\n",
    "\n",
    "# print('pagerank')\n",
    "# a = nx.pagerank(nxg).values()\n",
    "# my_list.append(a)\n",
    "\n",
    "# print('closeness')\n",
    "# a = nx.closeness_centrality(nxg).values()\n",
    "# my_list.append(a)\n",
    "\n",
    "# print('eigenvector_centrality')\n",
    "# a = nx.eigenvector_centrality(nxg).values()\n",
    "# my_list.append(a)\n",
    "\n",
    "# print('harmonic_centrality')\n",
    "# a = nx.harmonic_centrality(nxg).values()\n",
    "# my_list.append(a)\n",
    "\n",
    "# print('load_centrality')\n",
    "# a = nx.load_centrality(nxg).values()\n",
    "# my_list.append(a)\n",
    "\n",
    "# for i in my_list:\n",
    "#     print (len(i))"
   ]
  },
  {
   "cell_type": "code",
   "execution_count": 5,
   "metadata": {},
   "outputs": [],
   "source": [
    "# c = g.degree()\n",
    "# print(c.index(min(c)),min(c))\n",
    "\n",
    "# b = nx.degree_centrality(nxg).values()\n",
    "# print(b.index(min(b)),min(b))\n",
    "\n",
    "# a = dict(nxg.degree()).values()\n",
    "# print(a.index(min(a)),min(a))"
   ]
  },
  {
   "cell_type": "code",
   "execution_count": 8,
   "metadata": {},
   "outputs": [],
   "source": [
    "# from sklearn.preprocessing import MinMaxScaler\n",
    "# c = np.array(my_list)\n",
    "# c = c.transpose()\n"
   ]
  },
  {
   "cell_type": "code",
   "execution_count": 12,
   "metadata": {},
   "outputs": [],
   "source": [
    "# with open('centralidades.txt', 'w') as f:\n",
    "#     for i in my_list:\n",
    "#         f.write(str(i))\n",
    "#         f.write(\"\\n\")    \n",
    "# with open('centralidades.txt', 'wb') as f:\n",
    "#     pickle.dump(my_list, f)"
   ]
  },
  {
   "cell_type": "code",
   "execution_count": 73,
   "metadata": {},
   "outputs": [],
   "source": [
    "with open('centralidades.txt', 'rb') as f:\n",
    "    my_list2 = pickle.load(f)"
   ]
  },
  {
   "cell_type": "code",
   "execution_count": 74,
   "metadata": {},
   "outputs": [
    {
     "data": {
      "text/plain": [
       "7"
      ]
     },
     "execution_count": 74,
     "metadata": {},
     "output_type": "execute_result"
    }
   ],
   "source": [
    "len(my_list2)"
   ]
  },
  {
   "cell_type": "code",
   "execution_count": 75,
   "metadata": {},
   "outputs": [
    {
     "data": {
      "text/plain": [
       "(5242, 7)"
      ]
     },
     "execution_count": 75,
     "metadata": {},
     "output_type": "execute_result"
    }
   ],
   "source": [
    "X = np.array(my_list2)\n",
    "X = X.transpose()\n",
    "X.shape"
   ]
  },
  {
   "cell_type": "code",
   "execution_count": 76,
   "metadata": {},
   "outputs": [],
   "source": [
    "X = stats.zscore(X)\n"
   ]
  },
  {
   "cell_type": "code",
   "execution_count": 77,
   "metadata": {},
   "outputs": [
    {
     "name": "stdout",
     "output_type": "stream",
     "text": [
      "52.5657647754\n",
      "(array([0.52565765]), 1)\n",
      "(array([138.88297853]), 1)\n"
     ]
    }
   ],
   "source": [
    "varience_values = []\n",
    "\n",
    "pca = PCA(n_components=1,svd_solver='full')\n",
    "teste = pca.fit_transform(X)\n",
    "explained_varience = pca.explained_variance_ratio_.sum()\n",
    "print(float(pca.explained_variance_ratio_.sum()*100))\n",
    "print(pca.explained_variance_ratio_,len(pca.explained_variance_ratio_))\n",
    "print(pca.singular_values_,len(pca.singular_values_))  "
   ]
  },
  {
   "cell_type": "code",
   "execution_count": 78,
   "metadata": {},
   "outputs": [
    {
     "name": "stdout",
     "output_type": "stream",
     "text": [
      "[[ 1.46424139]\n",
      " [ 0.28240939]\n",
      " [-0.41831131]\n",
      " ...\n",
      " [-1.63322198]\n",
      " [-1.63322198]\n",
      " [-1.63322198]]\n"
     ]
    }
   ],
   "source": [
    "print(teste)"
   ]
  },
  {
   "cell_type": "code",
   "execution_count": 79,
   "metadata": {},
   "outputs": [
    {
     "data": {
      "text/plain": [
       "5242"
      ]
     },
     "execution_count": 79,
     "metadata": {},
     "output_type": "execute_result"
    }
   ],
   "source": [
    "lista_teste = teste.tolist()\n",
    "len(lista_teste)"
   ]
  },
  {
   "cell_type": "code",
   "execution_count": 80,
   "metadata": {},
   "outputs": [
    {
     "data": {
      "text/plain": [
       "5242"
      ]
     },
     "execution_count": 80,
     "metadata": {},
     "output_type": "execute_result"
    }
   ],
   "source": [
    "#  a partir daqui é so pegar os index igual no que ja tem\n",
    "flat_list = []\n",
    "for sublist in lista_teste:\n",
    "    for item in sublist:\n",
    "        flat_list.append(item)\n",
    "        \n",
    "len(flat_list)\n"
   ]
  },
  {
   "cell_type": "code",
   "execution_count": 81,
   "metadata": {},
   "outputs": [],
   "source": [
    "n = 50\n",
    "vindex = [i for i in range(g.vcount())]\n",
    "aflat, seeds_PCA = (list(x) for x in zip(*sorted(zip(flat_list, vindex), reverse=True)))\n",
    "# seeds_PCA\n",
    "# len(vindex)"
   ]
  },
  {
   "cell_type": "code",
   "execution_count": 82,
   "metadata": {},
   "outputs": [],
   "source": [
    "from scipy import spatial # para calcular similaridade\n"
   ]
  },
  {
   "cell_type": "code",
   "execution_count": 83,
   "metadata": {},
   "outputs": [],
   "source": [
    "# ----------------------------------------------------"
   ]
  },
  {
   "cell_type": "code",
   "execution_count": 84,
   "metadata": {},
   "outputs": [],
   "source": [
    "my_list = X\n",
    "# my_list[0] = grau\n",
    "# my_list[1] = betweenness\n",
    "# my_list[2] = pagerank\n",
    "# my_list[3] = closeness\n",
    "# ...etc\n",
    "aflat, seeds_grau = (list(x) for x in zip(*sorted(zip(my_list[:,0], vindex), reverse=True)))\n",
    "aflat, seeds_betweennes = (list(x) for x in zip(*sorted(zip(my_list[:,1], vindex), reverse=True)))\n",
    "aflat, seeds_pagerank = (list(x) for x in zip(*sorted(zip(my_list[:,2], vindex), reverse=True)))\n",
    "aflat, seeds_closeness = (list(x) for x in zip(*sorted(zip(my_list[:,3], vindex), reverse=True)))\n",
    "aflat, seeds_eigenvector_centrality = (list(x) for x in zip(*sorted(zip(my_list[:,4], vindex), reverse=True)))\n",
    "aflat, seeds_harmonic_centrality = (list(x) for x in zip(*sorted(zip(my_list[:,5], vindex), reverse=True)))\n",
    "aflat, seeds_load_centrality = (list(x) for x in zip(*sorted(zip(my_list[:,6], vindex), reverse=True)))\n",
    "# aflat, seeds_katz_centrality = (list(x) for x in zip(*sorted(zip(my_list[7], vindex), reverse=True)))\n",
    "l = [seeds_grau,seeds_betweennes,seeds_pagerank,seeds_closeness,seeds_eigenvector_centrality,seeds_harmonic_centrality,seeds_load_centrality]\n"
   ]
  },
  {
   "cell_type": "code",
   "execution_count": 85,
   "metadata": {},
   "outputs": [
    {
     "name": "stdout",
     "output_type": "stream",
     "text": [
      "0.6202959631288469\n",
      "0.4241471689563753\n",
      "0.5689834246586687\n",
      "0.44232955658944784\n",
      "0.658290517801297\n",
      "0.5564458220393966\n",
      "0.4252861232964805\n"
     ]
    }
   ],
   "source": [
    "for i in l:\n",
    "    print(1 - spatial.distance.cosine(seeds_PCA[:50], i[:50]))"
   ]
  },
  {
   "cell_type": "code",
   "execution_count": 52,
   "metadata": {},
   "outputs": [],
   "source": [
    "# print(seeds_betweennes[0:n])\n",
    "\n",
    "with open('sementesPCA.txt', 'w') as f:\n",
    "    f.write(str(seeds_PCA[0:n]))\n",
    "    f.write(\"\\n\")\n",
    "    f.write(str(seeds_grau[0:n]))\n",
    "    f.write(\"\\n\")\n",
    "    f.write(str(seeds_betweennes[0:n]))\n",
    "    f.write(\"\\n\")\n",
    "    f.write(str(seeds_pagerank[0:n]))\n",
    "    f.write(\"\\n\")\n",
    "    f.write(str(seeds_closeness[0:n]))\n",
    "    f.write(\"\\n\")\n",
    "    f.write(str(seeds_eigenvector_centrality[0:n]))\n",
    "    f.write(\"\\n\")\n",
    "    f.write(str(seeds_harmonic_centrality[0:n]))\n",
    "    f.write(\"\\n\")\n",
    "    f.write(str(seeds_load_centrality[0:n]))\n",
    "#     f.write(\"\\n\")\n",
    "#     f.write(str(seeds_katz_centrality[0:n]))"
   ]
  },
  {
   "cell_type": "code",
   "execution_count": null,
   "metadata": {},
   "outputs": [],
   "source": [
    "# c = np.array([seeds_PCA,seeds_grau,seeds_betweenness,seeds_pagerank,seeds_closeness])\n",
    "# c = c.transpose()\n",
    "# np.savetxt(\"CA-GrQc_seeds.csv\",c, delimiter=\";\")"
   ]
  },
  {
   "cell_type": "code",
   "execution_count": 44,
   "metadata": {},
   "outputs": [
    {
     "name": "stdout",
     "output_type": "stream",
     "text": [
      "('linhas x colunas', (5242, 7))\n",
      "[(0.3354420932600821, 1, 4), (0.3354420932600821, 4, 1), (0.3351095087519661, 4, 6), (0.3351095087519661, 6, 4)]\n",
      " \n",
      "[(0.07900353409591668, 2, 3), (0.03292889262810917, 2, 4), (0.08723391799168723, 2, 5), (0.07900353409591669, 3, 2), (0.03292889262810917, 4, 2), (0.08723391799168721, 5, 2)]\n"
     ]
    }
   ],
   "source": [
    "# X = np.array(my_list)\n",
    "# X = X.transpose()\n",
    "print('linhas x colunas',X.shape)\n",
    "\n",
    "kendall = []\n",
    "kendall2 = []\n",
    "\n",
    "for i in range((X.shape[1])):\n",
    "    for j in range((X.shape[1])):\n",
    "        if (i != j):\n",
    "            tau, p_value = kendalltau(X[:,i],X[:,j])\n",
    "            if (p_value > 0):\n",
    "                if tau>0.3:\n",
    "                    kendall.append((tau,i,j))\n",
    "                else:\n",
    "                    kendall2.append((tau,i,j))\n",
    "            if (p_value < 0):\n",
    "                print (\"menor\",i,j,tau,(p_value)*1000)\n",
    "\n",
    "print(kendall)\n",
    "print(' ')\n",
    "print(kendall2)"
   ]
  },
  {
   "cell_type": "code",
   "execution_count": 42,
   "metadata": {},
   "outputs": [],
   "source": [
    "def calcula_PCA(col1,col2):\n",
    "    \n",
    "    Y = np.array([X[:,col1],X[:,col2]])\n",
    "    Y = Y.transpose()\n",
    "#     print (Y.shape)\n",
    "#     print (Y,type(Y),type(Y[0]),len(Y[0]))\n",
    "    \n",
    "    pca = PCA(n_components=1,svd_solver='full')\n",
    "    teste = pca.fit_transform(Y)\n",
    "    explained_varience = pca.explained_variance_ratio_.sum()\n",
    "    print(float(pca.explained_variance_ratio_.sum()*100))\n",
    "    lista_teste = teste.tolist()\n",
    "    flat_list = []\n",
    "    for sublist in lista_teste:\n",
    "        for item in sublist:\n",
    "            flat_list.append(item)\n",
    "    aflat, seeds_PCA = (list(x) for x in zip(*sorted(zip(flat_list, vindex), reverse=True)))\n",
    "    return seeds_PCA"
   ]
  },
  {
   "cell_type": "code",
   "execution_count": 62,
   "metadata": {},
   "outputs": [
    {
     "name": "stdout",
     "output_type": "stream",
     "text": [
      "[5111, 5238, 5237, 5236, 5235, 5234, 5233, 5232, 5231, 5230, 5229, 5228, 5227, 5220, 5219, 5218, 5217, 5216, 5215, 5214, 5213, 5208, 5207, 5206, 5205, 5204, 5203, 5201, 5200, 5196, 5195, 5193, 5192, 5190, 5189, 5182, 5181, 5180, 5179, 5178, 5177, 5173, 5172, 5167, 5166, 5150, 5149, 5140, 5139, 5134]\n",
      "(0.07900137097243289, 2, 3)\n",
      "99.9994669748\n",
      "[5111, 5238, 5237, 5236, 5235, 5234, 5233, 5232, 5231, 5230, 5229, 5228, 5227, 5220, 5219, 5218, 5217, 5216, 5215, 5214, 5213, 5208, 5207, 5206, 5205, 5204, 5203, 5201, 5200, 5196, 5195, 5193, 5192, 5190, 5189, 5182, 5181, 5180, 5179, 5178, 5177, 5173, 5172, 5167, 5166, 5150, 5149, 5140, 5139, 5134]\n",
      "(0.03484281791155357, 2, 4)\n",
      "99.9916809782\n",
      "[101, 265, 279, 296, 77, 159, 302, 275, 285, 282, 262, 288, 295, 100, 103, 72, 301, 267, 263, 269, 297, 300, 277, 280, 264, 303, 294, 299, 261, 284, 290, 273, 293, 292, 291, 289, 286, 283, 278, 276, 274, 266, 259, 270, 271, 260, 545, 615, 622, 614]\n",
      "(0.08723615386255001, 2, 5)\n",
      "100.0\n",
      "[5111, 5238, 5237, 5236, 5235, 5234, 5233, 5232, 5231, 5230, 5229, 5228, 5227, 5220, 5219, 5218, 5217, 5216, 5215, 5214, 5213, 5208, 5207, 5206, 5205, 5204, 5203, 5201, 5200, 5196, 5195, 5193, 5192, 5190, 5189, 5182, 5181, 5180, 5179, 5178, 5177, 5173, 5172, 5167, 5166, 5150, 5149, 5140, 5139, 5134]\n",
      "(0.07900137097243287, 3, 2)\n",
      "99.9994669748\n",
      "[5111, 5238, 5237, 5236, 5235, 5234, 5233, 5232, 5231, 5230, 5229, 5228, 5227, 5220, 5219, 5218, 5217, 5216, 5215, 5214, 5213, 5208, 5207, 5206, 5205, 5204, 5203, 5201, 5200, 5196, 5195, 5193, 5192, 5190, 5189, 5182, 5181, 5180, 5179, 5178, 5177, 5173, 5172, 5167, 5166, 5150, 5149, 5140, 5139, 5134]\n",
      "(0.03484281791155357, 4, 2)\n",
      "99.9916809782\n",
      "[101, 265, 279, 296, 77, 159, 302, 275, 285, 282, 262, 288, 295, 100, 103, 72, 301, 267, 263, 269, 297, 300, 277, 280, 264, 303, 294, 299, 261, 284, 290, 273, 293, 292, 291, 289, 286, 283, 278, 276, 274, 266, 259, 270, 271, 260, 545, 615, 622, 614]\n",
      "(0.08723615386255003, 5, 2)\n",
      "100.0\n",
      "[5111, 5238, 5237, 5236, 5235, 5234, 5233, 5232, 5231, 5230, 5229, 5228, 5227, 5220, 5219, 5218, 5217, 5216, 5215, 5214, 5213, 5208, 5207, 5206, 5205, 5204, 5203, 5201, 5200, 5196, 5195, 5193, 5192, 5190, 5189, 5182, 5181, 5180, 5179, 5178, 5177, 5173, 5172, 5167, 5166, 5150, 5149, 5140, 5139, 5134]\n"
     ]
    }
   ],
   "source": [
    "# calcula_PCA(1,4)[:50]\n",
    "print (seeds_PCA[:50])\n",
    "for i in kendall2:\n",
    "    print (i)\n",
    "    print(calcula_PCA(i[-2],i[-1])[:50])"
   ]
  },
  {
   "cell_type": "code",
   "execution_count": 50,
   "metadata": {},
   "outputs": [
    {
     "data": {
      "text/plain": [
       "5242"
      ]
     },
     "execution_count": 50,
     "metadata": {},
     "output_type": "execute_result"
    }
   ],
   "source": []
  },
  {
   "cell_type": "code",
   "execution_count": null,
   "metadata": {},
   "outputs": [],
   "source": []
  }
 ],
 "metadata": {
  "kernelspec": {
   "display_name": "Python 2",
   "language": "python",
   "name": "python2"
  },
  "language_info": {
   "codemirror_mode": {
    "name": "ipython",
    "version": 2
   },
   "file_extension": ".py",
   "mimetype": "text/x-python",
   "name": "python",
   "nbconvert_exporter": "python",
   "pygments_lexer": "ipython2",
   "version": "2.7.14"
  }
 },
 "nbformat": 4,
 "nbformat_minor": 2
}
