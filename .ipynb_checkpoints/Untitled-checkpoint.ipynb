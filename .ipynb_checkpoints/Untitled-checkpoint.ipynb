{
 "cells": [
  {
   "cell_type": "code",
   "execution_count": 25,
   "metadata": {},
   "outputs": [],
   "source": [
    "import random"
   ]
  },
  {
   "cell_type": "code",
   "execution_count": 61,
   "metadata": {},
   "outputs": [],
   "source": [
    "a = [[12,12,12,12,12,12,12,12,12,12],12]\n",
    "b = [[10,10,10,10,10,10,10,10,10,10],12]"
   ]
  },
  {
   "cell_type": "code",
   "execution_count": 62,
   "metadata": {},
   "outputs": [],
   "source": [
    "def cruzar(p1,p2):\n",
    "    interval = sorted(random.sample(range(1,len(p1[0])-1),2))\n",
    "#     interval = [2,7]\n",
    "    print (interval)\n",
    "    f1 = [p2[0][0:interval[0]] + p1[0][interval[0]:interval[1]] + p2[0][interval[1]:],0]\n",
    "    f2 = [p1[0][0:interval[0]] + p2[0][interval[0]:interval[1]] + p1[0][interval[1]:],0]\n",
    "    print('--',p1[0][0:interval[0]])\n",
    "    print('--',p2[0][interval[0]:interval[1]])\n",
    "    print('--',p1[0][interval[1]:-1])\n",
    "    print(len(f1[0]),len(f2[0]))\n",
    "    return (f1,f2)"
   ]
  },
  {
   "cell_type": "code",
   "execution_count": 66,
   "metadata": {},
   "outputs": [
    {
     "name": "stdout",
     "output_type": "stream",
     "text": [
      "[3, 5]\n",
      "('--', [12, 12, 12])\n",
      "('--', [10, 10])\n",
      "('--', [12, 12, 12, 12])\n",
      "(10, 10)\n",
      "([[10, 10, 10, 12, 12, 10, 10, 10, 10, 10], 0], [[12, 12, 12, 10, 10, 12, 12, 12, 12, 12], 0])\n"
     ]
    }
   ],
   "source": [
    "print cruzar(a,b)"
   ]
  },
  {
   "cell_type": "code",
   "execution_count": null,
   "metadata": {},
   "outputs": [],
   "source": []
  },
  {
   "cell_type": "code",
   "execution_count": null,
   "metadata": {},
   "outputs": [],
   "source": []
  }
 ],
 "metadata": {
  "kernelspec": {
   "display_name": "Python 2",
   "language": "python",
   "name": "python2"
  },
  "language_info": {
   "codemirror_mode": {
    "name": "ipython",
    "version": 2
   },
   "file_extension": ".py",
   "mimetype": "text/x-python",
   "name": "python",
   "nbconvert_exporter": "python",
   "pygments_lexer": "ipython2",
   "version": "2.7.12"
  }
 },
 "nbformat": 4,
 "nbformat_minor": 2
}
