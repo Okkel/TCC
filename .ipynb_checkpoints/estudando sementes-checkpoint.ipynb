{
 "cells": [
  {
   "cell_type": "code",
   "execution_count": 4,
   "metadata": {},
   "outputs": [
    {
     "ename": "ImportError",
     "evalue": "cannot import name cbook",
     "output_type": "error",
     "traceback": [
      "\u001b[0;31m---------------------------------------------------------------------------\u001b[0m",
      "\u001b[0;31mImportError\u001b[0m                               Traceback (most recent call last)",
      "\u001b[0;32m<ipython-input-4-ec40527a26dd>\u001b[0m in \u001b[0;36m<module>\u001b[0;34m()\u001b[0m\n\u001b[1;32m      2\u001b[0m \u001b[0;32mimport\u001b[0m \u001b[0mrandom\u001b[0m\u001b[0;34m\u001b[0m\u001b[0m\n\u001b[1;32m      3\u001b[0m \u001b[0;32mimport\u001b[0m \u001b[0mnetworkx\u001b[0m \u001b[0;32mas\u001b[0m \u001b[0mnx\u001b[0m\u001b[0;34m\u001b[0m\u001b[0m\n\u001b[0;32m----> 4\u001b[0;31m \u001b[0;32mimport\u001b[0m \u001b[0mmatplotlib\u001b[0m\u001b[0;34m.\u001b[0m\u001b[0mpyplot\u001b[0m \u001b[0;32mas\u001b[0m \u001b[0mplt\u001b[0m\u001b[0;34m\u001b[0m\u001b[0m\n\u001b[0m\u001b[1;32m      5\u001b[0m \u001b[0;32mfrom\u001b[0m \u001b[0mscipy\u001b[0m\u001b[0;34m.\u001b[0m\u001b[0mstats\u001b[0m \u001b[0;32mimport\u001b[0m \u001b[0mkendalltau\u001b[0m\u001b[0;34m\u001b[0m\u001b[0m\n\u001b[1;32m      6\u001b[0m \u001b[0;32mfrom\u001b[0m \u001b[0mscipy\u001b[0m\u001b[0;34m.\u001b[0m\u001b[0mstats\u001b[0m \u001b[0;32mimport\u001b[0m \u001b[0mspearmanr\u001b[0m\u001b[0;34m\u001b[0m\u001b[0m\n",
      "\u001b[0;32m/home/arthur/.local/lib/python2.7/site-packages/matplotlib/__init__.py\u001b[0m in \u001b[0;36m<module>\u001b[0;34m()\u001b[0m\n\u001b[1;32m    124\u001b[0m \u001b[0;31m# cbook must import matplotlib only within function\u001b[0m\u001b[0;34m\u001b[0m\u001b[0;34m\u001b[0m\u001b[0m\n\u001b[1;32m    125\u001b[0m \u001b[0;31m# definitions, so it is safe to import from it here.\u001b[0m\u001b[0;34m\u001b[0m\u001b[0;34m\u001b[0m\u001b[0m\n\u001b[0;32m--> 126\u001b[0;31m \u001b[0;32mfrom\u001b[0m \u001b[0;34m.\u001b[0m \u001b[0;32mimport\u001b[0m \u001b[0mcbook\u001b[0m\u001b[0;34m\u001b[0m\u001b[0m\n\u001b[0m\u001b[1;32m    127\u001b[0m from matplotlib.cbook import (\n\u001b[1;32m    128\u001b[0m     _backports, mplDeprecation, dedent, get_label, sanitize_sequence)\n",
      "\u001b[0;31mImportError\u001b[0m: cannot import name cbook"
     ]
    }
   ],
   "source": [
    "import numpy as np\n",
    "import random\n",
    "import networkx as nx\n",
    "import matplotlib.pyplot as plt\n",
    "from scipy.stats import kendalltau\n",
    "from scipy.stats import spearmanr\n",
    "from scipy import stats\n",
    "from sklearn.decomposition import PCA\n",
    "import seaborn as sns\n",
    "import random\n",
    "import sys\n",
    "import copy\n",
    "from igraph import *\n",
    "import time\n",
    "import numpy as np\n",
    "import pickle\n",
    "import numpy as np\n",
    "import matplotlib.pyplot as plt\n",
    "# import sys\n",
    "# from collections import Counter\n",
    "%matplotlib inline"
   ]
  },
  {
   "cell_type": "code",
   "execution_count": 5,
   "metadata": {},
   "outputs": [],
   "source": [
    "betwee = pd.read_csv('fitness_evolutionmoreno_innovation/seeds_responsemoreno_innovation_medida_1.csv',sep=';') \n",
    "pagerank = pd.read_csv('fitness_evolutionmoreno_innovation/seeds_responsemoreno_innovation_medida_2.csv',sep=';') \n",
    "pca_all = pd.read_csv('fitness_evolutionmoreno_innovation/seeds_responsemoreno_innovation_medida_8.csv',sep=';') \n",
    "m_12 = pd.read_csv('fitness_evolutionmoreno_innovation/seeds_responsemoreno_innovation_medida_11.csv',sep=';') "
   ]
  },
  {
   "cell_type": "code",
   "execution_count": 6,
   "metadata": {},
   "outputs": [],
   "source": [
    "betwee = betwee.drop(betwee.columns[0], axis=1)\n",
    "pagerank = pagerank.drop(pagerank.columns[0], axis=1)\n",
    "pca_all = pca_all.drop(pca_all.columns[0], axis=1)\n",
    "m_12 = m_12.drop(m_12.columns[0], axis=1)"
   ]
  },
  {
   "cell_type": "code",
   "execution_count": 7,
   "metadata": {},
   "outputs": [],
   "source": [
    "def get_histogram(df):\n",
    "    \n",
    "    a = []\n",
    "    for i in range(10):\n",
    "        a.extend(df[str(i)])\n",
    "    recounted = Counter(a)\n",
    "    plt.figure(figsize=(15,3))\n",
    "    plt.bar(recounted.keys(), height = recounted.values(), width=0.8)\n",
    "    \n"
   ]
  },
  {
   "cell_type": "code",
   "execution_count": 8,
   "metadata": {},
   "outputs": [
    {
     "data": {
      "image/png": "[encoded data removed]",
      "text/plain": [
       "<Figure size 1080x216 with 1 Axes>"
      ]
     },
     "metadata": {
      "needs_background": "light"
     },
     "output_type": "display_data"
    }
   ],
   "source": [
    "# plt.figure(figsize=(15,3))\n",
    "# plt.bar(recounted.keys(), height = recounted.values(), width=0.8)\n",
    "get_histogram(betwee)\n"
   ]
  },
  {
   "cell_type": "code",
   "execution_count": 9,
   "metadata": {},
   "outputs": [
    {
     "data": {
      "image/png": "[encoded data removed]",
      "text/plain": [
       "<Figure size 1080x216 with 1 Axes>"
      ]
     },
     "metadata": {
      "needs_background": "light"
     },
     "output_type": "display_data"
    }
   ],
   "source": [
    "get_histogram(pagerank)"
   ]
  },
  {
   "cell_type": "code",
   "execution_count": 10,
   "metadata": {},
   "outputs": [
    {
     "data": {
      "image/png": "[encoded data removed]",
      "text/plain": [
       "<Figure size 1080x216 with 1 Axes>"
      ]
     },
     "metadata": {
      "needs_background": "light"
     },
     "output_type": "display_data"
    }
   ],
   "source": [
    "get_histogram(pca_all)"
   ]
  },
  {
   "cell_type": "code",
   "execution_count": 11,
   "metadata": {},
   "outputs": [
    {
     "data": {
      "image/png": "[encoded data removed]",
      "text/plain": [
       "<Figure size 1080x216 with 1 Axes>"
      ]
     },
     "metadata": {
      "needs_background": "light"
     },
     "output_type": "display_data"
    }
   ],
   "source": [
    "get_histogram(m_12)"
   ]
  },
  {
   "cell_type": "code",
   "execution_count": 12,
   "metadata": {},
   "outputs": [],
   "source": [
    "a = []\n",
    "for i in range(10):\n",
    "    a.extend(betwee[str(i)])\n",
    "recounted_betwee = Counter(a)\n",
    "\n",
    "a = []\n",
    "for i in range(10):\n",
    "    a.extend(pagerank[str(i)])\n",
    "recounted_pagerank = Counter(a)\n",
    "\n",
    "a = []\n",
    "for i in range(10):\n",
    "    a.extend(pca_all[str(i)])\n",
    "recounted_pca_all = Counter(a)\n",
    "\n",
    "\n",
    "\n",
    "# b = { k: recounted-betwee.get(k, 0) + ecounted-pagerank.get(k, 0) for k in recounted-betwee }"
   ]
  },
  {
   "cell_type": "code",
   "execution_count": 13,
   "metadata": {},
   "outputs": [
    {
     "ename": "NameError",
     "evalue": "name 'b' is not defined",
     "output_type": "error",
     "traceback": [
      "\u001b[0;31m---------------------------------------------------------------------------\u001b[0m",
      "\u001b[0;31mNameError\u001b[0m                                 Traceback (most recent call last)",
      "\u001b[0;32m<ipython-input-13-fbefd4500030>\u001b[0m in \u001b[0;36m<module>\u001b[0;34m()\u001b[0m\n\u001b[1;32m      1\u001b[0m \u001b[0mplt\u001b[0m\u001b[0;34m.\u001b[0m\u001b[0mfigure\u001b[0m\u001b[0;34m(\u001b[0m\u001b[0mfigsize\u001b[0m\u001b[0;34m=\u001b[0m\u001b[0;34m(\u001b[0m\u001b[0;36m15\u001b[0m\u001b[0;34m,\u001b[0m\u001b[0;36m3\u001b[0m\u001b[0;34m)\u001b[0m\u001b[0;34m)\u001b[0m\u001b[0;34m\u001b[0m\u001b[0m\n\u001b[0;32m----> 2\u001b[0;31m \u001b[0mplt\u001b[0m\u001b[0;34m.\u001b[0m\u001b[0mbar\u001b[0m\u001b[0;34m(\u001b[0m\u001b[0mb\u001b[0m\u001b[0;34m.\u001b[0m\u001b[0mkeys\u001b[0m\u001b[0;34m(\u001b[0m\u001b[0;34m)\u001b[0m\u001b[0;34m,\u001b[0m \u001b[0mheight\u001b[0m \u001b[0;34m=\u001b[0m \u001b[0mb\u001b[0m\u001b[0;34m.\u001b[0m\u001b[0mvalues\u001b[0m\u001b[0;34m(\u001b[0m\u001b[0;34m)\u001b[0m\u001b[0;34m,\u001b[0m \u001b[0mwidth\u001b[0m\u001b[0;34m=\u001b[0m\u001b[0;36m0.8\u001b[0m\u001b[0;34m)\u001b[0m\u001b[0;34m\u001b[0m\u001b[0m\n\u001b[0m\u001b[1;32m      3\u001b[0m \u001b[0;34m\u001b[0m\u001b[0m\n",
      "\u001b[0;31mNameError\u001b[0m: name 'b' is not defined"
     ]
    },
    {
     "data": {
      "text/plain": [
       "<Figure size 1080x216 with 0 Axes>"
      ]
     },
     "metadata": {},
     "output_type": "display_data"
    }
   ],
   "source": [
    "    plt.figure(figsize=(15,3))\n",
    "    plt.bar(b.keys(), height = b.values(), width=0.8)\n",
    "\n"
   ]
  },
  {
   "cell_type": "code",
   "execution_count": 14,
   "metadata": {},
   "outputs": [
    {
     "name": "stdout",
     "output_type": "stream",
     "text": [
      "8 5\n",
      "18 4\n",
      "20 6\n",
      "23 4\n",
      "25 6\n",
      "30 4\n",
      "37 8\n",
      "42 8\n",
      "47 7\n",
      "48 4\n",
      "59 7\n",
      "72 6\n",
      "74 4\n",
      "77 6\n",
      "80 5\n",
      "90 5\n",
      "94 7\n",
      "99 4\n",
      "103 5\n",
      "108 4\n",
      "111 5\n",
      "112 4\n",
      "116 8\n",
      "136 5\n",
      "137 5\n",
      "143 6\n",
      "144 4\n",
      "149 5\n",
      "156 6\n",
      "159 5\n",
      "164 4\n",
      "165 5\n",
      "166 5\n",
      "168 6\n",
      "171 4\n",
      "173 5\n",
      "174 4\n",
      "175 4\n",
      "191 5\n",
      "197 6\n",
      "206 5\n",
      "210 7\n",
      "224 4\n",
      "228 4\n",
      "229 7\n",
      "235 6\n",
      "[8, 18, 20, 23, 25, 30, 37, 42, 47, 48, 59, 72, 74, 77, 80, 90, 94, 99, 103, 108, 111, 112, 116, 136, 137, 143, 144, 149, 156, 159, 164, 165, 166, 168, 171, 173, 174, 175, 191, 197, 206, 210, 224, 228, 229, 235]\n",
      "--------------------\n",
      "10 5\n",
      "11 4\n",
      "17 4\n",
      "19 7\n",
      "23 4\n",
      "30 5\n",
      "35 4\n",
      "42 5\n",
      "58 4\n",
      "59 4\n",
      "62 5\n",
      "72 5\n",
      "81 4\n",
      "103 7\n",
      "111 5\n",
      "112 5\n",
      "116 10\n",
      "128 5\n",
      "129 4\n",
      "130 4\n",
      "136 5\n",
      "137 5\n",
      "149 5\n",
      "157 7\n",
      "159 8\n",
      "163 7\n",
      "164 4\n",
      "168 4\n",
      "169 5\n",
      "170 4\n",
      "173 4\n",
      "174 7\n",
      "204 5\n",
      "209 5\n",
      "213 4\n",
      "214 4\n",
      "215 6\n",
      "220 5\n",
      "224 4\n",
      "230 7\n",
      "[10, 11, 17, 19, 23, 30, 35, 42, 58, 59, 62, 72, 81, 103, 111, 112, 116, 128, 129, 130, 136, 137, 149, 157, 159, 163, 164, 168, 169, 170, 173, 174, 204, 209, 213, 214, 215, 220, 224, 230]\n",
      "--------------------\n",
      "7 4\n",
      "17 4\n",
      "19 6\n",
      "29 4\n",
      "35 4\n",
      "42 8\n",
      "44 4\n",
      "47 5\n",
      "61 5\n",
      "67 4\n",
      "72 5\n",
      "111 7\n",
      "112 10\n",
      "114 5\n",
      "115 7\n",
      "116 7\n",
      "122 4\n",
      "127 5\n",
      "134 5\n",
      "136 4\n",
      "138 4\n",
      "149 6\n",
      "156 4\n",
      "157 4\n",
      "159 8\n",
      "163 4\n",
      "164 5\n",
      "165 5\n",
      "168 6\n",
      "173 4\n",
      "174 5\n",
      "197 4\n",
      "202 5\n",
      "204 6\n",
      "205 6\n",
      "206 5\n",
      "208 4\n",
      "229 5\n",
      "230 4\n",
      "238 7\n",
      "[7, 17, 19, 29, 35, 42, 44, 47, 61, 67, 72, 111, 112, 114, 115, 116, 122, 127, 134, 136, 138, 149, 156, 157, 159, 163, 164, 165, 168, 173, 174, 197, 202, 204, 205, 206, 208, 229, 230, 238]\n",
      "--------------------\n"
     ]
    }
   ],
   "source": [
    "a = []\n",
    "for i in recounted_betwee.keys():\n",
    "    if recounted_betwee[i] > 3:\n",
    "        print i,recounted_betwee[i]\n",
    "        a.append(i)\n",
    "print sorted(a)\n",
    "print '--'*10\n",
    "\n",
    "a = []\n",
    "for i in recounted_pagerank.keys():\n",
    "    if recounted_pagerank[i] > 3:\n",
    "        print i,recounted_pagerank[i]\n",
    "        a.append(i)\n",
    "print sorted(a)\n",
    "print '--'*10\n",
    "\n",
    "a = []\n",
    "for i in recounted_pca_all.keys():\n",
    "    if recounted_pca_all[i] > 3:\n",
    "        print i,recounted_pca_all[i]\n",
    "        a.append(i)\n",
    "print sorted(a)\n",
    "print '--'*10"
   ]
  },
  {
   "cell_type": "code",
   "execution_count": null,
   "metadata": {},
   "outputs": [],
   "source": []
  }
 ],
 "metadata": {
  "kernelspec": {
   "display_name": "Python 2",
   "language": "python",
   "name": "python2"
  },
  "language_info": {
   "codemirror_mode": {
    "name": "ipython",
    "version": 2
   },
   "file_extension": ".py",
   "mimetype": "text/x-python",
   "name": "python",
   "nbconvert_exporter": "python",
   "pygments_lexer": "ipython2",
   "version": "2.7.15rc1"
  }
 },
 "nbformat": 4,
 "nbformat_minor": 2
}
