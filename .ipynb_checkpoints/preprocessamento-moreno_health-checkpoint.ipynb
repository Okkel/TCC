{
 "cells": [
  {
   "cell_type": "code",
   "execution_count": 5,
   "metadata": {},
   "outputs": [],
   "source": [
    "import numpy as np\n",
    "import random\n",
    "import networkx as nx\n",
    "import matplotlib.pyplot as plt\n",
    "from scipy.stats import kendalltau\n",
    "from scipy.stats import spearmanr\n",
    "from scipy import stats\n",
    "from sklearn.decomposition import PCA\n",
    "import seaborn as sns\n",
    "import random\n",
    "import sys\n",
    "import copy\n",
    "from igraph import *\n",
    "import time\n",
    "import numpy as np\n",
    "import pickle\n",
    "import numpy as np\n",
    "import matplotlib.pyplot as plt"
   ]
  },
  {
   "cell_type": "code",
   "execution_count": 6,
   "metadata": {},
   "outputs": [],
   "source": [
    "g = Graph.Read_Ncol(\"moreno_health\", directed = False)\n",
    "with open('redes e centralidades/centralidades-moreno_health-picke.txt', 'rb') as f:\n",
    "    centralidade_list = pickle.load(f)"
   ]
  },
  {
   "cell_type": "code",
   "execution_count": 7,
   "metadata": {},
   "outputs": [
    {
     "name": "stdout",
     "output_type": "stream",
     "text": [
      "[0.014184397163120569, 0.013790386130811664, 0.013396375098502758, 0.013396375098502758, 0.013002364066193855, 0.01260835303388495, 0.01260835303388495, 0.01260835303388495, 0.012214342001576044, 0.011820330969267141] \n",
      "\n",
      "[0.022701532720147504, 0.02193561715583261, 0.017739126125853797, 0.015628498428749228, 0.015494157184433192, 0.014727541411486906, 0.01363777876205463, 0.013105175185809264, 0.012983086514920096, 0.012910265923753944] \n",
      "\n",
      "[0.0032185334701279817, 0.002608238930628355, 0.002431966599055986, 0.002424956930163909, 0.0024011012622492394, 0.0023485219778107314, 0.0022948100925847333, 0.0022127849207977533, 0.002205797978060425, 0.0020935807075559173] \n",
      "\n",
      "[0.2153212240554896, 0.21361461219215735, 0.2127823190245882, 0.21184830108685265, 0.20873727192182745, 0.20827639075138585, 0.20802585780340904, 0.20771353792881678, 0.20669979655844706, 0.2064325034762567] \n",
      "\n",
      "[0.3889630634156288, 0.38301947935168645, 0.3483431147912988, 0.30613595343816724, 0.2633466340529374, 0.26301040521933317, 0.23723858952890664, 0.21417996216091284, 0.19525004202573198, 0.16927208447229325] \n",
      "\n",
      "[606.1952380952384, 598.642857142858, 594.2214285714292, 590.1404761904761, 582.2238095238088, 580.8107142857149, 580.5940476190477, 576.1833333333318, 574.8369047619037, 574.8130952380947] \n",
      "\n",
      "[0.02200886108279721, 0.02184844888860547, 0.017634700103334084, 0.015759338235831092, 0.015446338074956765, 0.014645722726487013, 0.013464692805024474, 0.012900418555196299, 0.012770226310970575, 0.012757228920895142] \n",
      "\n"
     ]
    }
   ],
   "source": [
    "for i in centralidade_list:\n",
    "    \n",
    "    print sorted(i,reverse=True)[:10],'\\n'"
   ]
  },
  {
   "cell_type": "code",
   "execution_count": 8,
   "metadata": {},
   "outputs": [
    {
     "data": {
      "text/plain": [
       "7"
      ]
     },
     "execution_count": 8,
     "metadata": {},
     "output_type": "execute_result"
    }
   ],
   "source": [
    "len(centralidade_list)"
   ]
  },
  {
   "cell_type": "code",
   "execution_count": 9,
   "metadata": {},
   "outputs": [
    {
     "data": {
      "text/plain": [
       "(2539, 7)"
      ]
     },
     "execution_count": 9,
     "metadata": {},
     "output_type": "execute_result"
    }
   ],
   "source": [
    "X = np.array(centralidade_list)\n",
    "X = X.transpose()\n",
    "X[5] = stats.zscore(X[5])\n",
    "\n",
    "# problemas de escala\n",
    "\n",
    "# X = stats.zscore(X)\n",
    "X.shape"
   ]
  },
  {
   "cell_type": "code",
   "execution_count": 10,
   "metadata": {},
   "outputs": [
    {
     "name": "stdout",
     "output_type": "stream",
     "text": [
      "99.9999943052\n",
      "(array([0.99999994]), 1)\n",
      "(array([5928.98377195]), 1)\n"
     ]
    }
   ],
   "source": [
    "varience_values = []\n",
    "\n",
    "pca = PCA(n_components=1,svd_solver='full')\n",
    "teste = pca.fit_transform(X)\n",
    "explained_varience = pca.explained_variance_ratio_.sum()\n",
    "print(float(pca.explained_variance_ratio_.sum()*100))\n",
    "print(pca.explained_variance_ratio_,len(pca.explained_variance_ratio_))\n",
    "print(pca.singular_values_,len(pca.singular_values_))  "
   ]
  },
  {
   "cell_type": "code",
   "execution_count": 11,
   "metadata": {},
   "outputs": [
    {
     "data": {
      "text/plain": [
       "2539"
      ]
     },
     "execution_count": 11,
     "metadata": {},
     "output_type": "execute_result"
    }
   ],
   "source": [
    "lista_teste = teste.tolist()\n",
    "len(lista_teste)\n",
    "#  a partir daqui é so pegar os index igual no que ja tem\n",
    "pca_values = []\n",
    "for sublist in lista_teste:\n",
    "    for item in sublist:\n",
    "        pca_values.append(item)\n",
    "        \n",
    "len(pca_values)\n",
    "# print(flat_list[:50])"
   ]
  },
  {
   "cell_type": "code",
   "execution_count": 12,
   "metadata": {},
   "outputs": [
    {
     "data": {
      "text/plain": [
       "(2539, 8)"
      ]
     },
     "execution_count": 12,
     "metadata": {},
     "output_type": "execute_result"
    }
   ],
   "source": [
    "a = np.array(pca_values)\n",
    "a = a.reshape(len(a),1)\n",
    "X = np.append(X,a,axis=1)\n",
    "X.shape"
   ]
  },
  {
   "cell_type": "code",
   "execution_count": 13,
   "metadata": {},
   "outputs": [
    {
     "data": {
      "text/plain": [
       "['0_grau',\n",
       " '1_betweennes',\n",
       " '2_pagerank',\n",
       " '3_closeness',\n",
       " '4_eigenvector_centrality',\n",
       " '5_harmonic_centrality',\n",
       " '6_load_centrality',\n",
       " '7_PCA_all(0-6)']"
      ]
     },
     "execution_count": 13,
     "metadata": {},
     "output_type": "execute_result"
    }
   ],
   "source": [
    "labels_medidas = ['0_grau','1_betweennes','2_pagerank','3_closeness','4_eigenvector_centrality','5_harmonic_centrality','6_load_centrality','7_PCA_all(0-6)']\n",
    "labels_medidas"
   ]
  },
  {
   "cell_type": "code",
   "execution_count": 14,
   "metadata": {},
   "outputs": [],
   "source": [
    "#  A partir daqui analise de correlacao entre as medidas"
   ]
  },
  {
   "cell_type": "code",
   "execution_count": 15,
   "metadata": {},
   "outputs": [],
   "source": [
    "def calcula_PCA(matrix,col1,col2): # pca entre duas colunas\n",
    "    vindex = [i for i in range(g.vcount())]\n",
    "    \n",
    "    Y = np.array([matrix[:,col1],matrix[:,col2]])\n",
    "    Y = Y.transpose()\n",
    "#     print (Y.shape)\n",
    "#     print (Y,type(Y),type(Y[0]),len(Y[0]))\n",
    "    \n",
    "    pca = PCA(n_components=1,svd_solver='full')\n",
    "    teste = pca.fit_transform(Y)\n",
    "    explained_varience = pca.explained_variance_ratio_.sum()\n",
    "    print(float(pca.explained_variance_ratio_.sum()*100))\n",
    "    lista_teste = teste.tolist()\n",
    "    flat_list = []\n",
    "    for sublist in lista_teste:\n",
    "        for item in sublist:\n",
    "            flat_list.append(item)\n",
    "    aflat, seeds_PCA = (list(x) for x in zip(*sorted(zip(flat_list, vindex), reverse=True)))\n",
    "    return (seeds_PCA,np.array(flat_list))"
   ]
  },
  {
   "cell_type": "code",
   "execution_count": 16,
   "metadata": {},
   "outputs": [],
   "source": [
    "def calcKendall(matrix):\n",
    "    matrix_kendall = []\n",
    "    for i in range(matrix.shape[1]):\n",
    "        kend = []\n",
    "        for j in range(matrix.shape[1]):\n",
    "            tau, p_value = kendalltau(matrix[:,i],matrix[:,j])\n",
    "            kend.append(tau)\n",
    "        matrix_kendall.append(kend)\n",
    "    matrix_kendall = np.array(matrix_kendall)\n",
    "    return(matrix_kendall)"
   ]
  },
  {
   "cell_type": "code",
   "execution_count": 17,
   "metadata": {},
   "outputs": [
    {
     "data": {
      "image/png": "[encoded data removed]",
      "text/plain": [
       "<Figure size 432x288 with 2 Axes>"
      ]
     },
     "metadata": {},
     "output_type": "display_data"
    }
   ],
   "source": [
    "corr = calcKendall(X)\n",
    "# sns.heatmap(,xticklabels=labels,yticklabels=labels,linewidths=.5)\n",
    "mask = np.zeros_like(corr)\n",
    "mask[np.triu_indices_from(mask)] = True\n",
    "with sns.axes_style(\"white\"):\n",
    "    ax = sns.heatmap(corr, mask=mask,square=True,xticklabels=labels_medidas,yticklabels=labels_medidas,linewidths=.5)"
   ]
  },
  {
   "cell_type": "code",
   "execution_count": 18,
   "metadata": {},
   "outputs": [
    {
     "data": {
      "image/png": "[encoded data removed]",
      "text/plain": [
       "<Figure size 432x288 with 2 Axes>"
      ]
     },
     "metadata": {},
     "output_type": "display_data"
    }
   ],
   "source": [
    "corr = calcKendall(X)\n",
    "# sns.heatmap(,xticklabels=labels,yticklabels=labels,linewidths=.5)\n",
    "mask = np.zeros_like(corr)\n",
    "mask[np.triu_indices_from(mask)] = True\n",
    "with sns.axes_style(\"white\"):\n",
    "    ax = sns.heatmap(corr, vmin=.7,mask=mask,square=True,xticklabels=labels_medidas,yticklabels=labels_medidas,linewidths=.5)"
   ]
  },
  {
   "cell_type": "code",
   "execution_count": 20,
   "metadata": {},
   "outputs": [
    {
     "data": {
      "image/png": "[encoded data removed]",
      "text/plain": [
       "<Figure size 432x288 with 2 Axes>"
      ]
     },
     "metadata": {},
     "output_type": "display_data"
    }
   ],
   "source": [
    "corr = calcKendall(X)\n",
    "# sns.heatmap(,xticklabels=labels,yticklabels=labels,linewidths=.5)\n",
    "mask = np.zeros_like(corr)\n",
    "mask[np.triu_indices_from(mask)] = True\n",
    "with sns.axes_style(\"white\"):\n",
    "    ax = sns.heatmap(corr, vmax = .6,mask=mask,square=True,xticklabels=labels_medidas,yticklabels=labels_medidas,linewidths=.5)"
   ]
  },
  {
   "cell_type": "code",
   "execution_count": 22,
   "metadata": {},
   "outputs": [],
   "source": [
    "matrix_teste = X"
   ]
  },
  {
   "cell_type": "code",
   "execution_count": 23,
   "metadata": {},
   "outputs": [
    {
     "name": "stdout",
     "output_type": "stream",
     "text": [
      "99.9980646571\n",
      "99.9999994807\n"
     ]
    }
   ],
   "source": [
    "# Alta correlacao moreno_highschool\n",
    "\n",
    "c_1_6 = calcula_PCA(matrix_teste,1,6)\n",
    "c_3_5 = calcula_PCA(matrix_teste,3,5)\n"
   ]
  },
  {
   "cell_type": "code",
   "execution_count": 24,
   "metadata": {},
   "outputs": [
    {
     "name": "stdout",
     "output_type": "stream",
     "text": [
      "98.5552003835\n",
      "96.8532455418\n",
      "88.7656311629\n",
      "99.9999995036\n"
     ]
    }
   ],
   "source": [
    "# Baixa correlacao moreno_highschool\n",
    "c_1_2 = calcula_PCA(matrix_teste,1,2)\n",
    "c_1_3 = calcula_PCA(matrix_teste,1,3)\n",
    "c_1_4 = calcula_PCA(matrix_teste,1,4)\n",
    "c_1_5 = calcula_PCA(matrix_teste,1,5)\n",
    "\n"
   ]
  },
  {
   "cell_type": "code",
   "execution_count": 25,
   "metadata": {},
   "outputs": [
    {
     "data": {
      "text/plain": [
       "(2539, 14)"
      ]
     },
     "execution_count": 25,
     "metadata": {},
     "output_type": "execute_result"
    }
   ],
   "source": [
    "#  adicionando na matrix temporaria moreno_highschool\n",
    "matrix_teste = np.hstack((matrix_teste, np.array([c_1_6[1]]).transpose()))\n",
    "matrix_teste = np.hstack((matrix_teste, np.array([c_3_5[1]]).transpose()))\n",
    "matrix_teste = np.hstack((matrix_teste, np.array([c_1_2[1]]).transpose()))\n",
    "matrix_teste = np.hstack((matrix_teste, np.array([c_1_3[1]]).transpose()))\n",
    "matrix_teste = np.hstack((matrix_teste, np.array([c_1_4[1]]).transpose()))\n",
    "matrix_teste = np.hstack((matrix_teste, np.array([c_1_5[1]]).transpose()))\n",
    "matrix_teste.shape\n",
    "\n"
   ]
  },
  {
   "cell_type": "code",
   "execution_count": 23,
   "metadata": {},
   "outputs": [],
   "source": [
    "# olhando correlacao das novas medidas da matrix teste"
   ]
  },
  {
   "cell_type": "code",
   "execution_count": 26,
   "metadata": {},
   "outputs": [],
   "source": [
    "# moreno_highschool\n",
    "labels = ['0_grau','1_betweennes','2_pagerank','3_closeness','4_eigenvector_centrality','5_harmonic_centrality','6_load_centrality','7_PCA_all','16','35','12','13','14','15']\n",
    "\n"
   ]
  },
  {
   "cell_type": "code",
   "execution_count": 27,
   "metadata": {},
   "outputs": [
    {
     "data": {
      "image/png": "[encoded data removed]",
      "text/plain": [
       "<Figure size 720x504 with 2 Axes>"
      ]
     },
     "metadata": {
      "needs_background": "light"
     },
     "output_type": "display_data"
    }
   ],
   "source": [
    "# \n",
    "a = plt.figure(figsize=(10,7))\n",
    "corr = calcKendall(matrix_teste)\n",
    "mask = np.zeros_like(corr)\n",
    "mask[np.triu_indices_from(mask)] = True\n",
    "with sns.axes_style(\"white\"):\n",
    "    ax = sns.heatmap(corr, mask=mask,square=True,xticklabels=labels,yticklabels=labels,linewidths=.5)"
   ]
  },
  {
   "cell_type": "code",
   "execution_count": 28,
   "metadata": {},
   "outputs": [],
   "source": [
    "import pandas as pd\n"
   ]
  },
  {
   "cell_type": "code",
   "execution_count": 29,
   "metadata": {},
   "outputs": [],
   "source": [
    "vindex = [i for i in range(g.vcount())]\n",
    "\n",
    "my_list = X\n",
    "### my_list[0] = grau\n",
    "### my_list[1] = betweenness\n",
    "### my_list[2] = pagerank\n",
    "### my_list[3] = closeness\n",
    "### my_list[4] = eigenvector_centrality\n",
    "### my_list[5] = harmonic_centrality\n",
    "### my_list[6] = load_centrality \n",
    "### my_list[7] = PCA_all\n",
    "### ...etc\n",
    "aflat, seeds_grau = (list(x) for x in zip(*sorted(zip(my_list[:,0], vindex), reverse=True)))\n",
    "aflat, seeds_betweennes = (list(x) for x in zip(*sorted(zip(my_list[:,1], vindex), reverse=True)))\n",
    "aflat, seeds_pagerank = (list(x) for x in zip(*sorted(zip(my_list[:,2], vindex), reverse=True)))\n",
    "aflat, seeds_closeness = (list(x) for x in zip(*sorted(zip(my_list[:,3], vindex), reverse=True)))\n",
    "aflat, seeds_eigenvector_centrality = (list(x) for x in zip(*sorted(zip(my_list[:,4], vindex), reverse=True)))\n",
    "aflat, seeds_harmonic_centrality = (list(x) for x in zip(*sorted(zip(my_list[:,5], vindex), reverse=True)))\n",
    "aflat, seeds_load_centrality = (list(x) for x in zip(*sorted(zip(my_list[:,6], vindex), reverse=True)))\n",
    "aflat, seeds_PCA = (list(x) for x in zip(*sorted(zip(pca_values, vindex), reverse=True)))\n"
   ]
  },
  {
   "cell_type": "code",
   "execution_count": null,
   "metadata": {},
   "outputs": [],
   "source": []
  },
  {
   "cell_type": "code",
   "execution_count": 30,
   "metadata": {},
   "outputs": [],
   "source": [
    "d = {'0_grau' : seeds_grau[:100],'1_betweennes':seeds_betweennes[:100],\n",
    "     '2_pagerank' :seeds_pagerank[:100],'3_closeness':seeds_closeness[:100],\n",
    "     '4_eigenvector_centrality':seeds_eigenvector_centrality[:100],'5_harmonic_centrality':seeds_harmonic_centrality[:100],\n",
    "     '6_load_centrality':seeds_load_centrality[:100],'7_PCA_all':seeds_PCA[:100],\n",
    "     'm_1_6':c_1_6[0][:100],'m_35':c_3_5[0][:100],\n",
    "     'm_12':c_1_2[0][:100],\n",
    "     'm_13':c_1_3[0][:100],\n",
    "     'm_14':c_1_4[0][:100],'m_15':c_1_5[0][:100]}"
   ]
  },
  {
   "cell_type": "code",
   "execution_count": 31,
   "metadata": {},
   "outputs": [
    {
     "data": {
      "text/html": [
       "<div>\n",
       "<style scoped>\n",
       "    .dataframe tbody tr th:only-of-type {\n",
       "        vertical-align: middle;\n",
       "    }\n",
       "\n",
       "    .dataframe tbody tr th {\n",
       "        vertical-align: top;\n",
       "    }\n",
       "\n",
       "    .dataframe thead th {\n",
       "        text-align: right;\n",
       "    }\n",
       "</style>\n",
       "<table border=\"1\" class=\"dataframe\">\n",
       "  <thead>\n",
       "    <tr style=\"text-align: right;\">\n",
       "      <th></th>\n",
       "      <th>0_grau</th>\n",
       "      <th>1_betweennes</th>\n",
       "      <th>2_pagerank</th>\n",
       "      <th>3_closeness</th>\n",
       "      <th>4_eigenvector_centrality</th>\n",
       "      <th>5_harmonic_centrality</th>\n",
       "      <th>6_load_centrality</th>\n",
       "      <th>7_PCA_all</th>\n",
       "      <th>m_12</th>\n",
       "      <th>m_13</th>\n",
       "      <th>m_14</th>\n",
       "      <th>m_15</th>\n",
       "      <th>m_1_6</th>\n",
       "      <th>m_35</th>\n",
       "    </tr>\n",
       "  </thead>\n",
       "  <tbody>\n",
       "    <tr>\n",
       "      <th>0</th>\n",
       "      <td>2055</td>\n",
       "      <td>101</td>\n",
       "      <td>835</td>\n",
       "      <td>835</td>\n",
       "      <td>2055</td>\n",
       "      <td>835</td>\n",
       "      <td>572</td>\n",
       "      <td>2537</td>\n",
       "      <td>5</td>\n",
       "      <td>5</td>\n",
       "      <td>5</td>\n",
       "      <td>2538</td>\n",
       "      <td>5</td>\n",
       "      <td>2538</td>\n",
       "    </tr>\n",
       "    <tr>\n",
       "      <th>1</th>\n",
       "      <td>835</td>\n",
       "      <td>572</td>\n",
       "      <td>931</td>\n",
       "      <td>147</td>\n",
       "      <td>2040</td>\n",
       "      <td>604</td>\n",
       "      <td>101</td>\n",
       "      <td>2532</td>\n",
       "      <td>2538</td>\n",
       "      <td>2538</td>\n",
       "      <td>2538</td>\n",
       "      <td>2537</td>\n",
       "      <td>2538</td>\n",
       "      <td>2537</td>\n",
       "    </tr>\n",
       "    <tr>\n",
       "      <th>2</th>\n",
       "      <td>2038</td>\n",
       "      <td>714</td>\n",
       "      <td>2055</td>\n",
       "      <td>604</td>\n",
       "      <td>2038</td>\n",
       "      <td>147</td>\n",
       "      <td>714</td>\n",
       "      <td>2530</td>\n",
       "      <td>2537</td>\n",
       "      <td>2537</td>\n",
       "      <td>2537</td>\n",
       "      <td>2536</td>\n",
       "      <td>2537</td>\n",
       "      <td>2536</td>\n",
       "    </tr>\n",
       "    <tr>\n",
       "      <th>3</th>\n",
       "      <td>790</td>\n",
       "      <td>794</td>\n",
       "      <td>2038</td>\n",
       "      <td>931</td>\n",
       "      <td>2151</td>\n",
       "      <td>931</td>\n",
       "      <td>1043</td>\n",
       "      <td>2392</td>\n",
       "      <td>2536</td>\n",
       "      <td>2536</td>\n",
       "      <td>2536</td>\n",
       "      <td>2534</td>\n",
       "      <td>2536</td>\n",
       "      <td>2534</td>\n",
       "    </tr>\n",
       "    <tr>\n",
       "      <th>4</th>\n",
       "      <td>604</td>\n",
       "      <td>1043</td>\n",
       "      <td>2040</td>\n",
       "      <td>621</td>\n",
       "      <td>2106</td>\n",
       "      <td>790</td>\n",
       "      <td>794</td>\n",
       "      <td>2272</td>\n",
       "      <td>2534</td>\n",
       "      <td>2534</td>\n",
       "      <td>2534</td>\n",
       "      <td>2533</td>\n",
       "      <td>2534</td>\n",
       "      <td>2533</td>\n",
       "    </tr>\n",
       "  </tbody>\n",
       "</table>\n",
       "</div>"
      ],
      "text/plain": [
       "   0_grau  1_betweennes  2_pagerank  3_closeness  4_eigenvector_centrality  \\\n",
       "0    2055           101         835          835                      2055   \n",
       "1     835           572         931          147                      2040   \n",
       "2    2038           714        2055          604                      2038   \n",
       "3     790           794        2038          931                      2151   \n",
       "4     604          1043        2040          621                      2106   \n",
       "\n",
       "   5_harmonic_centrality  6_load_centrality  7_PCA_all  m_12  m_13  m_14  \\\n",
       "0                    835                572       2537     5     5     5   \n",
       "1                    604                101       2532  2538  2538  2538   \n",
       "2                    147                714       2530  2537  2537  2537   \n",
       "3                    931               1043       2392  2536  2536  2536   \n",
       "4                    790                794       2272  2534  2534  2534   \n",
       "\n",
       "   m_15  m_1_6  m_35  \n",
       "0  2538      5  2538  \n",
       "1  2537   2538  2537  \n",
       "2  2536   2537  2536  \n",
       "3  2534   2536  2534  \n",
       "4  2533   2534  2533  "
      ]
     },
     "execution_count": 31,
     "metadata": {},
     "output_type": "execute_result"
    }
   ],
   "source": [
    "df = pd.DataFrame(data=d)\n",
    "df.head()"
   ]
  },
  {
   "cell_type": "code",
   "execution_count": 32,
   "metadata": {},
   "outputs": [],
   "source": [
    "s = [seeds_grau[:50],seeds_betweennes[:50],\n",
    "    seeds_pagerank[:50],seeds_closeness[:50],\n",
    "    seeds_eigenvector_centrality[:50],seeds_harmonic_centrality[:50],\n",
    "    seeds_load_centrality[:50],seeds_PCA[:50],c_1_6[0][:50],\n",
    "    c_3_5[0][:50],\n",
    "     c_1_2[0][:50],c_1_3[0][:50],\n",
    "     c_1_4[0][:50],c_1_5[0][:50]]\n",
    "with open('sementes-moreno_health.txt', 'wb') as f:\n",
    "    pickle.dump(s, f)"
   ]
  },
  {
   "cell_type": "code",
   "execution_count": null,
   "metadata": {},
   "outputs": [],
   "source": []
  },
  {
   "cell_type": "code",
   "execution_count": null,
   "metadata": {},
   "outputs": [],
   "source": []
  }
 ],
 "metadata": {
  "kernelspec": {
   "display_name": "Python 2",
   "language": "python",
   "name": "python2"
  },
  "language_info": {
   "codemirror_mode": {
    "name": "ipython",
    "version": 2
   },
   "file_extension": ".py",
   "mimetype": "text/x-python",
   "name": "python",
   "nbconvert_exporter": "python",
   "pygments_lexer": "ipython2",
   "version": "2.7.15rc1"
  }
 },
 "nbformat": 4,
 "nbformat_minor": 2
}
